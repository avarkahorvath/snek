{
 "cells": [
  {
   "cell_type": "markdown",
   "id": "b7d08d50",
   "metadata": {
    "id": "b7d08d50"
   },
   "source": [
    "Loading os and trying to use GPU "
   ]
  },
  {
   "cell_type": "code",
   "execution_count": 233,
   "id": "cb7d91df",
   "metadata": {
    "colab": {
     "base_uri": "https://localhost:8080/"
    },
    "executionInfo": {
     "elapsed": 7956,
     "status": "ok",
     "timestamp": 1760103668680,
     "user": {
      "displayName": "Avarka",
      "userId": "01376155912533068519"
     },
     "user_tz": -120
    },
    "id": "cb7d91df",
    "outputId": "632fa06d-510c-411c-bd31-1a43c8eb8343"
   },
   "outputs": [
    {
     "name": "stdout",
     "output_type": "stream",
     "text": [
      "2.20.0\n"
     ]
    }
   ],
   "source": [
    "import os\n",
    "os.environ['TF_CPP_MIN_LOG_LEVEL'] = '3'\n",
    "import tensorflow as tf\n",
    "import numpy as np\n",
    "import matplotlib.pyplot as plt\n",
    "import cv2\n",
    "import pandas as pd\n",
    "# check tf version\n",
    "print(tf.__version__)\n",
    "\n",
    "gpus = tf.config.list_physical_devices('GPU')\n",
    "for device in gpus:\n",
    "    tf.config.experimental.set_memory_growth(device, True)\n",
    "    print(f\"Found GPU {device.name}, and set memory growth to True.\")\n"
   ]
  },
  {
   "cell_type": "code",
   "execution_count": 234,
   "id": "da306461",
   "metadata": {},
   "outputs": [],
   "source": [
    "#base path is the location of the repo on your computer\n",
    "BASE_PATH = r\"C:\\Users\\avark\\Documents\\snek\"\n",
    "#BASE_PATH = r\"D:\\Egyetem_adat\""
   ]
  },
  {
   "cell_type": "code",
   "execution_count": 235,
   "id": "c3072f05",
   "metadata": {},
   "outputs": [
    {
     "name": "stdout",
     "output_type": "stream",
     "text": [
      "         binomial_name  class_id  MIVS      image_path  encoded_id\n",
      "0       Bitis caudalis       157     0      168482.JPG           9\n",
      "1   Amphiesma stolatum        66     0    59067968.jpg           3\n",
      "2        Lachesis muta       857     1    42704088.jpg         126\n",
      "3         Vipera berus      1736     1  111487306.jpeg         284\n",
      "4  Coronella austriaca       387     0  111486989.jpeg          49\n"
     ]
    },
    {
     "name": "stderr",
     "output_type": "stream",
     "text": [
      "<>:8: SyntaxWarning: invalid escape sequence '\\s'\n",
      "<>:8: SyntaxWarning: invalid escape sequence '\\s'\n",
      "C:\\Users\\janos\\AppData\\Local\\Temp\\ipykernel_24532\\2163187207.py:8: SyntaxWarning: invalid escape sequence '\\s'\n",
      "  species = pd.read_csv(BASE_PATH + r\"\\src\\Data\\train_images_metadata.csv\", index_col=0)\n",
      "C:\\Users\\janos\\AppData\\Local\\Temp\\ipykernel_24532\\2163187207.py:21: SettingWithCopyWarning: \n",
      "A value is trying to be set on a copy of a slice from a DataFrame.\n",
      "Try using .loc[row_indexer,col_indexer] = value instead\n",
      "\n",
      "See the caveats in the documentation: https://pandas.pydata.org/pandas-docs/stable/user_guide/indexing.html#returning-a-view-versus-a-copy\n",
      "  relevant_info[\"encoded_id\"] = encoder.fit_transform(relevant_info[\"class_id\"])\n"
     ]
    }
   ],
   "source": [
    "from sklearn.preprocessing import LabelEncoder\n",
    "\n",
    "species = pd.read_csv(r\"D:\\Egyetem_adat\\train_images_metadata.csv\", index_col=0)\n",
    "venomous = pd.read_csv(r\"D:\\Egyetem_adat\\venomous_status_metadata.csv\", index_col=0)\n",
    "\n",
    "\"\"\"\n",
    "#read the train_images_metadata.csv file\n",
    "species = pd.read_csv(BASE_PATH + r\"\\src\\Data\\train_images_metadata.csv\", index_col=0)\n",
    "\n",
    "#read the venomous_status_metadata.csv file\n",
    "venomous = pd.read_csv(BASE_PATH + r\"\\src\\Data\\venomous_status_metadata.csv\", index_col=0)\n",
    "\"\"\"\n",
    "#merging the 2 files, now every row from species contains a column with venomous status\n",
    "combined = species.merge(venomous[[\"class_id\", \"MIVS\"]], on=\"class_id\", how=\"left\")\n",
    "\n",
    "#choosing the data you need for machine learning\n",
    "relevant_info = combined[[\"binomial_name\", \"class_id\", \"MIVS\", \"image_path\"]]\n",
    "\n",
    "#encoded_id is same as class_id, but starts from 0\n",
    "encoder = LabelEncoder()\n",
    "relevant_info[\"encoded_id\"] = encoder.fit_transform(relevant_info[\"class_id\"])\n",
    "num_classes = len(encoder.classes_)\n",
    "\n",
    "\n",
    "print(relevant_info.head())"
   ]
  },
  {
   "cell_type": "markdown",
   "id": "d98e31d7",
   "metadata": {
    "id": "d98e31d7"
   },
   "source": [
    "Loading python images from folder"
   ]
  },
  {
   "cell_type": "code",
   "execution_count": 236,
   "id": "4fe8d6f9",
   "metadata": {},
   "outputs": [
    {
     "name": "stdout",
     "output_type": "stream",
     "text": [
      "Class counts by encoded_id:\n",
      "encoded_id\n",
      "0      109\n",
      "1      514\n",
      "2      113\n",
      "3      251\n",
      "4      110\n",
      "      ... \n",
      "291    239\n",
      "292    133\n",
      "293    925\n",
      "294    199\n",
      "295    174\n",
      "Name: count, Length: 296, dtype: int64\n",
      "\n",
      "Counts list: [109, 514, 113, 251, 110, 104, 137, 123, 447, 154, 561, 717, 232, 103, 148, 143, 193, 398, 188, 462, 523, 117, 149, 341, 181, 117, 108, 129, 123, 141, 180, 222, 179, 170, 119, 350, 235, 117, 206, 105, 305, 190, 210, 233, 121, 170, 153, 403, 228, 1489, 250, 141, 143, 212, 152, 165, 234, 155, 121, 166, 142, 150, 169, 102, 152, 129, 312, 114, 101, 123, 138, 141, 127, 438, 155, 228, 230, 249, 378, 172, 369, 389, 169, 113, 118, 355, 204, 115, 231, 164, 186, 281, 192, 102, 227, 281, 145, 126, 358, 153, 372, 218, 108, 154, 192, 170, 129, 272, 137, 414, 217, 143, 110, 122, 151, 181, 305, 131, 109, 251, 108, 114, 129, 218, 701, 1065, 142, 219, 156, 146, 154, 139, 331, 145, 366, 111, 206, 265, 169, 259, 286, 696, 288, 150, 125, 435, 203, 162, 108, 138, 159, 100, 324, 293, 258, 160, 142, 248, 123, 147, 306, 212, 151, 101, 107, 110, 154, 259, 124, 104, 114, 189, 109, 121, 141, 201, 128, 533, 367, 1839, 1583, 123, 140, 140, 154, 337, 104, 156, 101, 134, 155, 387, 139, 374, 166, 358, 190, 123, 113, 138, 485, 162, 112, 120, 152, 135, 104, 164, 136, 232, 146, 251, 342, 103, 243, 123, 142, 153, 115, 216, 100, 162, 570, 166, 145, 139, 124, 150, 96, 111, 401, 153, 518, 311, 208, 137, 170, 143, 144, 133, 145, 125, 317, 132, 153, 110, 101, 107, 142, 264, 489, 130, 163, 142, 136, 688, 240, 225, 230, 233, 164, 266, 215, 160, 117, 172, 160, 156, 164, 202, 115, 144, 174, 370, 126, 128, 137, 104, 132, 153, 128, 214, 411, 276, 1221, 125, 106, 107, 136, 122, 243, 239, 133, 925, 199, 174]\n"
     ]
    }
   ],
   "source": [
    "class_counts = relevant_info[\"encoded_id\"].value_counts().sort_index()\n",
    "\n",
    "counts_list = class_counts.tolist()\n",
    "\n",
    "\n",
    "\n",
    "print(\"Class counts by encoded_id:\")\n",
    "print(class_counts)\n",
    "\n",
    "print(\"\\nCounts list:\", counts_list)\n",
    "\n"
   ]
  },
  {
   "cell_type": "code",
   "execution_count": 237,
   "id": "5c99c384",
   "metadata": {},
   "outputs": [],
   "source": [
    "AUTOTUNE = tf.data.AUTOTUNE\n",
    "\n",
    "IMAGE_RESOLUTION=128\n",
    "\n",
    "\n",
    "# Create a TensorFlow dataset for image loading\n",
    "def load_img(path):\n",
    "    img = tf.io.read_file(path)\n",
    "\n",
    "    #3 channels because of rgb\n",
    "    #img = tf.image.decode_jpeg(img, 3)\n",
    "    #expand_animations = False needed, otherwise it\n",
    "    img = tf.image.decode_image(img, channels=3, expand_animations = False)  \n",
    "    img = tf.image.resize(img, [IMAGE_RESOLUTION, IMAGE_RESOLUTION])\n",
    "    img = img / 255.0  # Normalize to [0, 1]\n",
    "    return img\n",
    "\n",
    "# Find all of the image_paths \n",
    "#image_path = [os.path.join(BASE_PATH, 'src', 'Data', 'train_images_small', img_path) for img_path in relevant_info['image_path'].values]\n",
    "image_path = [os.path.join(r\"D:\\Egyetem_adat\\train_images_small\\train_images_small\", img_path) for img_path in relevant_info['image_path'].values]  \n",
    "\n",
    "# Create the dataset and apply transformations\n",
    "ds = tf.data.Dataset.from_tensor_slices(image_path)\n",
    "ds = ds.map(load_img, num_parallel_calls=AUTOTUNE)  # Load images in parallel\n",
    "ds = ds.batch(32).prefetch(AUTOTUNE)  # Batch and prefetch for efficiency\n"
   ]
  },
  {
   "cell_type": "code",
   "execution_count": 238,
   "id": "2c816399",
   "metadata": {},
   "outputs": [],
   "source": [
    "\n",
    "# Labels are going to be either venomous, or non-venomous\n",
    "labels_species = relevant_info['encoded_id'].values\n",
    "labels_venom = relevant_info['MIVS'].values\n",
    "\n",
    "#return processed image and corresponding label\n",
    "def generator():\n",
    "    for img_path, species_label, venom_label in zip(image_path, labels_species, labels_venom):\n",
    "        img = load_img(img_path)\n",
    "        yield img, {'species': species_label, 'venom': venom_label}\n",
    "\n",
    "\n",
    "# Create dataset\n",
    "dataset = tf.data.Dataset.from_generator(\n",
    "    generator,\n",
    "    output_signature=(\n",
    "        tf.TensorSpec(shape=(IMAGE_RESOLUTION, IMAGE_RESOLUTION, 3), dtype=tf.float32),\n",
    "        {\n",
    "            'species': tf.TensorSpec(shape=(), dtype=tf.int32),\n",
    "            'venom': tf.TensorSpec(shape=(), dtype=tf.int32)\n",
    "        }\n",
    "    )\n",
    ")\n",
    "\n",
    "# Batch and prefetch for efficiency\n",
    "BATCH_SIZE = 16\n",
    "dataset = dataset.batch(BATCH_SIZE).prefetch(tf.data.AUTOTUNE)\n"
   ]
  },
  {
   "cell_type": "code",
   "execution_count": 239,
   "id": "a59cb450",
   "metadata": {},
   "outputs": [],
   "source": [
    "from collections import Counter\n",
    "\n",
    "def balance_species_dataset(image_paths, species_labels, venom_labels):\n",
    "    from collections import Counter\n",
    "    species_labels = np.array(species_labels)\n",
    "    venom_labels = np.array(venom_labels)\n",
    "    image_paths = np.array(image_paths)\n",
    "\n",
    "    counts = Counter(species_labels)\n",
    "    values = np.array(list(counts.values()))\n",
    "    target_count = int(np.median(values))\n",
    "\n",
    "    new_image_paths = []\n",
    "    new_species_labels = []\n",
    "    new_venom_labels = []\n",
    "\n",
    "    for label in np.unique(species_labels):\n",
    "        indices = np.where(species_labels == label)[0]\n",
    "        n_samples = len(indices)\n",
    "\n",
    "        if n_samples < target_count:\n",
    "            extra_indices = np.random.choice(indices, target_count - n_samples, replace=True)\n",
    "            final_indices = np.concatenate([indices, extra_indices])\n",
    "        elif n_samples > target_count:\n",
    "            final_indices = np.random.choice(indices, target_count, replace=False)\n",
    "        else:\n",
    "            final_indices = indices\n",
    "\n",
    "        new_image_paths.extend(image_paths[final_indices])\n",
    "        new_species_labels.extend(species_labels[final_indices])\n",
    "        new_venom_labels.extend(venom_labels[final_indices])\n",
    "\n",
    "    #print(f\"Balanced dataset created: {len(np.unique(species_labels))} classes\")\n",
    "    #print(f\"  Target per class: {target_count}\")\n",
    "    #print(f\"  Original size: {len(image_paths)}, New size: {len(new_image_paths)}\")\n",
    "\n",
    "    return np.array(new_image_paths), np.array(new_species_labels), np.array(new_venom_labels)\n"
   ]
  },
  {
   "cell_type": "code",
   "execution_count": 240,
   "id": "8212b82e",
   "metadata": {},
   "outputs": [],
   "source": [
    "class DynamicBalancingCallback(tf.keras.callbacks.Callback):\n",
    "    def __init__(self, image_paths, species_labels, venom_labels, batch_size=16):\n",
    "        super().__init__()\n",
    "        self.image_paths = np.array(image_paths)\n",
    "        self.species_labels = np.array(species_labels)\n",
    "        self.venom_labels = np.array(venom_labels)\n",
    "        self.batch_size = batch_size\n",
    "\n",
    "    def on_epoch_begin(self, epoch, logs=None):\n",
    "        new_paths, new_species, new_venom = balance_species_dataset(\n",
    "            self.image_paths, self.species_labels, self.venom_labels\n",
    "        )\n",
    "\n",
    "        new_train_dataset = tf.data.Dataset.from_tensor_slices(\n",
    "            (new_paths, {'species': new_species, 'venom': new_venom})\n",
    "        )\n",
    "        new_train_dataset = new_train_dataset.map(\n",
    "            lambda x, y: (load_img(x), y),\n",
    "            num_parallel_calls=tf.data.AUTOTUNE\n",
    "        )\n",
    "        new_train_dataset = new_train_dataset.batch(self.batch_size).prefetch(tf.data.AUTOTUNE)\n",
    "\n",
    "        self.model.train_dataset = new_train_dataset\n",
    "\n"
   ]
  },
  {
   "cell_type": "code",
   "execution_count": 241,
   "id": "ab5e8a53",
   "metadata": {},
   "outputs": [
    {
     "name": "stdout",
     "output_type": "stream",
     "text": [
      "Balanced species label distribution:\n",
      "Counter({np.int64(0): 124, np.int64(1): 124, np.int64(2): 124, np.int64(3): 124, np.int64(4): 124, np.int64(5): 124, np.int64(6): 124, np.int64(7): 124, np.int64(8): 124, np.int64(9): 124, np.int64(10): 124, np.int64(11): 124, np.int64(12): 124, np.int64(13): 124, np.int64(14): 124, np.int64(15): 124, np.int64(16): 124, np.int64(17): 124, np.int64(18): 124, np.int64(19): 124, np.int64(20): 124, np.int64(21): 124, np.int64(22): 124, np.int64(23): 124, np.int64(24): 124, np.int64(25): 124, np.int64(26): 124, np.int64(27): 124, np.int64(28): 124, np.int64(29): 124, np.int64(30): 124, np.int64(31): 124, np.int64(32): 124, np.int64(33): 124, np.int64(34): 124, np.int64(35): 124, np.int64(36): 124, np.int64(37): 124, np.int64(38): 124, np.int64(39): 124, np.int64(40): 124, np.int64(41): 124, np.int64(42): 124, np.int64(43): 124, np.int64(44): 124, np.int64(45): 124, np.int64(46): 124, np.int64(47): 124, np.int64(48): 124, np.int64(49): 124, np.int64(50): 124, np.int64(51): 124, np.int64(52): 124, np.int64(53): 124, np.int64(54): 124, np.int64(55): 124, np.int64(56): 124, np.int64(57): 124, np.int64(58): 124, np.int64(59): 124, np.int64(60): 124, np.int64(61): 124, np.int64(62): 124, np.int64(63): 124, np.int64(64): 124, np.int64(65): 124, np.int64(66): 124, np.int64(67): 124, np.int64(68): 124, np.int64(69): 124, np.int64(70): 124, np.int64(71): 124, np.int64(72): 124, np.int64(73): 124, np.int64(74): 124, np.int64(75): 124, np.int64(76): 124, np.int64(77): 124, np.int64(78): 124, np.int64(79): 124, np.int64(80): 124, np.int64(81): 124, np.int64(82): 124, np.int64(83): 124, np.int64(84): 124, np.int64(85): 124, np.int64(86): 124, np.int64(87): 124, np.int64(88): 124, np.int64(89): 124, np.int64(90): 124, np.int64(91): 124, np.int64(92): 124, np.int64(93): 124, np.int64(94): 124, np.int64(95): 124, np.int64(96): 124, np.int64(97): 124, np.int64(98): 124, np.int64(99): 124, np.int64(100): 124, np.int64(101): 124, np.int64(102): 124, np.int64(103): 124, np.int64(104): 124, np.int64(105): 124, np.int64(106): 124, np.int64(107): 124, np.int64(108): 124, np.int64(109): 124, np.int64(110): 124, np.int64(111): 124, np.int64(112): 124, np.int64(113): 124, np.int64(114): 124, np.int64(115): 124, np.int64(116): 124, np.int64(117): 124, np.int64(118): 124, np.int64(119): 124, np.int64(120): 124, np.int64(121): 124, np.int64(122): 124, np.int64(123): 124, np.int64(124): 124, np.int64(125): 124, np.int64(126): 124, np.int64(127): 124, np.int64(128): 124, np.int64(129): 124, np.int64(130): 124, np.int64(131): 124, np.int64(132): 124, np.int64(133): 124, np.int64(134): 124, np.int64(135): 124, np.int64(136): 124, np.int64(137): 124, np.int64(138): 124, np.int64(139): 124, np.int64(140): 124, np.int64(141): 124, np.int64(142): 124, np.int64(143): 124, np.int64(144): 124, np.int64(145): 124, np.int64(146): 124, np.int64(147): 124, np.int64(148): 124, np.int64(149): 124, np.int64(150): 124, np.int64(151): 124, np.int64(152): 124, np.int64(153): 124, np.int64(154): 124, np.int64(155): 124, np.int64(156): 124, np.int64(157): 124, np.int64(158): 124, np.int64(159): 124, np.int64(160): 124, np.int64(161): 124, np.int64(162): 124, np.int64(163): 124, np.int64(164): 124, np.int64(165): 124, np.int64(166): 124, np.int64(167): 124, np.int64(168): 124, np.int64(169): 124, np.int64(170): 124, np.int64(171): 124, np.int64(172): 124, np.int64(173): 124, np.int64(174): 124, np.int64(175): 124, np.int64(176): 124, np.int64(177): 124, np.int64(178): 124, np.int64(179): 124, np.int64(180): 124, np.int64(181): 124, np.int64(182): 124, np.int64(183): 124, np.int64(184): 124, np.int64(185): 124, np.int64(186): 124, np.int64(187): 124, np.int64(188): 124, np.int64(189): 124, np.int64(190): 124, np.int64(191): 124, np.int64(192): 124, np.int64(193): 124, np.int64(194): 124, np.int64(195): 124, np.int64(196): 124, np.int64(197): 124, np.int64(198): 124, np.int64(199): 124, np.int64(200): 124, np.int64(201): 124, np.int64(202): 124, np.int64(203): 124, np.int64(204): 124, np.int64(205): 124, np.int64(206): 124, np.int64(207): 124, np.int64(208): 124, np.int64(209): 124, np.int64(210): 124, np.int64(211): 124, np.int64(212): 124, np.int64(213): 124, np.int64(214): 124, np.int64(215): 124, np.int64(216): 124, np.int64(217): 124, np.int64(218): 124, np.int64(219): 124, np.int64(220): 124, np.int64(221): 124, np.int64(222): 124, np.int64(223): 124, np.int64(224): 124, np.int64(225): 124, np.int64(226): 124, np.int64(227): 124, np.int64(228): 124, np.int64(229): 124, np.int64(230): 124, np.int64(231): 124, np.int64(232): 124, np.int64(233): 124, np.int64(234): 124, np.int64(235): 124, np.int64(236): 124, np.int64(237): 124, np.int64(238): 124, np.int64(239): 124, np.int64(240): 124, np.int64(241): 124, np.int64(242): 124, np.int64(243): 124, np.int64(244): 124, np.int64(245): 124, np.int64(246): 124, np.int64(247): 124, np.int64(248): 124, np.int64(249): 124, np.int64(250): 124, np.int64(251): 124, np.int64(252): 124, np.int64(253): 124, np.int64(254): 124, np.int64(255): 124, np.int64(256): 124, np.int64(257): 124, np.int64(258): 124, np.int64(259): 124, np.int64(260): 124, np.int64(261): 124, np.int64(262): 124, np.int64(263): 124, np.int64(264): 124, np.int64(265): 124, np.int64(266): 124, np.int64(267): 124, np.int64(268): 124, np.int64(269): 124, np.int64(270): 124, np.int64(271): 124, np.int64(272): 124, np.int64(273): 124, np.int64(274): 124, np.int64(275): 124, np.int64(276): 124, np.int64(277): 124, np.int64(278): 124, np.int64(279): 124, np.int64(280): 124, np.int64(281): 124, np.int64(282): 124, np.int64(283): 124, np.int64(284): 124, np.int64(285): 124, np.int64(286): 124, np.int64(287): 124, np.int64(288): 124, np.int64(289): 124, np.int64(290): 124, np.int64(291): 124, np.int64(292): 124, np.int64(293): 124, np.int64(294): 124, np.int64(295): 124})\n"
     ]
    }
   ],
   "source": [
    "from sklearn.model_selection import train_test_split\n",
    "\n",
    "#train_image_paths = [os.path.join(BASE_PATH, 'src', 'Data', 'train_images_small', path) for path in relevant_info[\"image_path\"]]\n",
    "train_image_paths = [os.path.join(r\"D:\\Egyetem_adat\\train_images_small\\train_images_small\", path) for path in relevant_info[\"image_path\"]]\n",
    "\n",
    "#labels_species = relevant_info['encoded_id'].values\n",
    "#labels_venom   = relevant_info['MIVS'].values\n",
    "\n",
    "train_image_paths, temp_image_paths, train_species_labels, temp_species_labels, train_venom_labels, temp_venom_labels = train_test_split(\n",
    "    train_image_paths, labels_species, labels_venom, test_size=0.2, random_state=42, stratify=labels_species\n",
    ")\n",
    "\n",
    "val_image_paths, test_image_paths, val_species_labels, test_species_labels, val_venom_labels, test_venom_labels = train_test_split(\n",
    "    temp_image_paths, temp_species_labels, temp_venom_labels, test_size=0.5, random_state=42, stratify=temp_species_labels\n",
    ")\n",
    "\n",
    "train_image_paths_bal, train_species_labels_bal, train_venom_labels_bal = balance_species_dataset(\n",
    "    train_image_paths,\n",
    "    train_species_labels,\n",
    "    train_venom_labels\n",
    ")\n",
    "\n",
    "\n",
    "# Train dataset\n",
    "train_dataset = tf.data.Dataset.from_tensor_slices(\n",
    "    (train_image_paths_bal, {'species': train_species_labels_bal, 'venom': train_venom_labels_bal})\n",
    ")\n",
    "train_dataset = train_dataset.map(\n",
    "    lambda x, y: (load_img(x), y),\n",
    "    num_parallel_calls=tf.data.AUTOTUNE\n",
    ")\n",
    "train_dataset = train_dataset.batch(32).prefetch(tf.data.AUTOTUNE)\n",
    "print(\"Balanced species label distribution:\")\n",
    "print(Counter(train_species_labels_bal))\n",
    "\n",
    "\n",
    "# Validation dataset\n",
    "val_dataset = tf.data.Dataset.from_tensor_slices(\n",
    "    (val_image_paths, {'species': val_species_labels, 'venom': val_venom_labels})\n",
    ")\n",
    "val_dataset = val_dataset.map(\n",
    "    lambda x, y: (load_img(x), y),\n",
    "    num_parallel_calls=tf.data.AUTOTUNE\n",
    ")\n",
    "val_dataset = val_dataset.batch(32).prefetch(tf.data.AUTOTUNE)\n",
    "\n"
   ]
  },
  {
   "cell_type": "code",
   "execution_count": 242,
   "id": "032c4ced",
   "metadata": {},
   "outputs": [
    {
     "data": {
      "text/html": [
       "<pre style=\"white-space:pre;overflow-x:auto;line-height:normal;font-family:Menlo,'DejaVu Sans Mono',consolas,'Courier New',monospace\"><span style=\"font-weight: bold\">Model: \"functional_15\"</span>\n",
       "</pre>\n"
      ],
      "text/plain": [
       "\u001b[1mModel: \"functional_15\"\u001b[0m\n"
      ]
     },
     "metadata": {},
     "output_type": "display_data"
    },
    {
     "data": {
      "text/html": [
       "<pre style=\"white-space:pre;overflow-x:auto;line-height:normal;font-family:Menlo,'DejaVu Sans Mono',consolas,'Courier New',monospace\">┏━━━━━━━━━━━━━━━━━━━━━┳━━━━━━━━━━━━━━━━━━━┳━━━━━━━━━━━━┳━━━━━━━━━━━━━━━━━━━┓\n",
       "┃<span style=\"font-weight: bold\"> Layer (type)        </span>┃<span style=\"font-weight: bold\"> Output Shape      </span>┃<span style=\"font-weight: bold\">    Param # </span>┃<span style=\"font-weight: bold\"> Connected to      </span>┃\n",
       "┡━━━━━━━━━━━━━━━━━━━━━╇━━━━━━━━━━━━━━━━━━━╇━━━━━━━━━━━━╇━━━━━━━━━━━━━━━━━━━┩\n",
       "│ input_layer_6       │ (<span style=\"color: #00d7ff; text-decoration-color: #00d7ff\">None</span>, <span style=\"color: #00af00; text-decoration-color: #00af00\">128</span>, <span style=\"color: #00af00; text-decoration-color: #00af00\">128</span>,  │          <span style=\"color: #00af00; text-decoration-color: #00af00\">0</span> │ -                 │\n",
       "│ (<span style=\"color: #0087ff; text-decoration-color: #0087ff\">InputLayer</span>)        │ <span style=\"color: #00af00; text-decoration-color: #00af00\">3</span>)                │            │                   │\n",
       "├─────────────────────┼───────────────────┼────────────┼───────────────────┤\n",
       "│ conv2d_60 (<span style=\"color: #0087ff; text-decoration-color: #0087ff\">Conv2D</span>)  │ (<span style=\"color: #00d7ff; text-decoration-color: #00d7ff\">None</span>, <span style=\"color: #00af00; text-decoration-color: #00af00\">128</span>, <span style=\"color: #00af00; text-decoration-color: #00af00\">128</span>,  │        <span style=\"color: #00af00; text-decoration-color: #00af00\">896</span> │ input_layer_6[<span style=\"color: #00af00; text-decoration-color: #00af00\">0</span>]… │\n",
       "│                     │ <span style=\"color: #00af00; text-decoration-color: #00af00\">32</span>)               │            │                   │\n",
       "├─────────────────────┼───────────────────┼────────────┼───────────────────┤\n",
       "│ max_pooling2d_60    │ (<span style=\"color: #00d7ff; text-decoration-color: #00d7ff\">None</span>, <span style=\"color: #00af00; text-decoration-color: #00af00\">64</span>, <span style=\"color: #00af00; text-decoration-color: #00af00\">64</span>,    │          <span style=\"color: #00af00; text-decoration-color: #00af00\">0</span> │ conv2d_60[<span style=\"color: #00af00; text-decoration-color: #00af00\">0</span>][<span style=\"color: #00af00; text-decoration-color: #00af00\">0</span>]   │\n",
       "│ (<span style=\"color: #0087ff; text-decoration-color: #0087ff\">MaxPooling2D</span>)      │ <span style=\"color: #00af00; text-decoration-color: #00af00\">32</span>)               │            │                   │\n",
       "├─────────────────────┼───────────────────┼────────────┼───────────────────┤\n",
       "│ conv2d_61 (<span style=\"color: #0087ff; text-decoration-color: #0087ff\">Conv2D</span>)  │ (<span style=\"color: #00d7ff; text-decoration-color: #00d7ff\">None</span>, <span style=\"color: #00af00; text-decoration-color: #00af00\">64</span>, <span style=\"color: #00af00; text-decoration-color: #00af00\">64</span>,    │     <span style=\"color: #00af00; text-decoration-color: #00af00\">18,496</span> │ max_pooling2d_60… │\n",
       "│                     │ <span style=\"color: #00af00; text-decoration-color: #00af00\">64</span>)               │            │                   │\n",
       "├─────────────────────┼───────────────────┼────────────┼───────────────────┤\n",
       "│ max_pooling2d_61    │ (<span style=\"color: #00d7ff; text-decoration-color: #00d7ff\">None</span>, <span style=\"color: #00af00; text-decoration-color: #00af00\">32</span>, <span style=\"color: #00af00; text-decoration-color: #00af00\">32</span>,    │          <span style=\"color: #00af00; text-decoration-color: #00af00\">0</span> │ conv2d_61[<span style=\"color: #00af00; text-decoration-color: #00af00\">0</span>][<span style=\"color: #00af00; text-decoration-color: #00af00\">0</span>]   │\n",
       "│ (<span style=\"color: #0087ff; text-decoration-color: #0087ff\">MaxPooling2D</span>)      │ <span style=\"color: #00af00; text-decoration-color: #00af00\">64</span>)               │            │                   │\n",
       "├─────────────────────┼───────────────────┼────────────┼───────────────────┤\n",
       "│ conv2d_62 (<span style=\"color: #0087ff; text-decoration-color: #0087ff\">Conv2D</span>)  │ (<span style=\"color: #00d7ff; text-decoration-color: #00d7ff\">None</span>, <span style=\"color: #00af00; text-decoration-color: #00af00\">32</span>, <span style=\"color: #00af00; text-decoration-color: #00af00\">32</span>,    │     <span style=\"color: #00af00; text-decoration-color: #00af00\">73,856</span> │ max_pooling2d_61… │\n",
       "│                     │ <span style=\"color: #00af00; text-decoration-color: #00af00\">128</span>)              │            │                   │\n",
       "├─────────────────────┼───────────────────┼────────────┼───────────────────┤\n",
       "│ max_pooling2d_62    │ (<span style=\"color: #00d7ff; text-decoration-color: #00d7ff\">None</span>, <span style=\"color: #00af00; text-decoration-color: #00af00\">16</span>, <span style=\"color: #00af00; text-decoration-color: #00af00\">16</span>,    │          <span style=\"color: #00af00; text-decoration-color: #00af00\">0</span> │ conv2d_62[<span style=\"color: #00af00; text-decoration-color: #00af00\">0</span>][<span style=\"color: #00af00; text-decoration-color: #00af00\">0</span>]   │\n",
       "│ (<span style=\"color: #0087ff; text-decoration-color: #0087ff\">MaxPooling2D</span>)      │ <span style=\"color: #00af00; text-decoration-color: #00af00\">128</span>)              │            │                   │\n",
       "├─────────────────────┼───────────────────┼────────────┼───────────────────┤\n",
       "│ conv2d_63 (<span style=\"color: #0087ff; text-decoration-color: #0087ff\">Conv2D</span>)  │ (<span style=\"color: #00d7ff; text-decoration-color: #00d7ff\">None</span>, <span style=\"color: #00af00; text-decoration-color: #00af00\">16</span>, <span style=\"color: #00af00; text-decoration-color: #00af00\">16</span>,    │     <span style=\"color: #00af00; text-decoration-color: #00af00\">36,896</span> │ max_pooling2d_62… │\n",
       "│                     │ <span style=\"color: #00af00; text-decoration-color: #00af00\">32</span>)               │            │                   │\n",
       "├─────────────────────┼───────────────────┼────────────┼───────────────────┤\n",
       "│ max_pooling2d_63    │ (<span style=\"color: #00d7ff; text-decoration-color: #00d7ff\">None</span>, <span style=\"color: #00af00; text-decoration-color: #00af00\">8</span>, <span style=\"color: #00af00; text-decoration-color: #00af00\">8</span>, <span style=\"color: #00af00; text-decoration-color: #00af00\">32</span>)  │          <span style=\"color: #00af00; text-decoration-color: #00af00\">0</span> │ conv2d_63[<span style=\"color: #00af00; text-decoration-color: #00af00\">0</span>][<span style=\"color: #00af00; text-decoration-color: #00af00\">0</span>]   │\n",
       "│ (<span style=\"color: #0087ff; text-decoration-color: #0087ff\">MaxPooling2D</span>)      │                   │            │                   │\n",
       "├─────────────────────┼───────────────────┼────────────┼───────────────────┤\n",
       "│ flatten_15          │ (<span style=\"color: #00d7ff; text-decoration-color: #00d7ff\">None</span>, <span style=\"color: #00af00; text-decoration-color: #00af00\">2048</span>)      │          <span style=\"color: #00af00; text-decoration-color: #00af00\">0</span> │ max_pooling2d_63… │\n",
       "│ (<span style=\"color: #0087ff; text-decoration-color: #0087ff\">Flatten</span>)           │                   │            │                   │\n",
       "├─────────────────────┼───────────────────┼────────────┼───────────────────┤\n",
       "│ dense_15 (<span style=\"color: #0087ff; text-decoration-color: #0087ff\">Dense</span>)    │ (<span style=\"color: #00d7ff; text-decoration-color: #00d7ff\">None</span>, <span style=\"color: #00af00; text-decoration-color: #00af00\">128</span>)       │    <span style=\"color: #00af00; text-decoration-color: #00af00\">262,272</span> │ flatten_15[<span style=\"color: #00af00; text-decoration-color: #00af00\">0</span>][<span style=\"color: #00af00; text-decoration-color: #00af00\">0</span>]  │\n",
       "├─────────────────────┼───────────────────┼────────────┼───────────────────┤\n",
       "│ dropout_15          │ (<span style=\"color: #00d7ff; text-decoration-color: #00d7ff\">None</span>, <span style=\"color: #00af00; text-decoration-color: #00af00\">128</span>)       │          <span style=\"color: #00af00; text-decoration-color: #00af00\">0</span> │ dense_15[<span style=\"color: #00af00; text-decoration-color: #00af00\">0</span>][<span style=\"color: #00af00; text-decoration-color: #00af00\">0</span>]    │\n",
       "│ (<span style=\"color: #0087ff; text-decoration-color: #0087ff\">Dropout</span>)           │                   │            │                   │\n",
       "├─────────────────────┼───────────────────┼────────────┼───────────────────┤\n",
       "│ species (<span style=\"color: #0087ff; text-decoration-color: #0087ff\">Dense</span>)     │ (<span style=\"color: #00d7ff; text-decoration-color: #00d7ff\">None</span>, <span style=\"color: #00af00; text-decoration-color: #00af00\">296</span>)       │     <span style=\"color: #00af00; text-decoration-color: #00af00\">38,184</span> │ dropout_15[<span style=\"color: #00af00; text-decoration-color: #00af00\">0</span>][<span style=\"color: #00af00; text-decoration-color: #00af00\">0</span>]  │\n",
       "├─────────────────────┼───────────────────┼────────────┼───────────────────┤\n",
       "│ venom (<span style=\"color: #0087ff; text-decoration-color: #0087ff\">Dense</span>)       │ (<span style=\"color: #00d7ff; text-decoration-color: #00d7ff\">None</span>, <span style=\"color: #00af00; text-decoration-color: #00af00\">1</span>)         │        <span style=\"color: #00af00; text-decoration-color: #00af00\">129</span> │ dropout_15[<span style=\"color: #00af00; text-decoration-color: #00af00\">0</span>][<span style=\"color: #00af00; text-decoration-color: #00af00\">0</span>]  │\n",
       "└─────────────────────┴───────────────────┴────────────┴───────────────────┘\n",
       "</pre>\n"
      ],
      "text/plain": [
       "┏━━━━━━━━━━━━━━━━━━━━━┳━━━━━━━━━━━━━━━━━━━┳━━━━━━━━━━━━┳━━━━━━━━━━━━━━━━━━━┓\n",
       "┃\u001b[1m \u001b[0m\u001b[1mLayer (type)       \u001b[0m\u001b[1m \u001b[0m┃\u001b[1m \u001b[0m\u001b[1mOutput Shape     \u001b[0m\u001b[1m \u001b[0m┃\u001b[1m \u001b[0m\u001b[1m   Param #\u001b[0m\u001b[1m \u001b[0m┃\u001b[1m \u001b[0m\u001b[1mConnected to     \u001b[0m\u001b[1m \u001b[0m┃\n",
       "┡━━━━━━━━━━━━━━━━━━━━━╇━━━━━━━━━━━━━━━━━━━╇━━━━━━━━━━━━╇━━━━━━━━━━━━━━━━━━━┩\n",
       "│ input_layer_6       │ (\u001b[38;5;45mNone\u001b[0m, \u001b[38;5;34m128\u001b[0m, \u001b[38;5;34m128\u001b[0m,  │          \u001b[38;5;34m0\u001b[0m │ -                 │\n",
       "│ (\u001b[38;5;33mInputLayer\u001b[0m)        │ \u001b[38;5;34m3\u001b[0m)                │            │                   │\n",
       "├─────────────────────┼───────────────────┼────────────┼───────────────────┤\n",
       "│ conv2d_60 (\u001b[38;5;33mConv2D\u001b[0m)  │ (\u001b[38;5;45mNone\u001b[0m, \u001b[38;5;34m128\u001b[0m, \u001b[38;5;34m128\u001b[0m,  │        \u001b[38;5;34m896\u001b[0m │ input_layer_6[\u001b[38;5;34m0\u001b[0m]… │\n",
       "│                     │ \u001b[38;5;34m32\u001b[0m)               │            │                   │\n",
       "├─────────────────────┼───────────────────┼────────────┼───────────────────┤\n",
       "│ max_pooling2d_60    │ (\u001b[38;5;45mNone\u001b[0m, \u001b[38;5;34m64\u001b[0m, \u001b[38;5;34m64\u001b[0m,    │          \u001b[38;5;34m0\u001b[0m │ conv2d_60[\u001b[38;5;34m0\u001b[0m][\u001b[38;5;34m0\u001b[0m]   │\n",
       "│ (\u001b[38;5;33mMaxPooling2D\u001b[0m)      │ \u001b[38;5;34m32\u001b[0m)               │            │                   │\n",
       "├─────────────────────┼───────────────────┼────────────┼───────────────────┤\n",
       "│ conv2d_61 (\u001b[38;5;33mConv2D\u001b[0m)  │ (\u001b[38;5;45mNone\u001b[0m, \u001b[38;5;34m64\u001b[0m, \u001b[38;5;34m64\u001b[0m,    │     \u001b[38;5;34m18,496\u001b[0m │ max_pooling2d_60… │\n",
       "│                     │ \u001b[38;5;34m64\u001b[0m)               │            │                   │\n",
       "├─────────────────────┼───────────────────┼────────────┼───────────────────┤\n",
       "│ max_pooling2d_61    │ (\u001b[38;5;45mNone\u001b[0m, \u001b[38;5;34m32\u001b[0m, \u001b[38;5;34m32\u001b[0m,    │          \u001b[38;5;34m0\u001b[0m │ conv2d_61[\u001b[38;5;34m0\u001b[0m][\u001b[38;5;34m0\u001b[0m]   │\n",
       "│ (\u001b[38;5;33mMaxPooling2D\u001b[0m)      │ \u001b[38;5;34m64\u001b[0m)               │            │                   │\n",
       "├─────────────────────┼───────────────────┼────────────┼───────────────────┤\n",
       "│ conv2d_62 (\u001b[38;5;33mConv2D\u001b[0m)  │ (\u001b[38;5;45mNone\u001b[0m, \u001b[38;5;34m32\u001b[0m, \u001b[38;5;34m32\u001b[0m,    │     \u001b[38;5;34m73,856\u001b[0m │ max_pooling2d_61… │\n",
       "│                     │ \u001b[38;5;34m128\u001b[0m)              │            │                   │\n",
       "├─────────────────────┼───────────────────┼────────────┼───────────────────┤\n",
       "│ max_pooling2d_62    │ (\u001b[38;5;45mNone\u001b[0m, \u001b[38;5;34m16\u001b[0m, \u001b[38;5;34m16\u001b[0m,    │          \u001b[38;5;34m0\u001b[0m │ conv2d_62[\u001b[38;5;34m0\u001b[0m][\u001b[38;5;34m0\u001b[0m]   │\n",
       "│ (\u001b[38;5;33mMaxPooling2D\u001b[0m)      │ \u001b[38;5;34m128\u001b[0m)              │            │                   │\n",
       "├─────────────────────┼───────────────────┼────────────┼───────────────────┤\n",
       "│ conv2d_63 (\u001b[38;5;33mConv2D\u001b[0m)  │ (\u001b[38;5;45mNone\u001b[0m, \u001b[38;5;34m16\u001b[0m, \u001b[38;5;34m16\u001b[0m,    │     \u001b[38;5;34m36,896\u001b[0m │ max_pooling2d_62… │\n",
       "│                     │ \u001b[38;5;34m32\u001b[0m)               │            │                   │\n",
       "├─────────────────────┼───────────────────┼────────────┼───────────────────┤\n",
       "│ max_pooling2d_63    │ (\u001b[38;5;45mNone\u001b[0m, \u001b[38;5;34m8\u001b[0m, \u001b[38;5;34m8\u001b[0m, \u001b[38;5;34m32\u001b[0m)  │          \u001b[38;5;34m0\u001b[0m │ conv2d_63[\u001b[38;5;34m0\u001b[0m][\u001b[38;5;34m0\u001b[0m]   │\n",
       "│ (\u001b[38;5;33mMaxPooling2D\u001b[0m)      │                   │            │                   │\n",
       "├─────────────────────┼───────────────────┼────────────┼───────────────────┤\n",
       "│ flatten_15          │ (\u001b[38;5;45mNone\u001b[0m, \u001b[38;5;34m2048\u001b[0m)      │          \u001b[38;5;34m0\u001b[0m │ max_pooling2d_63… │\n",
       "│ (\u001b[38;5;33mFlatten\u001b[0m)           │                   │            │                   │\n",
       "├─────────────────────┼───────────────────┼────────────┼───────────────────┤\n",
       "│ dense_15 (\u001b[38;5;33mDense\u001b[0m)    │ (\u001b[38;5;45mNone\u001b[0m, \u001b[38;5;34m128\u001b[0m)       │    \u001b[38;5;34m262,272\u001b[0m │ flatten_15[\u001b[38;5;34m0\u001b[0m][\u001b[38;5;34m0\u001b[0m]  │\n",
       "├─────────────────────┼───────────────────┼────────────┼───────────────────┤\n",
       "│ dropout_15          │ (\u001b[38;5;45mNone\u001b[0m, \u001b[38;5;34m128\u001b[0m)       │          \u001b[38;5;34m0\u001b[0m │ dense_15[\u001b[38;5;34m0\u001b[0m][\u001b[38;5;34m0\u001b[0m]    │\n",
       "│ (\u001b[38;5;33mDropout\u001b[0m)           │                   │            │                   │\n",
       "├─────────────────────┼───────────────────┼────────────┼───────────────────┤\n",
       "│ species (\u001b[38;5;33mDense\u001b[0m)     │ (\u001b[38;5;45mNone\u001b[0m, \u001b[38;5;34m296\u001b[0m)       │     \u001b[38;5;34m38,184\u001b[0m │ dropout_15[\u001b[38;5;34m0\u001b[0m][\u001b[38;5;34m0\u001b[0m]  │\n",
       "├─────────────────────┼───────────────────┼────────────┼───────────────────┤\n",
       "│ venom (\u001b[38;5;33mDense\u001b[0m)       │ (\u001b[38;5;45mNone\u001b[0m, \u001b[38;5;34m1\u001b[0m)         │        \u001b[38;5;34m129\u001b[0m │ dropout_15[\u001b[38;5;34m0\u001b[0m][\u001b[38;5;34m0\u001b[0m]  │\n",
       "└─────────────────────┴───────────────────┴────────────┴───────────────────┘\n"
      ]
     },
     "metadata": {},
     "output_type": "display_data"
    },
    {
     "data": {
      "text/html": [
       "<pre style=\"white-space:pre;overflow-x:auto;line-height:normal;font-family:Menlo,'DejaVu Sans Mono',consolas,'Courier New',monospace\"><span style=\"font-weight: bold\"> Total params: </span><span style=\"color: #00af00; text-decoration-color: #00af00\">430,729</span> (1.64 MB)\n",
       "</pre>\n"
      ],
      "text/plain": [
       "\u001b[1m Total params: \u001b[0m\u001b[38;5;34m430,729\u001b[0m (1.64 MB)\n"
      ]
     },
     "metadata": {},
     "output_type": "display_data"
    },
    {
     "data": {
      "text/html": [
       "<pre style=\"white-space:pre;overflow-x:auto;line-height:normal;font-family:Menlo,'DejaVu Sans Mono',consolas,'Courier New',monospace\"><span style=\"font-weight: bold\"> Trainable params: </span><span style=\"color: #00af00; text-decoration-color: #00af00\">430,729</span> (1.64 MB)\n",
       "</pre>\n"
      ],
      "text/plain": [
       "\u001b[1m Trainable params: \u001b[0m\u001b[38;5;34m430,729\u001b[0m (1.64 MB)\n"
      ]
     },
     "metadata": {},
     "output_type": "display_data"
    },
    {
     "data": {
      "text/html": [
       "<pre style=\"white-space:pre;overflow-x:auto;line-height:normal;font-family:Menlo,'DejaVu Sans Mono',consolas,'Courier New',monospace\"><span style=\"font-weight: bold\"> Non-trainable params: </span><span style=\"color: #00af00; text-decoration-color: #00af00\">0</span> (0.00 B)\n",
       "</pre>\n"
      ],
      "text/plain": [
       "\u001b[1m Non-trainable params: \u001b[0m\u001b[38;5;34m0\u001b[0m (0.00 B)\n"
      ]
     },
     "metadata": {},
     "output_type": "display_data"
    }
   ],
   "source": [
    "from tensorflow.keras.layers import Flatten, Conv2D, Dense, Input, MaxPooling2D, Dropout, Rescaling\n",
    "from tensorflow.keras import Model\n",
    "\n",
    "from re import X\n",
    "\n",
    "input = Input(shape=(IMAGE_RESOLUTION, IMAGE_RESOLUTION, 3))\n",
    "x = Rescaling(1./255)(input)\n",
    "\n",
    "x = Conv2D(32, (3,3), padding='same', activation=\"relu\")(input)\n",
    "x = MaxPooling2D((2,2), padding='valid')(x)\n",
    "\n",
    "x = Conv2D(64, (3,3), padding='same', activation=\"relu\")(x)\n",
    "x = MaxPooling2D((2,2), padding='valid')(x)\n",
    "\n",
    "x = Conv2D(128, (3,3), padding='same', activation=\"relu\")(x)\n",
    "x = MaxPooling2D((2,2), padding='valid')(x)\n",
    "\n",
    "x = Conv2D(32, (3,3), padding='same', activation=\"relu\")(x)\n",
    "x = MaxPooling2D((2,2), padding='valid')(x)\n",
    "\n",
    "x = Flatten()(x)\n",
    "\n",
    "x = Dense(128, activation='relu')(x)\n",
    "\n",
    "x = Dropout(0.3)(x)\n",
    "\n",
    "species_output = Dense(num_classes, activation='softmax', name='species')(x)\n",
    "venom_output = Dense(1, activation='sigmoid', name='venom')(x)\n",
    "\n",
    "model = Model(inputs=input, outputs=[species_output, venom_output])\n",
    "\n",
    "model.summary()"
   ]
  },
  {
   "cell_type": "code",
   "execution_count": 246,
   "id": "f4ff5585",
   "metadata": {},
   "outputs": [],
   "source": [
    "def custom_species_loss(y_true, y_pred):\n",
    "    \"\"\"Species classification loss with custom weighting\"\"\"\n",
    "    return tf.keras.losses.sparse_categorical_crossentropy(y_true, y_pred)\n",
    "\n",
    "def custom_venom_loss(y_true, y_pred):\n",
    "    \"\"\"Venom classification loss with extra penalty for venomous snakes\"\"\"\n",
    "    base_loss = tf.keras.losses.binary_crossentropy(y_true, y_pred)\n",
    "    \n",
    "    penalty_mask = tf.where(y_true > 0.5, (1.0 + 4.0 * (1.0 - y_pred)), 1.0)\n",
    "\n",
    "    weighted_loss = base_loss * penalty_mask\n",
    "    return weighted_loss"
   ]
  },
  {
   "cell_type": "code",
   "execution_count": null,
   "id": "76bc1628",
   "metadata": {},
   "outputs": [],
   "source": [
    "model.compile(\n",
    "    optimizer='adam',\n",
    "    #loss={'species': 'sparse_categorical_crossentropy', 'venom': 'binary_crossentropy'},\n",
    "    loss={\n",
    "        'species': 'sparse_categorical_crossentropy',\n",
    "        'venom': custom_venom_loss\n",
    "    },\n",
    "    metrics={\n",
    "        'species': 'accuracy',\n",
    "        'venom': 'accuracy'\n",
    "    }\n",
    "    )"
   ]
  },
  {
   "cell_type": "code",
   "execution_count": 245,
   "id": "fd77baa0",
   "metadata": {},
   "outputs": [
    {
     "name": "stdout",
     "output_type": "stream",
     "text": [
      "Epoch 1/10\n",
      "\u001b[1m1147/1147\u001b[0m \u001b[32m━━━━━━━━━━━━━━━━━━━━\u001b[0m\u001b[37m\u001b[0m \u001b[1m0s\u001b[0m 148ms/step - loss: 6.3736 - species_accuracy: 0.0179 - species_loss: 5.7493 - venom_accuracy: 0.7061 - venom_loss: 0.6243\n",
      "Epoch 1: val_loss improved from None to 6.30259, saving model to model.keras\n",
      "\u001b[1m1147/1147\u001b[0m \u001b[32m━━━━━━━━━━━━━━━━━━━━\u001b[0m\u001b[37m\u001b[0m \u001b[1m182s\u001b[0m 158ms/step - loss: 6.5141 - species_accuracy: 0.0030 - species_loss: 5.9001 - venom_accuracy: 0.7625 - venom_loss: 0.6140 - val_loss: 6.3026 - val_species_accuracy: 0.0017 - val_species_loss: 5.7229 - val_venom_accuracy: 0.7998 - val_venom_loss: 0.5798\n",
      "Epoch 2/10\n",
      "\u001b[1m1147/1147\u001b[0m \u001b[32m━━━━━━━━━━━━━━━━━━━━\u001b[0m\u001b[37m\u001b[0m \u001b[1m0s\u001b[0m 127ms/step - loss: 6.1108 - species_accuracy: 0.0222 - species_loss: 5.5116 - venom_accuracy: 0.7385 - venom_loss: 0.5992\n",
      "Epoch 2: val_loss improved from 6.30259 to 6.24955, saving model to model.keras\n",
      "\u001b[1m1147/1147\u001b[0m \u001b[32m━━━━━━━━━━━━━━━━━━━━\u001b[0m\u001b[37m\u001b[0m \u001b[1m156s\u001b[0m 136ms/step - loss: 6.3139 - species_accuracy: 0.0034 - species_loss: 5.7469 - venom_accuracy: 0.7770 - venom_loss: 0.5670 - val_loss: 6.2495 - val_species_accuracy: 0.0017 - val_species_loss: 5.7184 - val_venom_accuracy: 0.7998 - val_venom_loss: 0.5313\n",
      "Epoch 3/10\n",
      "\u001b[1m1147/1147\u001b[0m \u001b[32m━━━━━━━━━━━━━━━━━━━━\u001b[0m\u001b[37m\u001b[0m \u001b[1m0s\u001b[0m 141ms/step - loss: 6.1027 - species_accuracy: 0.0222 - species_loss: 5.5240 - venom_accuracy: 0.7385 - venom_loss: 0.5787\n",
      "Epoch 3: val_loss improved from 6.24955 to 6.22815, saving model to model.keras\n",
      "\u001b[1m1147/1147\u001b[0m \u001b[32m━━━━━━━━━━━━━━━━━━━━\u001b[0m\u001b[37m\u001b[0m \u001b[1m217s\u001b[0m 149ms/step - loss: 6.2859 - species_accuracy: 0.0034 - species_loss: 5.7427 - venom_accuracy: 0.7770 - venom_loss: 0.5431 - val_loss: 6.2281 - val_species_accuracy: 0.0017 - val_species_loss: 5.7143 - val_venom_accuracy: 0.7998 - val_venom_loss: 0.5140\n",
      "Epoch 4/10\n",
      "\u001b[1m1147/1147\u001b[0m \u001b[32m━━━━━━━━━━━━━━━━━━━━\u001b[0m\u001b[37m\u001b[0m \u001b[1m0s\u001b[0m 125ms/step - loss: 6.1112 - species_accuracy: 0.0222 - species_loss: 5.5359 - venom_accuracy: 0.7385 - venom_loss: 0.5752\n",
      "Epoch 4: val_loss improved from 6.22815 to 6.21790, saving model to model.keras\n",
      "\u001b[1m1147/1147\u001b[0m \u001b[32m━━━━━━━━━━━━━━━━━━━━\u001b[0m\u001b[37m\u001b[0m \u001b[1m180s\u001b[0m 130ms/step - loss: 6.2746 - species_accuracy: 0.0034 - species_loss: 5.7390 - venom_accuracy: 0.7770 - venom_loss: 0.5356 - val_loss: 6.2179 - val_species_accuracy: 0.0017 - val_species_loss: 5.7109 - val_venom_accuracy: 0.7998 - val_venom_loss: 0.5072\n",
      "Epoch 5/10\n",
      "\u001b[1m 801/1147\u001b[0m \u001b[32m━━━━━━━━━━━━━\u001b[0m\u001b[37m━━━━━━━\u001b[0m \u001b[1m48s\u001b[0m 140ms/step - loss: 6.0857 - species_accuracy: 0.0300 - species_loss: 5.4895 - venom_accuracy: 0.7203 - venom_loss: 0.5962"
     ]
    },
    {
     "ename": "KeyboardInterrupt",
     "evalue": "",
     "output_type": "error",
     "traceback": [
      "\u001b[31m---------------------------------------------------------------------------\u001b[39m",
      "\u001b[31mKeyboardInterrupt\u001b[39m                         Traceback (most recent call last)",
      "\u001b[36mCell\u001b[39m\u001b[36m \u001b[39m\u001b[32mIn[245]\u001b[39m\u001b[32m, line 13\u001b[39m\n\u001b[32m      4\u001b[39m dynamic_balancer = DynamicBalancingCallback(\n\u001b[32m      5\u001b[39m     train_image_paths,\n\u001b[32m      6\u001b[39m     train_species_labels,\n\u001b[32m      7\u001b[39m     train_venom_labels,\n\u001b[32m      8\u001b[39m     batch_size=\u001b[32m16\u001b[39m\n\u001b[32m      9\u001b[39m )\n\u001b[32m     10\u001b[39m \u001b[38;5;66;03m#for batch in train_dataset.take(1):\u001b[39;00m\n\u001b[32m     11\u001b[39m \u001b[38;5;66;03m#    print(batch)\u001b[39;00m\n\u001b[32m     12\u001b[39m \u001b[38;5;66;03m# model training\u001b[39;00m\n\u001b[32m---> \u001b[39m\u001b[32m13\u001b[39m model_history = \u001b[43mmodel\u001b[49m\u001b[43m.\u001b[49m\u001b[43mfit\u001b[49m\u001b[43m(\u001b[49m\n\u001b[32m     14\u001b[39m \u001b[43m                            \u001b[49m\u001b[43mx\u001b[49m\u001b[43m=\u001b[49m\u001b[43m \u001b[49m\u001b[43mtrain_dataset\u001b[49m\u001b[43m,\u001b[49m\n\u001b[32m     15\u001b[39m \u001b[43m                            \u001b[49m\u001b[43mepochs\u001b[49m\u001b[43m=\u001b[49m\u001b[43m \u001b[49m\u001b[43mn_epochs\u001b[49m\u001b[43m,\u001b[49m\n\u001b[32m     16\u001b[39m \u001b[43m                            \u001b[49m\u001b[43mvalidation_data\u001b[49m\u001b[43m=\u001b[49m\u001b[43m \u001b[49m\u001b[43mval_dataset\u001b[49m\u001b[43m,\u001b[49m\n\u001b[32m     17\u001b[39m \u001b[43m                            \u001b[49m\u001b[43mcallbacks\u001b[49m\u001b[43m=\u001b[49m\u001b[43m[\u001b[49m\u001b[43mmodel_checkpoint_callback\u001b[49m\u001b[43m,\u001b[49m\u001b[43m \u001b[49m\u001b[43mdynamic_balancer\u001b[49m\u001b[43m]\u001b[49m\u001b[43m)\u001b[49m\n\u001b[32m     21\u001b[39m model.load_weights(\u001b[33m'\u001b[39m\u001b[33mmodel.keras\u001b[39m\u001b[33m'\u001b[39m)  \u001b[38;5;66;03m# load weights back\u001b[39;00m\n",
      "\u001b[36mFile \u001b[39m\u001b[32mc:\\Users\\janos\\AppData\\Local\\Programs\\Python\\Python313\\Lib\\site-packages\\keras\\src\\utils\\traceback_utils.py:117\u001b[39m, in \u001b[36mfilter_traceback.<locals>.error_handler\u001b[39m\u001b[34m(*args, **kwargs)\u001b[39m\n\u001b[32m    115\u001b[39m filtered_tb = \u001b[38;5;28;01mNone\u001b[39;00m\n\u001b[32m    116\u001b[39m \u001b[38;5;28;01mtry\u001b[39;00m:\n\u001b[32m--> \u001b[39m\u001b[32m117\u001b[39m     \u001b[38;5;28;01mreturn\u001b[39;00m \u001b[43mfn\u001b[49m\u001b[43m(\u001b[49m\u001b[43m*\u001b[49m\u001b[43margs\u001b[49m\u001b[43m,\u001b[49m\u001b[43m \u001b[49m\u001b[43m*\u001b[49m\u001b[43m*\u001b[49m\u001b[43mkwargs\u001b[49m\u001b[43m)\u001b[49m\n\u001b[32m    118\u001b[39m \u001b[38;5;28;01mexcept\u001b[39;00m \u001b[38;5;167;01mException\u001b[39;00m \u001b[38;5;28;01mas\u001b[39;00m e:\n\u001b[32m    119\u001b[39m     filtered_tb = _process_traceback_frames(e.__traceback__)\n",
      "\u001b[36mFile \u001b[39m\u001b[32mc:\\Users\\janos\\AppData\\Local\\Programs\\Python\\Python313\\Lib\\site-packages\\keras\\src\\backend\\tensorflow\\trainer.py:377\u001b[39m, in \u001b[36mTensorFlowTrainer.fit\u001b[39m\u001b[34m(self, x, y, batch_size, epochs, verbose, callbacks, validation_split, validation_data, shuffle, class_weight, sample_weight, initial_epoch, steps_per_epoch, validation_steps, validation_batch_size, validation_freq)\u001b[39m\n\u001b[32m    375\u001b[39m \u001b[38;5;28;01mfor\u001b[39;00m begin_step, end_step, iterator \u001b[38;5;129;01min\u001b[39;00m epoch_iterator:\n\u001b[32m    376\u001b[39m     callbacks.on_train_batch_begin(begin_step)\n\u001b[32m--> \u001b[39m\u001b[32m377\u001b[39m     logs = \u001b[38;5;28;43mself\u001b[39;49m\u001b[43m.\u001b[49m\u001b[43mtrain_function\u001b[49m\u001b[43m(\u001b[49m\u001b[43miterator\u001b[49m\u001b[43m)\u001b[49m\n\u001b[32m    378\u001b[39m     callbacks.on_train_batch_end(end_step, logs)\n\u001b[32m    379\u001b[39m     \u001b[38;5;28;01mif\u001b[39;00m \u001b[38;5;28mself\u001b[39m.stop_training:\n",
      "\u001b[36mFile \u001b[39m\u001b[32mc:\\Users\\janos\\AppData\\Local\\Programs\\Python\\Python313\\Lib\\site-packages\\keras\\src\\backend\\tensorflow\\trainer.py:220\u001b[39m, in \u001b[36mTensorFlowTrainer._make_function.<locals>.function\u001b[39m\u001b[34m(iterator)\u001b[39m\n\u001b[32m    216\u001b[39m \u001b[38;5;28;01mdef\u001b[39;00m\u001b[38;5;250m \u001b[39m\u001b[34mfunction\u001b[39m(iterator):\n\u001b[32m    217\u001b[39m     \u001b[38;5;28;01mif\u001b[39;00m \u001b[38;5;28misinstance\u001b[39m(\n\u001b[32m    218\u001b[39m         iterator, (tf.data.Iterator, tf.distribute.DistributedIterator)\n\u001b[32m    219\u001b[39m     ):\n\u001b[32m--> \u001b[39m\u001b[32m220\u001b[39m         opt_outputs = \u001b[43mmulti_step_on_iterator\u001b[49m\u001b[43m(\u001b[49m\u001b[43miterator\u001b[49m\u001b[43m)\u001b[49m\n\u001b[32m    221\u001b[39m         \u001b[38;5;28;01mif\u001b[39;00m \u001b[38;5;129;01mnot\u001b[39;00m opt_outputs.has_value():\n\u001b[32m    222\u001b[39m             \u001b[38;5;28;01mraise\u001b[39;00m \u001b[38;5;167;01mStopIteration\u001b[39;00m\n",
      "\u001b[36mFile \u001b[39m\u001b[32mc:\\Users\\janos\\AppData\\Local\\Programs\\Python\\Python313\\Lib\\site-packages\\tensorflow\\python\\util\\traceback_utils.py:150\u001b[39m, in \u001b[36mfilter_traceback.<locals>.error_handler\u001b[39m\u001b[34m(*args, **kwargs)\u001b[39m\n\u001b[32m    148\u001b[39m filtered_tb = \u001b[38;5;28;01mNone\u001b[39;00m\n\u001b[32m    149\u001b[39m \u001b[38;5;28;01mtry\u001b[39;00m:\n\u001b[32m--> \u001b[39m\u001b[32m150\u001b[39m   \u001b[38;5;28;01mreturn\u001b[39;00m \u001b[43mfn\u001b[49m\u001b[43m(\u001b[49m\u001b[43m*\u001b[49m\u001b[43margs\u001b[49m\u001b[43m,\u001b[49m\u001b[43m \u001b[49m\u001b[43m*\u001b[49m\u001b[43m*\u001b[49m\u001b[43mkwargs\u001b[49m\u001b[43m)\u001b[49m\n\u001b[32m    151\u001b[39m \u001b[38;5;28;01mexcept\u001b[39;00m \u001b[38;5;167;01mException\u001b[39;00m \u001b[38;5;28;01mas\u001b[39;00m e:\n\u001b[32m    152\u001b[39m   filtered_tb = _process_traceback_frames(e.__traceback__)\n",
      "\u001b[36mFile \u001b[39m\u001b[32mc:\\Users\\janos\\AppData\\Local\\Programs\\Python\\Python313\\Lib\\site-packages\\tensorflow\\python\\eager\\polymorphic_function\\polymorphic_function.py:833\u001b[39m, in \u001b[36mFunction.__call__\u001b[39m\u001b[34m(self, *args, **kwds)\u001b[39m\n\u001b[32m    830\u001b[39m compiler = \u001b[33m\"\u001b[39m\u001b[33mxla\u001b[39m\u001b[33m\"\u001b[39m \u001b[38;5;28;01mif\u001b[39;00m \u001b[38;5;28mself\u001b[39m._jit_compile \u001b[38;5;28;01melse\u001b[39;00m \u001b[33m\"\u001b[39m\u001b[33mnonXla\u001b[39m\u001b[33m\"\u001b[39m\n\u001b[32m    832\u001b[39m \u001b[38;5;28;01mwith\u001b[39;00m OptionalXlaContext(\u001b[38;5;28mself\u001b[39m._jit_compile):\n\u001b[32m--> \u001b[39m\u001b[32m833\u001b[39m   result = \u001b[38;5;28;43mself\u001b[39;49m\u001b[43m.\u001b[49m\u001b[43m_call\u001b[49m\u001b[43m(\u001b[49m\u001b[43m*\u001b[49m\u001b[43margs\u001b[49m\u001b[43m,\u001b[49m\u001b[43m \u001b[49m\u001b[43m*\u001b[49m\u001b[43m*\u001b[49m\u001b[43mkwds\u001b[49m\u001b[43m)\u001b[49m\n\u001b[32m    835\u001b[39m new_tracing_count = \u001b[38;5;28mself\u001b[39m.experimental_get_tracing_count()\n\u001b[32m    836\u001b[39m without_tracing = (tracing_count == new_tracing_count)\n",
      "\u001b[36mFile \u001b[39m\u001b[32mc:\\Users\\janos\\AppData\\Local\\Programs\\Python\\Python313\\Lib\\site-packages\\tensorflow\\python\\eager\\polymorphic_function\\polymorphic_function.py:878\u001b[39m, in \u001b[36mFunction._call\u001b[39m\u001b[34m(self, *args, **kwds)\u001b[39m\n\u001b[32m    875\u001b[39m \u001b[38;5;28mself\u001b[39m._lock.release()\n\u001b[32m    876\u001b[39m \u001b[38;5;66;03m# In this case we have not created variables on the first call. So we can\u001b[39;00m\n\u001b[32m    877\u001b[39m \u001b[38;5;66;03m# run the first trace but we should fail if variables are created.\u001b[39;00m\n\u001b[32m--> \u001b[39m\u001b[32m878\u001b[39m results = \u001b[43mtracing_compilation\u001b[49m\u001b[43m.\u001b[49m\u001b[43mcall_function\u001b[49m\u001b[43m(\u001b[49m\n\u001b[32m    879\u001b[39m \u001b[43m    \u001b[49m\u001b[43margs\u001b[49m\u001b[43m,\u001b[49m\u001b[43m \u001b[49m\u001b[43mkwds\u001b[49m\u001b[43m,\u001b[49m\u001b[43m \u001b[49m\u001b[38;5;28;43mself\u001b[39;49m\u001b[43m.\u001b[49m\u001b[43m_variable_creation_config\u001b[49m\n\u001b[32m    880\u001b[39m \u001b[43m\u001b[49m\u001b[43m)\u001b[49m\n\u001b[32m    881\u001b[39m \u001b[38;5;28;01mif\u001b[39;00m \u001b[38;5;28mself\u001b[39m._created_variables:\n\u001b[32m    882\u001b[39m   \u001b[38;5;28;01mraise\u001b[39;00m \u001b[38;5;167;01mValueError\u001b[39;00m(\u001b[33m\"\u001b[39m\u001b[33mCreating variables on a non-first call to a function\u001b[39m\u001b[33m\"\u001b[39m\n\u001b[32m    883\u001b[39m                    \u001b[33m\"\u001b[39m\u001b[33m decorated with tf.function.\u001b[39m\u001b[33m\"\u001b[39m)\n",
      "\u001b[36mFile \u001b[39m\u001b[32mc:\\Users\\janos\\AppData\\Local\\Programs\\Python\\Python313\\Lib\\site-packages\\tensorflow\\python\\eager\\polymorphic_function\\tracing_compilation.py:139\u001b[39m, in \u001b[36mcall_function\u001b[39m\u001b[34m(args, kwargs, tracing_options)\u001b[39m\n\u001b[32m    137\u001b[39m bound_args = function.function_type.bind(*args, **kwargs)\n\u001b[32m    138\u001b[39m flat_inputs = function.function_type.unpack_inputs(bound_args)\n\u001b[32m--> \u001b[39m\u001b[32m139\u001b[39m \u001b[38;5;28;01mreturn\u001b[39;00m \u001b[43mfunction\u001b[49m\u001b[43m.\u001b[49m\u001b[43m_call_flat\u001b[49m\u001b[43m(\u001b[49m\u001b[43m  \u001b[49m\u001b[38;5;66;43;03m# pylint: disable=protected-access\u001b[39;49;00m\n\u001b[32m    140\u001b[39m \u001b[43m    \u001b[49m\u001b[43mflat_inputs\u001b[49m\u001b[43m,\u001b[49m\u001b[43m \u001b[49m\u001b[43mcaptured_inputs\u001b[49m\u001b[43m=\u001b[49m\u001b[43mfunction\u001b[49m\u001b[43m.\u001b[49m\u001b[43mcaptured_inputs\u001b[49m\n\u001b[32m    141\u001b[39m \u001b[43m\u001b[49m\u001b[43m)\u001b[49m\n",
      "\u001b[36mFile \u001b[39m\u001b[32mc:\\Users\\janos\\AppData\\Local\\Programs\\Python\\Python313\\Lib\\site-packages\\tensorflow\\python\\eager\\polymorphic_function\\concrete_function.py:1322\u001b[39m, in \u001b[36mConcreteFunction._call_flat\u001b[39m\u001b[34m(self, tensor_inputs, captured_inputs)\u001b[39m\n\u001b[32m   1318\u001b[39m possible_gradient_type = gradients_util.PossibleTapeGradientTypes(args)\n\u001b[32m   1319\u001b[39m \u001b[38;5;28;01mif\u001b[39;00m (possible_gradient_type == gradients_util.POSSIBLE_GRADIENT_TYPES_NONE\n\u001b[32m   1320\u001b[39m     \u001b[38;5;129;01mand\u001b[39;00m executing_eagerly):\n\u001b[32m   1321\u001b[39m   \u001b[38;5;66;03m# No tape is watching; skip to running the function.\u001b[39;00m\n\u001b[32m-> \u001b[39m\u001b[32m1322\u001b[39m   \u001b[38;5;28;01mreturn\u001b[39;00m \u001b[38;5;28;43mself\u001b[39;49m\u001b[43m.\u001b[49m\u001b[43m_inference_function\u001b[49m\u001b[43m.\u001b[49m\u001b[43mcall_preflattened\u001b[49m\u001b[43m(\u001b[49m\u001b[43margs\u001b[49m\u001b[43m)\u001b[49m\n\u001b[32m   1323\u001b[39m forward_backward = \u001b[38;5;28mself\u001b[39m._select_forward_and_backward_functions(\n\u001b[32m   1324\u001b[39m     args,\n\u001b[32m   1325\u001b[39m     possible_gradient_type,\n\u001b[32m   1326\u001b[39m     executing_eagerly)\n\u001b[32m   1327\u001b[39m forward_function, args_with_tangents = forward_backward.forward()\n",
      "\u001b[36mFile \u001b[39m\u001b[32mc:\\Users\\janos\\AppData\\Local\\Programs\\Python\\Python313\\Lib\\site-packages\\tensorflow\\python\\eager\\polymorphic_function\\atomic_function.py:216\u001b[39m, in \u001b[36mAtomicFunction.call_preflattened\u001b[39m\u001b[34m(self, args)\u001b[39m\n\u001b[32m    214\u001b[39m \u001b[38;5;28;01mdef\u001b[39;00m\u001b[38;5;250m \u001b[39m\u001b[34mcall_preflattened\u001b[39m(\u001b[38;5;28mself\u001b[39m, args: Sequence[core.Tensor]) -> Any:\n\u001b[32m    215\u001b[39m \u001b[38;5;250m  \u001b[39m\u001b[33;03m\"\"\"Calls with flattened tensor inputs and returns the structured output.\"\"\"\u001b[39;00m\n\u001b[32m--> \u001b[39m\u001b[32m216\u001b[39m   flat_outputs = \u001b[38;5;28;43mself\u001b[39;49m\u001b[43m.\u001b[49m\u001b[43mcall_flat\u001b[49m\u001b[43m(\u001b[49m\u001b[43m*\u001b[49m\u001b[43margs\u001b[49m\u001b[43m)\u001b[49m\n\u001b[32m    217\u001b[39m   \u001b[38;5;28;01mreturn\u001b[39;00m \u001b[38;5;28mself\u001b[39m.function_type.pack_output(flat_outputs)\n",
      "\u001b[36mFile \u001b[39m\u001b[32mc:\\Users\\janos\\AppData\\Local\\Programs\\Python\\Python313\\Lib\\site-packages\\tensorflow\\python\\eager\\polymorphic_function\\atomic_function.py:251\u001b[39m, in \u001b[36mAtomicFunction.call_flat\u001b[39m\u001b[34m(self, *args)\u001b[39m\n\u001b[32m    249\u001b[39m \u001b[38;5;28;01mwith\u001b[39;00m record.stop_recording():\n\u001b[32m    250\u001b[39m   \u001b[38;5;28;01mif\u001b[39;00m \u001b[38;5;28mself\u001b[39m._bound_context.executing_eagerly():\n\u001b[32m--> \u001b[39m\u001b[32m251\u001b[39m     outputs = \u001b[38;5;28;43mself\u001b[39;49m\u001b[43m.\u001b[49m\u001b[43m_bound_context\u001b[49m\u001b[43m.\u001b[49m\u001b[43mcall_function\u001b[49m\u001b[43m(\u001b[49m\n\u001b[32m    252\u001b[39m \u001b[43m        \u001b[49m\u001b[38;5;28;43mself\u001b[39;49m\u001b[43m.\u001b[49m\u001b[43mname\u001b[49m\u001b[43m,\u001b[49m\n\u001b[32m    253\u001b[39m \u001b[43m        \u001b[49m\u001b[38;5;28;43mlist\u001b[39;49m\u001b[43m(\u001b[49m\u001b[43margs\u001b[49m\u001b[43m)\u001b[49m\u001b[43m,\u001b[49m\n\u001b[32m    254\u001b[39m \u001b[43m        \u001b[49m\u001b[38;5;28;43mlen\u001b[39;49m\u001b[43m(\u001b[49m\u001b[38;5;28;43mself\u001b[39;49m\u001b[43m.\u001b[49m\u001b[43mfunction_type\u001b[49m\u001b[43m.\u001b[49m\u001b[43mflat_outputs\u001b[49m\u001b[43m)\u001b[49m\u001b[43m,\u001b[49m\n\u001b[32m    255\u001b[39m \u001b[43m    \u001b[49m\u001b[43m)\u001b[49m\n\u001b[32m    256\u001b[39m   \u001b[38;5;28;01melse\u001b[39;00m:\n\u001b[32m    257\u001b[39m     outputs = make_call_op_in_graph(\n\u001b[32m    258\u001b[39m         \u001b[38;5;28mself\u001b[39m,\n\u001b[32m    259\u001b[39m         \u001b[38;5;28mlist\u001b[39m(args),\n\u001b[32m    260\u001b[39m         \u001b[38;5;28mself\u001b[39m._bound_context.function_call_options.as_attrs(),\n\u001b[32m    261\u001b[39m     )\n",
      "\u001b[36mFile \u001b[39m\u001b[32mc:\\Users\\janos\\AppData\\Local\\Programs\\Python\\Python313\\Lib\\site-packages\\tensorflow\\python\\eager\\context.py:1688\u001b[39m, in \u001b[36mContext.call_function\u001b[39m\u001b[34m(self, name, tensor_inputs, num_outputs)\u001b[39m\n\u001b[32m   1686\u001b[39m cancellation_context = cancellation.context()\n\u001b[32m   1687\u001b[39m \u001b[38;5;28;01mif\u001b[39;00m cancellation_context \u001b[38;5;129;01mis\u001b[39;00m \u001b[38;5;28;01mNone\u001b[39;00m:\n\u001b[32m-> \u001b[39m\u001b[32m1688\u001b[39m   outputs = \u001b[43mexecute\u001b[49m\u001b[43m.\u001b[49m\u001b[43mexecute\u001b[49m\u001b[43m(\u001b[49m\n\u001b[32m   1689\u001b[39m \u001b[43m      \u001b[49m\u001b[43mname\u001b[49m\u001b[43m.\u001b[49m\u001b[43mdecode\u001b[49m\u001b[43m(\u001b[49m\u001b[33;43m\"\u001b[39;49m\u001b[33;43mutf-8\u001b[39;49m\u001b[33;43m\"\u001b[39;49m\u001b[43m)\u001b[49m\u001b[43m,\u001b[49m\n\u001b[32m   1690\u001b[39m \u001b[43m      \u001b[49m\u001b[43mnum_outputs\u001b[49m\u001b[43m=\u001b[49m\u001b[43mnum_outputs\u001b[49m\u001b[43m,\u001b[49m\n\u001b[32m   1691\u001b[39m \u001b[43m      \u001b[49m\u001b[43minputs\u001b[49m\u001b[43m=\u001b[49m\u001b[43mtensor_inputs\u001b[49m\u001b[43m,\u001b[49m\n\u001b[32m   1692\u001b[39m \u001b[43m      \u001b[49m\u001b[43mattrs\u001b[49m\u001b[43m=\u001b[49m\u001b[43mattrs\u001b[49m\u001b[43m,\u001b[49m\n\u001b[32m   1693\u001b[39m \u001b[43m      \u001b[49m\u001b[43mctx\u001b[49m\u001b[43m=\u001b[49m\u001b[38;5;28;43mself\u001b[39;49m\u001b[43m,\u001b[49m\n\u001b[32m   1694\u001b[39m \u001b[43m  \u001b[49m\u001b[43m)\u001b[49m\n\u001b[32m   1695\u001b[39m \u001b[38;5;28;01melse\u001b[39;00m:\n\u001b[32m   1696\u001b[39m   outputs = execute.execute_with_cancellation(\n\u001b[32m   1697\u001b[39m       name.decode(\u001b[33m\"\u001b[39m\u001b[33mutf-8\u001b[39m\u001b[33m\"\u001b[39m),\n\u001b[32m   1698\u001b[39m       num_outputs=num_outputs,\n\u001b[32m   (...)\u001b[39m\u001b[32m   1702\u001b[39m       cancellation_manager=cancellation_context,\n\u001b[32m   1703\u001b[39m   )\n",
      "\u001b[36mFile \u001b[39m\u001b[32mc:\\Users\\janos\\AppData\\Local\\Programs\\Python\\Python313\\Lib\\site-packages\\tensorflow\\python\\eager\\execute.py:53\u001b[39m, in \u001b[36mquick_execute\u001b[39m\u001b[34m(op_name, num_outputs, inputs, attrs, ctx, name)\u001b[39m\n\u001b[32m     51\u001b[39m \u001b[38;5;28;01mtry\u001b[39;00m:\n\u001b[32m     52\u001b[39m   ctx.ensure_initialized()\n\u001b[32m---> \u001b[39m\u001b[32m53\u001b[39m   tensors = \u001b[43mpywrap_tfe\u001b[49m\u001b[43m.\u001b[49m\u001b[43mTFE_Py_Execute\u001b[49m\u001b[43m(\u001b[49m\u001b[43mctx\u001b[49m\u001b[43m.\u001b[49m\u001b[43m_handle\u001b[49m\u001b[43m,\u001b[49m\u001b[43m \u001b[49m\u001b[43mdevice_name\u001b[49m\u001b[43m,\u001b[49m\u001b[43m \u001b[49m\u001b[43mop_name\u001b[49m\u001b[43m,\u001b[49m\n\u001b[32m     54\u001b[39m \u001b[43m                                      \u001b[49m\u001b[43minputs\u001b[49m\u001b[43m,\u001b[49m\u001b[43m \u001b[49m\u001b[43mattrs\u001b[49m\u001b[43m,\u001b[49m\u001b[43m \u001b[49m\u001b[43mnum_outputs\u001b[49m\u001b[43m)\u001b[49m\n\u001b[32m     55\u001b[39m \u001b[38;5;28;01mexcept\u001b[39;00m core._NotOkStatusException \u001b[38;5;28;01mas\u001b[39;00m e:\n\u001b[32m     56\u001b[39m   \u001b[38;5;28;01mif\u001b[39;00m name \u001b[38;5;129;01mis\u001b[39;00m \u001b[38;5;129;01mnot\u001b[39;00m \u001b[38;5;28;01mNone\u001b[39;00m:\n",
      "\u001b[31mKeyboardInterrupt\u001b[39m: "
     ]
    }
   ],
   "source": [
    "n_epochs = 10  # number of epochs to train the neural network\n",
    "# checkpointing based on the validation loss\n",
    "model_checkpoint_callback = tf.keras.callbacks.ModelCheckpoint('model.keras', monitor='val_loss', save_best_only=True, save_weights_only=False, verbose=1)\n",
    "dynamic_balancer = DynamicBalancingCallback(\n",
    "    train_image_paths,\n",
    "    train_species_labels,\n",
    "    train_venom_labels,\n",
    "    batch_size=16\n",
    ")\n",
    "#for batch in train_dataset.take(1):\n",
    "#    print(batch)\n",
    "# model training\n",
    "model_history = model.fit(\n",
    "                            x= train_dataset,\n",
    "                            epochs= n_epochs,\n",
    "                            validation_data= val_dataset,\n",
    "                            callbacks=[model_checkpoint_callback, dynamic_balancer])\n",
    "\n",
    "\n",
    "\n",
    "model.load_weights('model.keras')  # load weights back"
   ]
  },
  {
   "cell_type": "code",
   "execution_count": null,
   "id": "441d442d",
   "metadata": {},
   "outputs": [],
   "source": [
    "# Create TensorFlow datasets for test\n",
    "test_dataset = tf.data.Dataset.from_tensor_slices(\n",
    "    (test_image_paths, {'species': test_species_labels, 'venom': test_venom_labels})\n",
    ")\n",
    "# Apply preprocessing and map to TensorFlow dataset\n",
    "test_dataset = test_dataset.map(lambda x, y: (load_img(x), y), num_parallel_calls=tf.data.AUTOTUNE)\n",
    "\n",
    "# Batch and prefetch the datasets for efficiency\n",
    "test_dataset = test_dataset.batch(32).prefetch(tf.data.AUTOTUNE)\n"
   ]
  },
  {
   "cell_type": "code",
   "execution_count": null,
   "id": "a4aaf3e3",
   "metadata": {},
   "outputs": [
    {
     "name": "stdout",
     "output_type": "stream",
     "text": [
      "\u001b[1m208/208\u001b[0m \u001b[32m━━━━━━━━━━━━━━━━━━━━\u001b[0m\u001b[37m\u001b[0m \u001b[1m3s\u001b[0m 12ms/step - loss: 6.1986 - species_accuracy: 0.0084 - species_loss: 5.6976 - venom_accuracy: 0.8008 - venom_loss: 0.5012\n",
      "Test Loss:  6.198594570159912\n",
      "Test Accuracy:  5.697560787200928\n"
     ]
    }
   ],
   "source": [
    "test_history = model.evaluate(test_dataset)\n",
    "print(\"Test Loss: \", test_history[0])\n",
    "print(\"Test Accuracy: \", test_history[1])"
   ]
  },
  {
   "cell_type": "code",
   "execution_count": null,
   "id": "e788003a",
   "metadata": {},
   "outputs": [
    {
     "name": "stdout",
     "output_type": "stream",
     "text": [
      "\u001b[1m1/1\u001b[0m \u001b[32m━━━━━━━━━━━━━━━━━━━━\u001b[0m\u001b[37m\u001b[0m \u001b[1m0s\u001b[0m 201ms/step\n",
      "\u001b[1m1/1\u001b[0m \u001b[32m━━━━━━━━━━━━━━━━━━━━\u001b[0m\u001b[37m\u001b[0m \u001b[1m0s\u001b[0m 81ms/step\n",
      "\u001b[1m1/1\u001b[0m \u001b[32m━━━━━━━━━━━━━━━━━━━━\u001b[0m\u001b[37m\u001b[0m \u001b[1m0s\u001b[0m 59ms/step\n",
      "\u001b[1m1/1\u001b[0m \u001b[32m━━━━━━━━━━━━━━━━━━━━\u001b[0m\u001b[37m\u001b[0m \u001b[1m0s\u001b[0m 63ms/step\n",
      "\u001b[1m1/1\u001b[0m \u001b[32m━━━━━━━━━━━━━━━━━━━━\u001b[0m\u001b[37m\u001b[0m \u001b[1m0s\u001b[0m 58ms/step\n"
     ]
    },
    {
     "data": {
      "image/png": "[encoded data removed]",
      "text/plain": [
       "<Figure size 1500x500 with 5 Axes>"
      ]
     },
     "metadata": {},
     "output_type": "display_data"
    },
    {
     "name": "stdout",
     "output_type": "stream",
     "text": [
      "D:\\Egyetem_adat\\train_images_small\\train_images_small\\205328204.jpg\n",
      "D:\\Egyetem_adat\\train_images_small\\train_images_small\\710759.jpg\n",
      "D:\\Egyetem_adat\\train_images_small\\train_images_small\\108013300.jpeg\n",
      "D:\\Egyetem_adat\\train_images_small\\train_images_small\\210102655.jpeg\n",
      "D:\\Egyetem_adat\\train_images_small\\train_images_small\\235484535.jpg\n"
     ]
    }
   ],
   "source": [
    "#show a few results\n",
    "\n",
    "def plot_example_results(model, image_paths, true_species_labels, true_venom_labels, num_examples=5):\n",
    "    indices = np.random.choice(len(image_paths), size=num_examples, replace=False)\n",
    "    \n",
    "    plt.figure(figsize=(15, 5))\n",
    "    \n",
    "    for i, index in enumerate(indices):\n",
    "        image_path = image_paths[index]\n",
    "        true_species = true_species_labels[index]\n",
    "        true_venom = true_venom_labels[index]\n",
    "    \n",
    "        image = load_img(image_path)\n",
    "        image = tf.expand_dims(image, axis=0)\n",
    "        \n",
    "        # Model returns [species_pred, venom_pred]\n",
    "        species_pred, venom_pred = model.predict(image)\n",
    "        \n",
    "        predicted_species = np.argmax(species_pred, axis=1)[0]\n",
    "        predicted_venom = (venom_pred > 0.5).astype(int)[0][0]\n",
    "        \n",
    "        plt.subplot(1, num_examples, i+1)\n",
    "        plt.imshow(image[0])\n",
    "        plt.axis('off')\n",
    "        plt.title(f\"True: {true_species}, {'Venom' if true_venom else 'Safe'}\\n\"\n",
    "                  f\"Pred: {predicted_species}, {'Venom' if predicted_venom else 'Safe'}\")\n",
    "    \n",
    "    plt.show()\n",
    "    \n",
    "    return [image_paths[i] for i in indices]\n",
    "\n",
    "\n",
    "ex = plot_example_results(model, test_image_paths, test_species_labels, test_venom_labels, num_examples=5)\n",
    "\n",
    "for i in range(len(ex)):\n",
    "    print(ex[i])\n"
   ]
  }
 ],
 "metadata": {
  "accelerator": "GPU",
  "colab": {
   "gpuType": "T4",
   "provenance": []
  },
  "kernelspec": {
   "display_name": "Python 3",
   "name": "python3"
  },
  "language_info": {
   "codemirror_mode": {
    "name": "ipython",
    "version": 3
   },
   "file_extension": ".py",
   "mimetype": "text/x-python",
   "name": "python",
   "nbconvert_exporter": "python",
   "pygments_lexer": "ipython3",
   "version": "3.13.3"
  }
 },
 "nbformat": 4,
 "nbformat_minor": 5
}
