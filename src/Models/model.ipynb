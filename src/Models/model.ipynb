{
 "cells": [
  {
   "cell_type": "markdown",
   "id": "b7d08d50",
   "metadata": {
    "id": "b7d08d50"
   },
   "source": [
    "Loading os and trying to use GPU "
   ]
  },
  {
   "cell_type": "code",
   "execution_count": 2,
   "id": "cb7d91df",
   "metadata": {
    "colab": {
     "base_uri": "https://localhost:8080/"
    },
    "executionInfo": {
     "elapsed": 7956,
     "status": "ok",
     "timestamp": 1760103668680,
     "user": {
      "displayName": "Avarka",
      "userId": "01376155912533068519"
     },
     "user_tz": -120
    },
    "id": "cb7d91df",
    "outputId": "632fa06d-510c-411c-bd31-1a43c8eb8343"
   },
   "outputs": [
    {
     "name": "stdout",
     "output_type": "stream",
     "text": [
      "2.20.0\n"
     ]
    }
   ],
   "source": [
    "import os\n",
    "os.environ['TF_CPP_MIN_LOG_LEVEL'] = '3'\n",
    "\n",
    "import tensorflow as tf\n",
    "import numpy as np\n",
    "import pandas as pd\n",
    "import matplotlib.pyplot as plt\n",
    "\n",
    "# check tf version\n",
    "print(tf.__version__)\n",
    "\n",
    "gpus = tf.config.list_physical_devices('GPU')\n",
    "for device in gpus:\n",
    "    tf.config.experimental.set_memory_growth(device, True)\n",
    "    print(f\"Found GPU {device.name}, and set memory growth to True.\")\n"
   ]
  },
  {
   "cell_type": "code",
   "execution_count": 3,
   "id": "da306461",
   "metadata": {},
   "outputs": [],
   "source": [
    "#base path is the location of the repo on your computer\n",
    "\n",
    "BASE_PATH = os.path.dirname(os.getcwd())\n",
    "TRAIN_IMAGE_PATH= os.path.join(BASE_PATH, \"Data\", \"train_images_small\")\n"
   ]
  },
  {
   "cell_type": "code",
   "execution_count": 4,
   "id": "c3072f05",
   "metadata": {},
   "outputs": [
    {
     "name": "stdout",
     "output_type": "stream",
     "text": [
      "combined information example rows\n",
      "   observation_id  endemic        binomial_name code  \\\n",
      "0          117940    False       Bitis caudalis   ZA   \n",
      "1        37280129    False   Amphiesma stolatum   TH   \n",
      "2        27445689    False        Lachesis muta   BR   \n",
      "3        68796818     True         Vipera berus   NL   \n",
      "4        68796816    False  Coronella austriaca   NL   \n",
      "\n",
      "                                          image_path  class_id  MIVS  \\\n",
      "0  c:\\Users\\avark\\Documents\\snek\\src\\Data\\train_i...       157     0   \n",
      "1  c:\\Users\\avark\\Documents\\snek\\src\\Data\\train_i...        66     0   \n",
      "2  c:\\Users\\avark\\Documents\\snek\\src\\Data\\train_i...       857     1   \n",
      "3  c:\\Users\\avark\\Documents\\snek\\src\\Data\\train_i...      1736     1   \n",
      "4  c:\\Users\\avark\\Documents\\snek\\src\\Data\\train_i...       387     0   \n",
      "\n",
      "   encoded_id  \n",
      "0           9  \n",
      "1           3  \n",
      "2         126  \n",
      "3         284  \n",
      "4          49  \n",
      "Number of classes: 296\n"
     ]
    }
   ],
   "source": [
    "from sklearn.preprocessing import LabelEncoder\n",
    "\n",
    "#read the train_images_metadata.csv file\n",
    "species = pd.read_csv(BASE_PATH + r\"\\Data\\train_images_metadata.csv\", index_col=0)\n",
    "\n",
    "#read the venomous_status_metadata.csv file\n",
    "venomous = pd.read_csv(BASE_PATH + r\"\\Data\\venomous_status_metadata.csv\", index_col=0)\n",
    "\n",
    "#merging the 2 files, now every row from species contains a column with venomous status\n",
    "combined_info = species.merge(venomous[[\"class_id\", \"MIVS\"]], on=\"class_id\", how=\"left\")\n",
    "\n",
    "#encoded_id is same as class_id, but starts from 0\n",
    "encoder = LabelEncoder()\n",
    "combined_info[\"encoded_id\"] = encoder.fit_transform(combined_info[\"class_id\"])\n",
    "\n",
    "# Find all of the image_paths \n",
    "combined_info[\"image_path\"] = combined_info[\"image_path\"].apply(\n",
    "    lambda img_path: os.path.join(TRAIN_IMAGE_PATH, img_path)\n",
    ")\n",
    "\n",
    "\n",
    "num_classes = len(encoder.classes_)\n",
    "print(\"combined information example rows\")\n",
    "print(combined_info.head())\n",
    "print(\"Number of classes: {}\".format(num_classes))"
   ]
  },
  {
   "cell_type": "code",
   "execution_count": 5,
   "id": "6cde1d15",
   "metadata": {},
   "outputs": [
    {
     "name": "stdout",
     "output_type": "stream",
     "text": [
      "296 classes\n",
      "['Ahaetulla mycterizans', 'Ahaetulla prasina', 'Aipysurus laevis', 'Amphiesma stolatum', 'Anilius scytale']\n"
     ]
    }
   ],
   "source": [
    "# If species name or latin name column exists (say it's 'species_name')\n",
    "# get one name per encoded_id, sorted by id so indices line up\n",
    "CLASS_NAMES = (\n",
    "    combined_info[['encoded_id', 'binomial_name']]\n",
    "    .drop_duplicates(subset=['encoded_id'])\n",
    "    .sort_values('encoded_id')['binomial_name']\n",
    "    .tolist()\n",
    ")\n",
    "\n",
    "print(len(CLASS_NAMES), \"classes\")\n",
    "print(CLASS_NAMES[:5]) "
   ]
  },
  {
   "cell_type": "markdown",
   "id": "d98e31d7",
   "metadata": {
    "id": "d98e31d7"
   },
   "source": [
    "Loading python images from folder"
   ]
  },
  {
   "cell_type": "code",
   "execution_count": 6,
   "id": "5c99c384",
   "metadata": {},
   "outputs": [],
   "source": [
    "AUTOTUNE = tf.data.AUTOTUNE\n",
    "\n",
    "IMAGE_RESOLUTION=28\n",
    "\n",
    "# Create a TensorFlow dataset for image loading\n",
    "def load_img(path):\n",
    "    img = tf.io.read_file(path)\n",
    "\n",
    "    #expand_animations = False needed, otherwise gif format isnt proper\n",
    "    img = tf.image.decode_image(img, channels=3, expand_animations = False)  \n",
    "    img = tf.image.resize(img, [IMAGE_RESOLUTION, IMAGE_RESOLUTION])\n",
    "    img = img / 255.0  # Normalize to [0, 1]\n",
    "    return img"
   ]
  },
  {
   "cell_type": "code",
   "execution_count": 7,
   "id": "2c816399",
   "metadata": {},
   "outputs": [],
   "source": [
    "# Labels are going to be either venomous, or non-venomous\n",
    "species_labels = combined_info['encoded_id']\n",
    "venom_labels = combined_info['MIVS']\n",
    "\n",
    "BATCH_SIZE=32\n",
    "\n",
    "\n",
    "def make_dataset(info_df, batch_size=BATCH_SIZE, shuffle=False):\n",
    "\n",
    "    image_paths  = info_df[\"image_path\"].values\n",
    "    sp     = info_df[\"encoded_id\"].values.astype(np.int32)\n",
    "    ve     = info_df[\"MIVS\"].values.astype(np.int32)\n",
    "\n",
    "    ds = tf.data.Dataset.from_tensor_slices((image_paths, sp, ve))\n",
    "\n",
    "    if shuffle:\n",
    "        ds = ds.shuffle(buffer_size=min(len(info_df), 10_000),\n",
    "                        seed=42, reshuffle_each_iteration=True)\n",
    "\n",
    "    def _load(path, species, venom):\n",
    "        img = load_img(path)  # [0,1] float32\n",
    "        labels = {\"species\": species, \"venom\": venom}\n",
    "        return img, labels\n",
    "\n",
    "    ds = ds.map(_load, num_parallel_calls=AUTOTUNE)\n",
    "\n",
    "    ds = ds.batch(batch_size).prefetch(AUTOTUNE)\n",
    "    return ds\n"
   ]
  },
  {
   "cell_type": "code",
   "execution_count": 8,
   "id": "ab5e8a53",
   "metadata": {},
   "outputs": [],
   "source": [
    "from sklearn.model_selection import train_test_split\n",
    "\n",
    "train_info = combined_info.copy()\n",
    "\n",
    "labels_species = combined_info['encoded_id'].values\n",
    "\n",
    "#1. split train: 80% train, 20% validation\n",
    "\n",
    "train_info, temp_info = train_test_split(\n",
    "    combined_info, test_size=0.2, random_state=42, stratify=combined_info[\"encoded_id\"]\n",
    ")\n",
    "\n",
    "# 2: split validation: 10% validation, 10% test\n",
    "val_info, test_info = train_test_split(\n",
    "    temp_info, test_size=0.5, random_state=42, stratify=temp_info[\"encoded_id\"]\n",
    ")\n",
    "\n",
    "\n",
    "train_dataset = make_dataset(train_info, shuffle=True)\n",
    "val_dataset   = make_dataset(val_info)\n",
    "test_dataset  = make_dataset(test_info)"
   ]
  },
  {
   "cell_type": "code",
   "execution_count": 9,
   "id": "2db14220",
   "metadata": {},
   "outputs": [
    {
     "name": "stdout",
     "output_type": "stream",
     "text": [
      "(32, 28, 28, 3)\n",
      "(32,)\n",
      "(32,)\n",
      "<dtype: 'float32'>\n"
     ]
    }
   ],
   "source": [
    "#insanity check, im losing my mind\n",
    "images_b, labels_b = next(iter(train_dataset))\n",
    "print(images_b.shape)                 # (32, Height, Width, Channels)\n",
    "print(labels_b[\"species\"].shape)      # (32,)\n",
    "print(labels_b[\"venom\"].shape)        # (32,)\n",
    "print(images_b.dtype)                \n"
   ]
  },
  {
   "cell_type": "code",
   "execution_count": 10,
   "id": "032c4ced",
   "metadata": {},
   "outputs": [
    {
     "data": {
      "text/html": [
       "<pre style=\"white-space:pre;overflow-x:auto;line-height:normal;font-family:Menlo,'DejaVu Sans Mono',consolas,'Courier New',monospace\"><span style=\"font-weight: bold\">Model: \"functional\"</span>\n",
       "</pre>\n"
      ],
      "text/plain": [
       "\u001b[1mModel: \"functional\"\u001b[0m\n"
      ]
     },
     "metadata": {},
     "output_type": "display_data"
    },
    {
     "data": {
      "text/html": [
       "<pre style=\"white-space:pre;overflow-x:auto;line-height:normal;font-family:Menlo,'DejaVu Sans Mono',consolas,'Courier New',monospace\">┏━━━━━━━━━━━━━━━━━━━━━┳━━━━━━━━━━━━━━━━━━━┳━━━━━━━━━━━━┳━━━━━━━━━━━━━━━━━━━┓\n",
       "┃<span style=\"font-weight: bold\"> Layer (type)        </span>┃<span style=\"font-weight: bold\"> Output Shape      </span>┃<span style=\"font-weight: bold\">    Param # </span>┃<span style=\"font-weight: bold\"> Connected to      </span>┃\n",
       "┡━━━━━━━━━━━━━━━━━━━━━╇━━━━━━━━━━━━━━━━━━━╇━━━━━━━━━━━━╇━━━━━━━━━━━━━━━━━━━┩\n",
       "│ input_layer         │ (<span style=\"color: #00d7ff; text-decoration-color: #00d7ff\">None</span>, <span style=\"color: #00af00; text-decoration-color: #00af00\">28</span>, <span style=\"color: #00af00; text-decoration-color: #00af00\">28</span>, <span style=\"color: #00af00; text-decoration-color: #00af00\">3</span>) │          <span style=\"color: #00af00; text-decoration-color: #00af00\">0</span> │ -                 │\n",
       "│ (<span style=\"color: #0087ff; text-decoration-color: #0087ff\">InputLayer</span>)        │                   │            │                   │\n",
       "├─────────────────────┼───────────────────┼────────────┼───────────────────┤\n",
       "│ conv2d (<span style=\"color: #0087ff; text-decoration-color: #0087ff\">Conv2D</span>)     │ (<span style=\"color: #00d7ff; text-decoration-color: #00d7ff\">None</span>, <span style=\"color: #00af00; text-decoration-color: #00af00\">28</span>, <span style=\"color: #00af00; text-decoration-color: #00af00\">28</span>,    │        <span style=\"color: #00af00; text-decoration-color: #00af00\">896</span> │ input_layer[<span style=\"color: #00af00; text-decoration-color: #00af00\">0</span>][<span style=\"color: #00af00; text-decoration-color: #00af00\">0</span>] │\n",
       "│                     │ <span style=\"color: #00af00; text-decoration-color: #00af00\">32</span>)               │            │                   │\n",
       "├─────────────────────┼───────────────────┼────────────┼───────────────────┤\n",
       "│ max_pooling2d       │ (<span style=\"color: #00d7ff; text-decoration-color: #00d7ff\">None</span>, <span style=\"color: #00af00; text-decoration-color: #00af00\">14</span>, <span style=\"color: #00af00; text-decoration-color: #00af00\">14</span>,    │          <span style=\"color: #00af00; text-decoration-color: #00af00\">0</span> │ conv2d[<span style=\"color: #00af00; text-decoration-color: #00af00\">0</span>][<span style=\"color: #00af00; text-decoration-color: #00af00\">0</span>]      │\n",
       "│ (<span style=\"color: #0087ff; text-decoration-color: #0087ff\">MaxPooling2D</span>)      │ <span style=\"color: #00af00; text-decoration-color: #00af00\">32</span>)               │            │                   │\n",
       "├─────────────────────┼───────────────────┼────────────┼───────────────────┤\n",
       "│ conv2d_1 (<span style=\"color: #0087ff; text-decoration-color: #0087ff\">Conv2D</span>)   │ (<span style=\"color: #00d7ff; text-decoration-color: #00d7ff\">None</span>, <span style=\"color: #00af00; text-decoration-color: #00af00\">14</span>, <span style=\"color: #00af00; text-decoration-color: #00af00\">14</span>,    │     <span style=\"color: #00af00; text-decoration-color: #00af00\">18,496</span> │ max_pooling2d[<span style=\"color: #00af00; text-decoration-color: #00af00\">0</span>]… │\n",
       "│                     │ <span style=\"color: #00af00; text-decoration-color: #00af00\">64</span>)               │            │                   │\n",
       "├─────────────────────┼───────────────────┼────────────┼───────────────────┤\n",
       "│ max_pooling2d_1     │ (<span style=\"color: #00d7ff; text-decoration-color: #00d7ff\">None</span>, <span style=\"color: #00af00; text-decoration-color: #00af00\">7</span>, <span style=\"color: #00af00; text-decoration-color: #00af00\">7</span>, <span style=\"color: #00af00; text-decoration-color: #00af00\">64</span>)  │          <span style=\"color: #00af00; text-decoration-color: #00af00\">0</span> │ conv2d_1[<span style=\"color: #00af00; text-decoration-color: #00af00\">0</span>][<span style=\"color: #00af00; text-decoration-color: #00af00\">0</span>]    │\n",
       "│ (<span style=\"color: #0087ff; text-decoration-color: #0087ff\">MaxPooling2D</span>)      │                   │            │                   │\n",
       "├─────────────────────┼───────────────────┼────────────┼───────────────────┤\n",
       "│ conv2d_2 (<span style=\"color: #0087ff; text-decoration-color: #0087ff\">Conv2D</span>)   │ (<span style=\"color: #00d7ff; text-decoration-color: #00d7ff\">None</span>, <span style=\"color: #00af00; text-decoration-color: #00af00\">7</span>, <span style=\"color: #00af00; text-decoration-color: #00af00\">7</span>, <span style=\"color: #00af00; text-decoration-color: #00af00\">128</span>) │     <span style=\"color: #00af00; text-decoration-color: #00af00\">73,856</span> │ max_pooling2d_1[<span style=\"color: #00af00; text-decoration-color: #00af00\">…</span> │\n",
       "├─────────────────────┼───────────────────┼────────────┼───────────────────┤\n",
       "│ max_pooling2d_2     │ (<span style=\"color: #00d7ff; text-decoration-color: #00d7ff\">None</span>, <span style=\"color: #00af00; text-decoration-color: #00af00\">3</span>, <span style=\"color: #00af00; text-decoration-color: #00af00\">3</span>, <span style=\"color: #00af00; text-decoration-color: #00af00\">128</span>) │          <span style=\"color: #00af00; text-decoration-color: #00af00\">0</span> │ conv2d_2[<span style=\"color: #00af00; text-decoration-color: #00af00\">0</span>][<span style=\"color: #00af00; text-decoration-color: #00af00\">0</span>]    │\n",
       "│ (<span style=\"color: #0087ff; text-decoration-color: #0087ff\">MaxPooling2D</span>)      │                   │            │                   │\n",
       "├─────────────────────┼───────────────────┼────────────┼───────────────────┤\n",
       "│ conv2d_3 (<span style=\"color: #0087ff; text-decoration-color: #0087ff\">Conv2D</span>)   │ (<span style=\"color: #00d7ff; text-decoration-color: #00d7ff\">None</span>, <span style=\"color: #00af00; text-decoration-color: #00af00\">3</span>, <span style=\"color: #00af00; text-decoration-color: #00af00\">3</span>, <span style=\"color: #00af00; text-decoration-color: #00af00\">32</span>)  │     <span style=\"color: #00af00; text-decoration-color: #00af00\">36,896</span> │ max_pooling2d_2[<span style=\"color: #00af00; text-decoration-color: #00af00\">…</span> │\n",
       "├─────────────────────┼───────────────────┼────────────┼───────────────────┤\n",
       "│ max_pooling2d_3     │ (<span style=\"color: #00d7ff; text-decoration-color: #00d7ff\">None</span>, <span style=\"color: #00af00; text-decoration-color: #00af00\">1</span>, <span style=\"color: #00af00; text-decoration-color: #00af00\">1</span>, <span style=\"color: #00af00; text-decoration-color: #00af00\">32</span>)  │          <span style=\"color: #00af00; text-decoration-color: #00af00\">0</span> │ conv2d_3[<span style=\"color: #00af00; text-decoration-color: #00af00\">0</span>][<span style=\"color: #00af00; text-decoration-color: #00af00\">0</span>]    │\n",
       "│ (<span style=\"color: #0087ff; text-decoration-color: #0087ff\">MaxPooling2D</span>)      │                   │            │                   │\n",
       "├─────────────────────┼───────────────────┼────────────┼───────────────────┤\n",
       "│ flatten (<span style=\"color: #0087ff; text-decoration-color: #0087ff\">Flatten</span>)   │ (<span style=\"color: #00d7ff; text-decoration-color: #00d7ff\">None</span>, <span style=\"color: #00af00; text-decoration-color: #00af00\">32</span>)        │          <span style=\"color: #00af00; text-decoration-color: #00af00\">0</span> │ max_pooling2d_3[<span style=\"color: #00af00; text-decoration-color: #00af00\">…</span> │\n",
       "├─────────────────────┼───────────────────┼────────────┼───────────────────┤\n",
       "│ dense (<span style=\"color: #0087ff; text-decoration-color: #0087ff\">Dense</span>)       │ (<span style=\"color: #00d7ff; text-decoration-color: #00d7ff\">None</span>, <span style=\"color: #00af00; text-decoration-color: #00af00\">128</span>)       │      <span style=\"color: #00af00; text-decoration-color: #00af00\">4,224</span> │ flatten[<span style=\"color: #00af00; text-decoration-color: #00af00\">0</span>][<span style=\"color: #00af00; text-decoration-color: #00af00\">0</span>]     │\n",
       "├─────────────────────┼───────────────────┼────────────┼───────────────────┤\n",
       "│ dropout (<span style=\"color: #0087ff; text-decoration-color: #0087ff\">Dropout</span>)   │ (<span style=\"color: #00d7ff; text-decoration-color: #00d7ff\">None</span>, <span style=\"color: #00af00; text-decoration-color: #00af00\">128</span>)       │          <span style=\"color: #00af00; text-decoration-color: #00af00\">0</span> │ dense[<span style=\"color: #00af00; text-decoration-color: #00af00\">0</span>][<span style=\"color: #00af00; text-decoration-color: #00af00\">0</span>]       │\n",
       "├─────────────────────┼───────────────────┼────────────┼───────────────────┤\n",
       "│ species (<span style=\"color: #0087ff; text-decoration-color: #0087ff\">Dense</span>)     │ (<span style=\"color: #00d7ff; text-decoration-color: #00d7ff\">None</span>, <span style=\"color: #00af00; text-decoration-color: #00af00\">296</span>)       │     <span style=\"color: #00af00; text-decoration-color: #00af00\">38,184</span> │ dropout[<span style=\"color: #00af00; text-decoration-color: #00af00\">0</span>][<span style=\"color: #00af00; text-decoration-color: #00af00\">0</span>]     │\n",
       "├─────────────────────┼───────────────────┼────────────┼───────────────────┤\n",
       "│ venom (<span style=\"color: #0087ff; text-decoration-color: #0087ff\">Dense</span>)       │ (<span style=\"color: #00d7ff; text-decoration-color: #00d7ff\">None</span>, <span style=\"color: #00af00; text-decoration-color: #00af00\">1</span>)         │        <span style=\"color: #00af00; text-decoration-color: #00af00\">129</span> │ dropout[<span style=\"color: #00af00; text-decoration-color: #00af00\">0</span>][<span style=\"color: #00af00; text-decoration-color: #00af00\">0</span>]     │\n",
       "└─────────────────────┴───────────────────┴────────────┴───────────────────┘\n",
       "</pre>\n"
      ],
      "text/plain": [
       "┏━━━━━━━━━━━━━━━━━━━━━┳━━━━━━━━━━━━━━━━━━━┳━━━━━━━━━━━━┳━━━━━━━━━━━━━━━━━━━┓\n",
       "┃\u001b[1m \u001b[0m\u001b[1mLayer (type)       \u001b[0m\u001b[1m \u001b[0m┃\u001b[1m \u001b[0m\u001b[1mOutput Shape     \u001b[0m\u001b[1m \u001b[0m┃\u001b[1m \u001b[0m\u001b[1m   Param #\u001b[0m\u001b[1m \u001b[0m┃\u001b[1m \u001b[0m\u001b[1mConnected to     \u001b[0m\u001b[1m \u001b[0m┃\n",
       "┡━━━━━━━━━━━━━━━━━━━━━╇━━━━━━━━━━━━━━━━━━━╇━━━━━━━━━━━━╇━━━━━━━━━━━━━━━━━━━┩\n",
       "│ input_layer         │ (\u001b[38;5;45mNone\u001b[0m, \u001b[38;5;34m28\u001b[0m, \u001b[38;5;34m28\u001b[0m, \u001b[38;5;34m3\u001b[0m) │          \u001b[38;5;34m0\u001b[0m │ -                 │\n",
       "│ (\u001b[38;5;33mInputLayer\u001b[0m)        │                   │            │                   │\n",
       "├─────────────────────┼───────────────────┼────────────┼───────────────────┤\n",
       "│ conv2d (\u001b[38;5;33mConv2D\u001b[0m)     │ (\u001b[38;5;45mNone\u001b[0m, \u001b[38;5;34m28\u001b[0m, \u001b[38;5;34m28\u001b[0m,    │        \u001b[38;5;34m896\u001b[0m │ input_layer[\u001b[38;5;34m0\u001b[0m][\u001b[38;5;34m0\u001b[0m] │\n",
       "│                     │ \u001b[38;5;34m32\u001b[0m)               │            │                   │\n",
       "├─────────────────────┼───────────────────┼────────────┼───────────────────┤\n",
       "│ max_pooling2d       │ (\u001b[38;5;45mNone\u001b[0m, \u001b[38;5;34m14\u001b[0m, \u001b[38;5;34m14\u001b[0m,    │          \u001b[38;5;34m0\u001b[0m │ conv2d[\u001b[38;5;34m0\u001b[0m][\u001b[38;5;34m0\u001b[0m]      │\n",
       "│ (\u001b[38;5;33mMaxPooling2D\u001b[0m)      │ \u001b[38;5;34m32\u001b[0m)               │            │                   │\n",
       "├─────────────────────┼───────────────────┼────────────┼───────────────────┤\n",
       "│ conv2d_1 (\u001b[38;5;33mConv2D\u001b[0m)   │ (\u001b[38;5;45mNone\u001b[0m, \u001b[38;5;34m14\u001b[0m, \u001b[38;5;34m14\u001b[0m,    │     \u001b[38;5;34m18,496\u001b[0m │ max_pooling2d[\u001b[38;5;34m0\u001b[0m]… │\n",
       "│                     │ \u001b[38;5;34m64\u001b[0m)               │            │                   │\n",
       "├─────────────────────┼───────────────────┼────────────┼───────────────────┤\n",
       "│ max_pooling2d_1     │ (\u001b[38;5;45mNone\u001b[0m, \u001b[38;5;34m7\u001b[0m, \u001b[38;5;34m7\u001b[0m, \u001b[38;5;34m64\u001b[0m)  │          \u001b[38;5;34m0\u001b[0m │ conv2d_1[\u001b[38;5;34m0\u001b[0m][\u001b[38;5;34m0\u001b[0m]    │\n",
       "│ (\u001b[38;5;33mMaxPooling2D\u001b[0m)      │                   │            │                   │\n",
       "├─────────────────────┼───────────────────┼────────────┼───────────────────┤\n",
       "│ conv2d_2 (\u001b[38;5;33mConv2D\u001b[0m)   │ (\u001b[38;5;45mNone\u001b[0m, \u001b[38;5;34m7\u001b[0m, \u001b[38;5;34m7\u001b[0m, \u001b[38;5;34m128\u001b[0m) │     \u001b[38;5;34m73,856\u001b[0m │ max_pooling2d_1[\u001b[38;5;34m…\u001b[0m │\n",
       "├─────────────────────┼───────────────────┼────────────┼───────────────────┤\n",
       "│ max_pooling2d_2     │ (\u001b[38;5;45mNone\u001b[0m, \u001b[38;5;34m3\u001b[0m, \u001b[38;5;34m3\u001b[0m, \u001b[38;5;34m128\u001b[0m) │          \u001b[38;5;34m0\u001b[0m │ conv2d_2[\u001b[38;5;34m0\u001b[0m][\u001b[38;5;34m0\u001b[0m]    │\n",
       "│ (\u001b[38;5;33mMaxPooling2D\u001b[0m)      │                   │            │                   │\n",
       "├─────────────────────┼───────────────────┼────────────┼───────────────────┤\n",
       "│ conv2d_3 (\u001b[38;5;33mConv2D\u001b[0m)   │ (\u001b[38;5;45mNone\u001b[0m, \u001b[38;5;34m3\u001b[0m, \u001b[38;5;34m3\u001b[0m, \u001b[38;5;34m32\u001b[0m)  │     \u001b[38;5;34m36,896\u001b[0m │ max_pooling2d_2[\u001b[38;5;34m…\u001b[0m │\n",
       "├─────────────────────┼───────────────────┼────────────┼───────────────────┤\n",
       "│ max_pooling2d_3     │ (\u001b[38;5;45mNone\u001b[0m, \u001b[38;5;34m1\u001b[0m, \u001b[38;5;34m1\u001b[0m, \u001b[38;5;34m32\u001b[0m)  │          \u001b[38;5;34m0\u001b[0m │ conv2d_3[\u001b[38;5;34m0\u001b[0m][\u001b[38;5;34m0\u001b[0m]    │\n",
       "│ (\u001b[38;5;33mMaxPooling2D\u001b[0m)      │                   │            │                   │\n",
       "├─────────────────────┼───────────────────┼────────────┼───────────────────┤\n",
       "│ flatten (\u001b[38;5;33mFlatten\u001b[0m)   │ (\u001b[38;5;45mNone\u001b[0m, \u001b[38;5;34m32\u001b[0m)        │          \u001b[38;5;34m0\u001b[0m │ max_pooling2d_3[\u001b[38;5;34m…\u001b[0m │\n",
       "├─────────────────────┼───────────────────┼────────────┼───────────────────┤\n",
       "│ dense (\u001b[38;5;33mDense\u001b[0m)       │ (\u001b[38;5;45mNone\u001b[0m, \u001b[38;5;34m128\u001b[0m)       │      \u001b[38;5;34m4,224\u001b[0m │ flatten[\u001b[38;5;34m0\u001b[0m][\u001b[38;5;34m0\u001b[0m]     │\n",
       "├─────────────────────┼───────────────────┼────────────┼───────────────────┤\n",
       "│ dropout (\u001b[38;5;33mDropout\u001b[0m)   │ (\u001b[38;5;45mNone\u001b[0m, \u001b[38;5;34m128\u001b[0m)       │          \u001b[38;5;34m0\u001b[0m │ dense[\u001b[38;5;34m0\u001b[0m][\u001b[38;5;34m0\u001b[0m]       │\n",
       "├─────────────────────┼───────────────────┼────────────┼───────────────────┤\n",
       "│ species (\u001b[38;5;33mDense\u001b[0m)     │ (\u001b[38;5;45mNone\u001b[0m, \u001b[38;5;34m296\u001b[0m)       │     \u001b[38;5;34m38,184\u001b[0m │ dropout[\u001b[38;5;34m0\u001b[0m][\u001b[38;5;34m0\u001b[0m]     │\n",
       "├─────────────────────┼───────────────────┼────────────┼───────────────────┤\n",
       "│ venom (\u001b[38;5;33mDense\u001b[0m)       │ (\u001b[38;5;45mNone\u001b[0m, \u001b[38;5;34m1\u001b[0m)         │        \u001b[38;5;34m129\u001b[0m │ dropout[\u001b[38;5;34m0\u001b[0m][\u001b[38;5;34m0\u001b[0m]     │\n",
       "└─────────────────────┴───────────────────┴────────────┴───────────────────┘\n"
      ]
     },
     "metadata": {},
     "output_type": "display_data"
    },
    {
     "data": {
      "text/html": [
       "<pre style=\"white-space:pre;overflow-x:auto;line-height:normal;font-family:Menlo,'DejaVu Sans Mono',consolas,'Courier New',monospace\"><span style=\"font-weight: bold\"> Total params: </span><span style=\"color: #00af00; text-decoration-color: #00af00\">172,681</span> (674.54 KB)\n",
       "</pre>\n"
      ],
      "text/plain": [
       "\u001b[1m Total params: \u001b[0m\u001b[38;5;34m172,681\u001b[0m (674.54 KB)\n"
      ]
     },
     "metadata": {},
     "output_type": "display_data"
    },
    {
     "data": {
      "text/html": [
       "<pre style=\"white-space:pre;overflow-x:auto;line-height:normal;font-family:Menlo,'DejaVu Sans Mono',consolas,'Courier New',monospace\"><span style=\"font-weight: bold\"> Trainable params: </span><span style=\"color: #00af00; text-decoration-color: #00af00\">172,681</span> (674.54 KB)\n",
       "</pre>\n"
      ],
      "text/plain": [
       "\u001b[1m Trainable params: \u001b[0m\u001b[38;5;34m172,681\u001b[0m (674.54 KB)\n"
      ]
     },
     "metadata": {},
     "output_type": "display_data"
    },
    {
     "data": {
      "text/html": [
       "<pre style=\"white-space:pre;overflow-x:auto;line-height:normal;font-family:Menlo,'DejaVu Sans Mono',consolas,'Courier New',monospace\"><span style=\"font-weight: bold\"> Non-trainable params: </span><span style=\"color: #00af00; text-decoration-color: #00af00\">0</span> (0.00 B)\n",
       "</pre>\n"
      ],
      "text/plain": [
       "\u001b[1m Non-trainable params: \u001b[0m\u001b[38;5;34m0\u001b[0m (0.00 B)\n"
      ]
     },
     "metadata": {},
     "output_type": "display_data"
    }
   ],
   "source": [
    "from tensorflow.keras.layers import Flatten, Conv2D, Dense, Input, MaxPooling2D, Dropout, Rescaling\n",
    "from tensorflow.keras import Model\n",
    "\n",
    "from re import X\n",
    "\n",
    "input = Input(shape=(IMAGE_RESOLUTION, IMAGE_RESOLUTION, 3))\n",
    "#x = Rescaling(1./255)(input)\n",
    "\n",
    "x = Conv2D(32, (3,3), padding='same', activation=\"relu\")(input)\n",
    "x = MaxPooling2D((2,2), padding='valid')(x)\n",
    "\n",
    "x = Conv2D(64, (3,3), padding='same', activation=\"relu\")(x)\n",
    "x = MaxPooling2D((2,2), padding='valid')(x)\n",
    "\n",
    "x = Conv2D(128, (3,3), padding='same', activation=\"relu\")(x)\n",
    "x = MaxPooling2D((2,2), padding='valid')(x)\n",
    "\n",
    "x = Conv2D(32, (3,3), padding='same', activation=\"relu\")(x)\n",
    "x = MaxPooling2D((2,2), padding='valid')(x)\n",
    "\n",
    "x = Flatten()(x)\n",
    "\n",
    "x = Dense(128, activation='relu')(x)\n",
    "\n",
    "x = Dropout(0.3)(x)\n",
    "\n",
    "species_output = Dense(num_classes, activation='softmax', name='species')(x)\n",
    "venom_output = Dense(1, activation='sigmoid', name='venom')(x)\n",
    "\n",
    "model = Model(inputs=input, outputs=[species_output, venom_output])\n",
    "\n",
    "model.summary()"
   ]
  },
  {
   "cell_type": "code",
   "execution_count": 11,
   "id": "76bc1628",
   "metadata": {},
   "outputs": [],
   "source": [
    "model.compile(\n",
    "    optimizer='adam',\n",
    "    \n",
    "    loss={'species': 'sparse_categorical_crossentropy',\n",
    "          'venom': 'binary_crossentropy'},\n",
    "\n",
    "    metrics={'species': 'accuracy',\n",
    "             'venom': 'accuracy'}\n",
    "    )"
   ]
  },
  {
   "cell_type": "code",
   "execution_count": 12,
   "id": "fd77baa0",
   "metadata": {},
   "outputs": [
    {
     "name": "stdout",
     "output_type": "stream",
     "text": [
      "Epoch 1/10\n",
      "\u001b[1m1660/1662\u001b[0m \u001b[32m━━━━━━━━━━━━━━━━━━━\u001b[0m\u001b[37m━\u001b[0m \u001b[1m0s\u001b[0m 14ms/step - loss: 6.0023 - species_accuracy: 0.0249 - species_loss: 5.4897 - venom_accuracy: 0.7987 - venom_loss: 0.5125\n",
      "Epoch 1: val_loss improved from None to 5.81509, saving model to model.keras\n",
      "\u001b[1m1662/1662\u001b[0m \u001b[32m━━━━━━━━━━━━━━━━━━━━\u001b[0m\u001b[37m\u001b[0m \u001b[1m27s\u001b[0m 15ms/step - loss: 5.9285 - species_accuracy: 0.0291 - species_loss: 5.4228 - venom_accuracy: 0.7999 - venom_loss: 0.5058 - val_loss: 5.8151 - val_species_accuracy: 0.0325 - val_species_loss: 5.3172 - val_venom_accuracy: 0.7998 - val_venom_loss: 0.4982\n",
      "Epoch 2/10\n",
      "\u001b[1m1662/1662\u001b[0m \u001b[32m━━━━━━━━━━━━━━━━━━━━\u001b[0m\u001b[37m\u001b[0m \u001b[1m0s\u001b[0m 14ms/step - loss: 5.8165 - species_accuracy: 0.0358 - species_loss: 5.3136 - venom_accuracy: 0.7993 - venom_loss: 0.5029\n",
      "Epoch 2: val_loss improved from 5.81509 to 5.76525, saving model to model.keras\n",
      "\u001b[1m1662/1662\u001b[0m \u001b[32m━━━━━━━━━━━━━━━━━━━━\u001b[0m\u001b[37m\u001b[0m \u001b[1m24s\u001b[0m 15ms/step - loss: 5.7968 - species_accuracy: 0.0362 - species_loss: 5.2957 - venom_accuracy: 0.7999 - venom_loss: 0.5011 - val_loss: 5.7653 - val_species_accuracy: 0.0385 - val_species_loss: 5.2627 - val_venom_accuracy: 0.7998 - val_venom_loss: 0.5027\n",
      "Epoch 3/10\n",
      "\u001b[1m1662/1662\u001b[0m \u001b[32m━━━━━━━━━━━━━━━━━━━━\u001b[0m\u001b[37m\u001b[0m \u001b[1m0s\u001b[0m 14ms/step - loss: 5.7508 - species_accuracy: 0.0381 - species_loss: 5.2515 - venom_accuracy: 0.7989 - venom_loss: 0.4993\n",
      "Epoch 3: val_loss improved from 5.76525 to 5.67397, saving model to model.keras\n",
      "\u001b[1m1662/1662\u001b[0m \u001b[32m━━━━━━━━━━━━━━━━━━━━\u001b[0m\u001b[37m\u001b[0m \u001b[1m24s\u001b[0m 15ms/step - loss: 5.7230 - species_accuracy: 0.0409 - species_loss: 5.2259 - venom_accuracy: 0.7999 - venom_loss: 0.4971 - val_loss: 5.6740 - val_species_accuracy: 0.0442 - val_species_loss: 5.1803 - val_venom_accuracy: 0.7998 - val_venom_loss: 0.4938\n",
      "Epoch 4/10\n",
      "\u001b[1m1658/1662\u001b[0m \u001b[32m━━━━━━━━━━━━━━━━━━━\u001b[0m\u001b[37m━\u001b[0m \u001b[1m0s\u001b[0m 14ms/step - loss: 5.6682 - species_accuracy: 0.0446 - species_loss: 5.1736 - venom_accuracy: 0.7994 - venom_loss: 0.4946\n",
      "Epoch 4: val_loss improved from 5.67397 to 5.64233, saving model to model.keras\n",
      "\u001b[1m1662/1662\u001b[0m \u001b[32m━━━━━━━━━━━━━━━━━━━━\u001b[0m\u001b[37m\u001b[0m \u001b[1m24s\u001b[0m 15ms/step - loss: 5.6581 - species_accuracy: 0.0455 - species_loss: 5.1651 - venom_accuracy: 0.8000 - venom_loss: 0.4934 - val_loss: 5.6423 - val_species_accuracy: 0.0460 - val_species_loss: 5.1474 - val_venom_accuracy: 0.7998 - val_venom_loss: 0.4951\n",
      "Epoch 5/10\n",
      "\u001b[1m1661/1662\u001b[0m \u001b[32m━━━━━━━━━━━━━━━━━━━\u001b[0m\u001b[37m━\u001b[0m \u001b[1m0s\u001b[0m 14ms/step - loss: 5.6137 - species_accuracy: 0.0462 - species_loss: 5.1247 - venom_accuracy: 0.8014 - venom_loss: 0.4890\n",
      "Epoch 5: val_loss improved from 5.64233 to 5.63840, saving model to model.keras\n",
      "\u001b[1m1662/1662\u001b[0m \u001b[32m━━━━━━━━━━━━━━━━━━━━\u001b[0m\u001b[37m\u001b[0m \u001b[1m24s\u001b[0m 15ms/step - loss: 5.6037 - species_accuracy: 0.0476 - species_loss: 5.1143 - venom_accuracy: 0.7999 - venom_loss: 0.4897 - val_loss: 5.6384 - val_species_accuracy: 0.0444 - val_species_loss: 5.1467 - val_venom_accuracy: 0.7998 - val_venom_loss: 0.4916\n",
      "Epoch 6/10\n",
      "\u001b[1m1660/1662\u001b[0m \u001b[32m━━━━━━━━━━━━━━━━━━━\u001b[0m\u001b[37m━\u001b[0m \u001b[1m0s\u001b[0m 14ms/step - loss: 5.5646 - species_accuracy: 0.0492 - species_loss: 5.0775 - venom_accuracy: 0.8002 - venom_loss: 0.4871\n",
      "Epoch 6: val_loss improved from 5.63840 to 5.57650, saving model to model.keras\n",
      "\u001b[1m1662/1662\u001b[0m \u001b[32m━━━━━━━━━━━━━━━━━━━━\u001b[0m\u001b[37m\u001b[0m \u001b[1m24s\u001b[0m 15ms/step - loss: 5.5542 - species_accuracy: 0.0499 - species_loss: 5.0681 - venom_accuracy: 0.8000 - venom_loss: 0.4858 - val_loss: 5.5765 - val_species_accuracy: 0.0485 - val_species_loss: 5.0895 - val_venom_accuracy: 0.7998 - val_venom_loss: 0.4869\n",
      "Epoch 7/10\n",
      "\u001b[1m1659/1662\u001b[0m \u001b[32m━━━━━━━━━━━━━━━━━━━\u001b[0m\u001b[37m━\u001b[0m \u001b[1m0s\u001b[0m 14ms/step - loss: 5.5205 - species_accuracy: 0.0525 - species_loss: 5.0356 - venom_accuracy: 0.8003 - venom_loss: 0.4849\n",
      "Epoch 7: val_loss did not improve from 5.57650\n",
      "\u001b[1m1662/1662\u001b[0m \u001b[32m━━━━━━━━━━━━━━━━━━━━\u001b[0m\u001b[37m\u001b[0m \u001b[1m25s\u001b[0m 15ms/step - loss: 5.5109 - species_accuracy: 0.0534 - species_loss: 5.0276 - venom_accuracy: 0.8002 - venom_loss: 0.4834 - val_loss: 5.5809 - val_species_accuracy: 0.0518 - val_species_loss: 5.0887 - val_venom_accuracy: 0.8000 - val_venom_loss: 0.4919\n",
      "Epoch 8/10\n",
      "\u001b[1m1662/1662\u001b[0m \u001b[32m━━━━━━━━━━━━━━━━━━━━\u001b[0m\u001b[37m\u001b[0m \u001b[1m0s\u001b[0m 14ms/step - loss: 5.4736 - species_accuracy: 0.0550 - species_loss: 4.9934 - venom_accuracy: 0.8014 - venom_loss: 0.4802\n",
      "Epoch 8: val_loss improved from 5.57650 to 5.55524, saving model to model.keras\n",
      "\u001b[1m1662/1662\u001b[0m \u001b[32m━━━━━━━━━━━━━━━━━━━━\u001b[0m\u001b[37m\u001b[0m \u001b[1m24s\u001b[0m 15ms/step - loss: 5.4664 - species_accuracy: 0.0550 - species_loss: 4.9871 - venom_accuracy: 0.8004 - venom_loss: 0.4796 - val_loss: 5.5552 - val_species_accuracy: 0.0549 - val_species_loss: 5.0695 - val_venom_accuracy: 0.8003 - val_venom_loss: 0.4856\n",
      "Epoch 9/10\n",
      "\u001b[1m1658/1662\u001b[0m \u001b[32m━━━━━━━━━━━━━━━━━━━\u001b[0m\u001b[37m━\u001b[0m \u001b[1m0s\u001b[0m 14ms/step - loss: 5.4346 - species_accuracy: 0.0579 - species_loss: 4.9593 - venom_accuracy: 0.8018 - venom_loss: 0.4753\n",
      "Epoch 9: val_loss improved from 5.55524 to 5.55049, saving model to model.keras\n",
      "\u001b[1m1662/1662\u001b[0m \u001b[32m━━━━━━━━━━━━━━━━━━━━\u001b[0m\u001b[37m\u001b[0m \u001b[1m25s\u001b[0m 15ms/step - loss: 5.4266 - species_accuracy: 0.0589 - species_loss: 4.9507 - venom_accuracy: 0.8007 - venom_loss: 0.4759 - val_loss: 5.5505 - val_species_accuracy: 0.0528 - val_species_loss: 5.0639 - val_venom_accuracy: 0.8000 - val_venom_loss: 0.4863\n",
      "Epoch 10/10\n",
      "\u001b[1m1658/1662\u001b[0m \u001b[32m━━━━━━━━━━━━━━━━━━━\u001b[0m\u001b[37m━\u001b[0m \u001b[1m0s\u001b[0m 14ms/step - loss: 5.3868 - species_accuracy: 0.0615 - species_loss: 4.9174 - venom_accuracy: 0.8026 - venom_loss: 0.4695\n",
      "Epoch 10: val_loss did not improve from 5.55049\n",
      "\u001b[1m1662/1662\u001b[0m \u001b[32m━━━━━━━━━━━━━━━━━━━━\u001b[0m\u001b[37m\u001b[0m \u001b[1m25s\u001b[0m 15ms/step - loss: 5.3818 - species_accuracy: 0.0606 - species_loss: 4.9090 - venom_accuracy: 0.8003 - venom_loss: 0.4725 - val_loss: 5.5582 - val_species_accuracy: 0.0504 - val_species_loss: 5.0698 - val_venom_accuracy: 0.8005 - val_venom_loss: 0.4883\n"
     ]
    }
   ],
   "source": [
    "n_epochs = 10  # number of epochs to train the neural network\n",
    "# checkpointing based on the validation loss\n",
    "model_checkpoint_callback = tf.keras.callbacks.ModelCheckpoint('model.keras', monitor='val_loss', save_best_only=True, save_weights_only=False, verbose=1)\n",
    "\n",
    "# model training\n",
    "model_history = model.fit(\n",
    "                            x= train_dataset,\n",
    "                            epochs= n_epochs,\n",
    "                            validation_data= val_dataset,\n",
    "                            callbacks=[model_checkpoint_callback])\n",
    "\n",
    "model.load_weights('model.keras')  # load weights back"
   ]
  },
  {
   "cell_type": "code",
   "execution_count": 13,
   "id": "a4aaf3e3",
   "metadata": {},
   "outputs": [
    {
     "name": "stdout",
     "output_type": "stream",
     "text": [
      "\u001b[1m208/208\u001b[0m \u001b[32m━━━━━━━━━━━━━━━━━━━━\u001b[0m\u001b[37m\u001b[0m \u001b[1m2s\u001b[0m 7ms/step - loss: 5.5400 - species_accuracy: 0.0563 - species_loss: 5.0582 - venom_accuracy: 0.8014 - venom_loss: 0.4815\n",
      "Test Loss:  5.539963722229004\n",
      "Test Accuracy:  5.058150768280029\n"
     ]
    }
   ],
   "source": [
    "test_history = model.evaluate(test_dataset)\n",
    "print(\"Test Loss: \", test_history[0])\n",
    "print(\"Test Accuracy: \", test_history[1])"
   ]
  },
  {
   "cell_type": "code",
   "execution_count": 49,
   "id": "e788003a",
   "metadata": {},
   "outputs": [
    {
     "data": {
      "image/png": "[encoded data removed]",
      "text/plain": [
       "<Figure size 1800x300 with 5 Axes>"
      ]
     },
     "metadata": {},
     "output_type": "display_data"
    }
   ],
   "source": [
    "import numpy as np\n",
    "\n",
    "import tensorflow as tf\n",
    "\n",
    "def example_results(model, info_df, class_names, venom_threshold=0.5):\n",
    "\n",
    "    random_indices = np.random.choice(len(info_df), size=5, replace=False)\n",
    "\n",
    "    plt.figure(figsize=(18, 3))\n",
    "\n",
    "    for i, idx in enumerate(random_indices):\n",
    "\n",
    "        image_path   = info_df[\"image_path\"].iloc[idx]\n",
    "        true_species = info_df[\"encoded_id\"].iloc[idx]\n",
    "        true_venom   = info_df[\"MIVS\"].iloc[idx]\n",
    "\n",
    "        img = load_img(image_path)                \n",
    "        img_dim_expended = tf.expand_dims(img, axis=0) #as if batch size was 1\n",
    "\n",
    "        #prediction, and then deciding\n",
    "        species_pred, venom_pred = model.predict(img_dim_expended, verbose=0)\n",
    "        pred_species = int(np.argmax(species_pred[0]))\n",
    "        pred_venom   = bool(venom_pred[0, 0] > venom_threshold)\n",
    "\n",
    "        # resolve names (if provided)\n",
    "        true_species_name = class_names[true_species] if class_names and 0 <= true_species < len(class_names) else str(true_species)\n",
    "        pred_species_names = class_names[pred_species] if class_names and 0 <= pred_species < len(class_names) else str(pred_species)\n",
    "\n",
    "        # plot\n",
    "        plt.subplot(1, 5, i+1)\n",
    "        plt.imshow(img.numpy()) \n",
    "        plt.axis('off')\n",
    "        plt.title(\n",
    "            f\"True: {true_species} ({true_species_name}), {'Venomous' if true_venom else 'Safe'}\\n\"\n",
    "            f\"Pred: {pred_species} ({pred_species_names}), {'Venomous' if pred_venom else 'Safe'}\",\n",
    "            fontsize=9\n",
    "        )\n",
    "\n",
    "    plt.show()\n",
    "\n",
    "example_results(model, test_info, class_names=CLASS_NAMES)\n"
   ]
  }
 ],
 "metadata": {
  "accelerator": "GPU",
  "colab": {
   "gpuType": "T4",
   "provenance": []
  },
  "kernelspec": {
   "display_name": "Python 3",
   "name": "python3"
  },
  "language_info": {
   "codemirror_mode": {
    "name": "ipython",
    "version": 3
   },
   "file_extension": ".py",
   "mimetype": "text/x-python",
   "name": "python",
   "nbconvert_exporter": "python",
   "pygments_lexer": "ipython3",
   "version": "3.11.9"
  }
 },
 "nbformat": 4,
 "nbformat_minor": 5
}
