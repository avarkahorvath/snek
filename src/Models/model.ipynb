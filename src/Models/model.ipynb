{
 "cells": [
  {
   "cell_type": "markdown",
   "id": "b7d08d50",
   "metadata": {
    "id": "b7d08d50"
   },
   "source": [
    "Loading os and trying to use GPU "
   ]
  },
  {
   "cell_type": "code",
   "execution_count": 11,
   "id": "cb7d91df",
   "metadata": {
    "colab": {
     "base_uri": "https://localhost:8080/"
    },
    "executionInfo": {
     "elapsed": 7956,
     "status": "ok",
     "timestamp": 1760103668680,
     "user": {
      "displayName": "Avarka",
      "userId": "01376155912533068519"
     },
     "user_tz": -120
    },
    "id": "cb7d91df",
    "outputId": "632fa06d-510c-411c-bd31-1a43c8eb8343"
   },
   "outputs": [
    {
     "name": "stdout",
     "output_type": "stream",
     "text": [
      "2.20.0\n"
     ]
    }
   ],
   "source": [
    "import os\n",
    "os.environ['TF_CPP_MIN_LOG_LEVEL'] = '3'\n",
    "import tensorflow as tf\n",
    "import numpy as np\n",
    "import matplotlib.pyplot as plt\n",
    "import cv2\n",
    "import pandas as pd\n",
    "# check tf version\n",
    "print(tf.__version__)\n",
    "\n",
    "gpus = tf.config.list_physical_devices('GPU')\n",
    "for device in gpus:\n",
    "    tf.config.experimental.set_memory_growth(device, True)\n",
    "    print(f\"Found GPU {device.name}, and set memory growth to True.\")\n"
   ]
  },
  {
   "cell_type": "code",
   "execution_count": 12,
   "id": "da306461",
   "metadata": {},
   "outputs": [],
   "source": [
    "#base path is the location of the repo on your computer\n",
    "BASE_PATH = r\"C:\\Users\\avark\\Documents\\snek\"\n",
    "#BASE_PATH = r\"D:\\Egyetem_adat\""
   ]
  },
  {
   "cell_type": "code",
   "execution_count": 13,
   "id": "c3072f05",
   "metadata": {},
   "outputs": [
    {
     "name": "stdout",
     "output_type": "stream",
     "text": [
      "         binomial_name  class_id  MIVS      image_path  encoded_id\n",
      "0       Bitis caudalis       157     0      168482.JPG           9\n",
      "1   Amphiesma stolatum        66     0    59067968.jpg           3\n",
      "2        Lachesis muta       857     1    42704088.jpg         126\n",
      "3         Vipera berus      1736     1  111487306.jpeg         284\n",
      "4  Coronella austriaca       387     0  111486989.jpeg          49\n"
     ]
    },
    {
     "name": "stderr",
     "output_type": "stream",
     "text": [
      "<>:8: SyntaxWarning: invalid escape sequence '\\s'\n",
      "<>:8: SyntaxWarning: invalid escape sequence '\\s'\n",
      "C:\\Users\\janos\\AppData\\Local\\Temp\\ipykernel_20840\\2163187207.py:8: SyntaxWarning: invalid escape sequence '\\s'\n",
      "  species = pd.read_csv(BASE_PATH + r\"\\src\\Data\\train_images_metadata.csv\", index_col=0)\n",
      "C:\\Users\\janos\\AppData\\Local\\Temp\\ipykernel_20840\\2163187207.py:21: SettingWithCopyWarning: \n",
      "A value is trying to be set on a copy of a slice from a DataFrame.\n",
      "Try using .loc[row_indexer,col_indexer] = value instead\n",
      "\n",
      "See the caveats in the documentation: https://pandas.pydata.org/pandas-docs/stable/user_guide/indexing.html#returning-a-view-versus-a-copy\n",
      "  relevant_info[\"encoded_id\"] = encoder.fit_transform(relevant_info[\"class_id\"])\n"
     ]
    }
   ],
   "source": [
    "from sklearn.preprocessing import LabelEncoder\n",
    "\n",
    "species = pd.read_csv(r\"D:\\Egyetem_adat\\train_images_metadata.csv\", index_col=0)\n",
    "venomous = pd.read_csv(r\"D:\\Egyetem_adat\\venomous_status_metadata.csv\", index_col=0)\n",
    "\n",
    "\"\"\"\n",
    "#read the train_images_metadata.csv file\n",
    "species = pd.read_csv(BASE_PATH + r\"\\src\\Data\\train_images_metadata.csv\", index_col=0)\n",
    "\n",
    "#read the venomous_status_metadata.csv file\n",
    "venomous = pd.read_csv(BASE_PATH + r\"\\src\\Data\\venomous_status_metadata.csv\", index_col=0)\n",
    "\"\"\"\n",
    "#merging the 2 files, now every row from species contains a column with venomous status\n",
    "combined = species.merge(venomous[[\"class_id\", \"MIVS\"]], on=\"class_id\", how=\"left\")\n",
    "\n",
    "#choosing the data you need for machine learning\n",
    "relevant_info = combined[[\"binomial_name\", \"class_id\", \"MIVS\", \"image_path\"]]\n",
    "\n",
    "#encoded_id is same as class_id, but starts from 0\n",
    "encoder = LabelEncoder()\n",
    "relevant_info[\"encoded_id\"] = encoder.fit_transform(relevant_info[\"class_id\"])\n",
    "num_classes = len(encoder.classes_)\n",
    "\n",
    "\n",
    "print(relevant_info.head())"
   ]
  },
  {
   "cell_type": "markdown",
   "id": "d98e31d7",
   "metadata": {
    "id": "d98e31d7"
   },
   "source": [
    "Loading python images from folder"
   ]
  },
  {
   "cell_type": "code",
   "execution_count": 14,
   "id": "4fe8d6f9",
   "metadata": {},
   "outputs": [
    {
     "name": "stdout",
     "output_type": "stream",
     "text": [
      "Class counts by encoded_id:\n",
      "encoded_id\n",
      "0      109\n",
      "1      514\n",
      "2      113\n",
      "3      251\n",
      "4      110\n",
      "      ... \n",
      "291    239\n",
      "292    133\n",
      "293    925\n",
      "294    199\n",
      "295    174\n",
      "Name: count, Length: 296, dtype: int64\n",
      "\n",
      "Counts list: [109, 514, 113, 251, 110, 104, 137, 123, 447, 154, 561, 717, 232, 103, 148, 143, 193, 398, 188, 462, 523, 117, 149, 341, 181, 117, 108, 129, 123, 141, 180, 222, 179, 170, 119, 350, 235, 117, 206, 105, 305, 190, 210, 233, 121, 170, 153, 403, 228, 1489, 250, 141, 143, 212, 152, 165, 234, 155, 121, 166, 142, 150, 169, 102, 152, 129, 312, 114, 101, 123, 138, 141, 127, 438, 155, 228, 230, 249, 378, 172, 369, 389, 169, 113, 118, 355, 204, 115, 231, 164, 186, 281, 192, 102, 227, 281, 145, 126, 358, 153, 372, 218, 108, 154, 192, 170, 129, 272, 137, 414, 217, 143, 110, 122, 151, 181, 305, 131, 109, 251, 108, 114, 129, 218, 701, 1065, 142, 219, 156, 146, 154, 139, 331, 145, 366, 111, 206, 265, 169, 259, 286, 696, 288, 150, 125, 435, 203, 162, 108, 138, 159, 100, 324, 293, 258, 160, 142, 248, 123, 147, 306, 212, 151, 101, 107, 110, 154, 259, 124, 104, 114, 189, 109, 121, 141, 201, 128, 533, 367, 1839, 1583, 123, 140, 140, 154, 337, 104, 156, 101, 134, 155, 387, 139, 374, 166, 358, 190, 123, 113, 138, 485, 162, 112, 120, 152, 135, 104, 164, 136, 232, 146, 251, 342, 103, 243, 123, 142, 153, 115, 216, 100, 162, 570, 166, 145, 139, 124, 150, 96, 111, 401, 153, 518, 311, 208, 137, 170, 143, 144, 133, 145, 125, 317, 132, 153, 110, 101, 107, 142, 264, 489, 130, 163, 142, 136, 688, 240, 225, 230, 233, 164, 266, 215, 160, 117, 172, 160, 156, 164, 202, 115, 144, 174, 370, 126, 128, 137, 104, 132, 153, 128, 214, 411, 276, 1221, 125, 106, 107, 136, 122, 243, 239, 133, 925, 199, 174]\n"
     ]
    }
   ],
   "source": [
    "class_counts = relevant_info[\"encoded_id\"].value_counts().sort_index()\n",
    "\n",
    "counts_list = class_counts.tolist()\n",
    "\n",
    "\n",
    "\n",
    "print(\"Class counts by encoded_id:\")\n",
    "print(class_counts)\n",
    "\n",
    "print(\"\\nCounts list:\", counts_list)\n",
    "\n"
   ]
  },
  {
   "cell_type": "code",
   "execution_count": 15,
   "id": "5c99c384",
   "metadata": {},
   "outputs": [],
   "source": [
    "AUTOTUNE = tf.data.AUTOTUNE\n",
    "\n",
    "IMAGE_RESOLUTION=28\n",
    "\n",
    "\n",
    "# Create a TensorFlow dataset for image loading\n",
    "def load_img(path):\n",
    "    img = tf.io.read_file(path)\n",
    "\n",
    "    #3 channels because of rgb\n",
    "    #img = tf.image.decode_jpeg(img, 3)\n",
    "    #expand_animations = False needed, otherwise it\n",
    "    img = tf.image.decode_image(img, channels=3, expand_animations = False)  \n",
    "    img = tf.image.resize(img, [IMAGE_RESOLUTION, IMAGE_RESOLUTION])\n",
    "    img = img / 255.0  # Normalize to [0, 1]\n",
    "    return img\n",
    "\n",
    "# Find all of the image_paths \n",
    "#image_path = [os.path.join(BASE_PATH, 'src', 'Data', 'train_images_small', img_path) for img_path in relevant_info['image_path'].values]\n",
    "image_path = [os.path.join(r\"D:\\Egyetem_adat\\train_images_small\\train_images_small\", img_path) for img_path in relevant_info['image_path'].values]  \n",
    "\n",
    "# Create the dataset and apply transformations\n",
    "ds = tf.data.Dataset.from_tensor_slices(image_path)\n",
    "ds = ds.map(load_img, num_parallel_calls=AUTOTUNE)  # Load images in parallel\n",
    "ds = ds.batch(32).prefetch(AUTOTUNE)  # Batch and prefetch for efficiency\n"
   ]
  },
  {
   "cell_type": "code",
   "execution_count": 16,
   "id": "2c816399",
   "metadata": {},
   "outputs": [],
   "source": [
    "\n",
    "# Labels are going to be either venomous, or non-venomous\n",
    "labels_species = relevant_info['encoded_id'].values\n",
    "labels_venom = relevant_info['MIVS'].values\n",
    "\n",
    "#return processed image and corresponding label\n",
    "def generator():\n",
    "    for img_path, species_label, venom_label in zip(image_path, labels_species, labels_venom):\n",
    "        img = load_img(img_path)\n",
    "        yield img, {'species': species_label, 'venom': venom_label}\n",
    "\n",
    "\n",
    "# Create dataset\n",
    "dataset = tf.data.Dataset.from_generator(\n",
    "    generator,\n",
    "    output_signature=(\n",
    "        tf.TensorSpec(shape=(IMAGE_RESOLUTION, IMAGE_RESOLUTION, 3), dtype=tf.float32),\n",
    "        {\n",
    "            'species': tf.TensorSpec(shape=(), dtype=tf.int32),\n",
    "            'venom': tf.TensorSpec(shape=(), dtype=tf.int32)\n",
    "        }\n",
    "    )\n",
    ")\n",
    "\n",
    "# Batch and prefetch for efficiency\n",
    "BATCH_SIZE = 16\n",
    "dataset = dataset.batch(BATCH_SIZE).prefetch(tf.data.AUTOTUNE)\n"
   ]
  },
  {
   "cell_type": "code",
   "execution_count": 17,
   "id": "a59cb450",
   "metadata": {},
   "outputs": [],
   "source": [
    "from collections import Counter\n",
    "\n",
    "def balance_species_dataset(image_paths, species_labels, venom_labels):\n",
    "    from collections import Counter\n",
    "    species_labels = np.array(species_labels)\n",
    "    venom_labels = np.array(venom_labels)\n",
    "    image_paths = np.array(image_paths)\n",
    "\n",
    "    counts = Counter(species_labels)\n",
    "    values = np.array(list(counts.values()))\n",
    "    target_count = int(np.median(values))\n",
    "\n",
    "    new_image_paths = []\n",
    "    new_species_labels = []\n",
    "    new_venom_labels = []\n",
    "\n",
    "    for label in np.unique(species_labels):\n",
    "        indices = np.where(species_labels == label)[0]\n",
    "        n_samples = len(indices)\n",
    "\n",
    "        if n_samples < target_count:\n",
    "            extra_indices = np.random.choice(indices, target_count - n_samples, replace=True)\n",
    "            final_indices = np.concatenate([indices, extra_indices])\n",
    "        elif n_samples > target_count:\n",
    "            final_indices = np.random.choice(indices, target_count, replace=False)\n",
    "        else:\n",
    "            final_indices = indices\n",
    "\n",
    "        new_image_paths.extend(image_paths[final_indices])\n",
    "        new_species_labels.extend(species_labels[final_indices])\n",
    "        new_venom_labels.extend(venom_labels[final_indices])\n",
    "\n",
    "    #print(f\"Balanced dataset created: {len(np.unique(species_labels))} classes\")\n",
    "    #print(f\"  Target per class: {target_count}\")\n",
    "    #print(f\"  Original size: {len(image_paths)}, New size: {len(new_image_paths)}\")\n",
    "\n",
    "    return np.array(new_image_paths), np.array(new_species_labels), np.array(new_venom_labels)\n"
   ]
  },
  {
   "cell_type": "code",
   "execution_count": 18,
   "id": "8212b82e",
   "metadata": {},
   "outputs": [],
   "source": [
    "class DynamicBalancingCallback(tf.keras.callbacks.Callback):\n",
    "    def __init__(self, image_paths, species_labels, venom_labels, batch_size=16):\n",
    "        super().__init__()\n",
    "        self.image_paths = np.array(image_paths)\n",
    "        self.species_labels = np.array(species_labels)\n",
    "        self.venom_labels = np.array(venom_labels)\n",
    "        self.batch_size = batch_size\n",
    "\n",
    "    def on_epoch_begin(self, epoch, logs=None):\n",
    "        new_paths, new_species, new_venom = balance_species_dataset(\n",
    "            self.image_paths, self.species_labels, self.venom_labels\n",
    "        )\n",
    "\n",
    "        new_train_dataset = tf.data.Dataset.from_tensor_slices(\n",
    "            (new_paths, {'species': new_species, 'venom': new_venom})\n",
    "        )\n",
    "        new_train_dataset = new_train_dataset.map(\n",
    "            lambda x, y: (load_img(x), y),\n",
    "            num_parallel_calls=tf.data.AUTOTUNE\n",
    "        )\n",
    "        new_train_dataset = new_train_dataset.batch(self.batch_size).prefetch(tf.data.AUTOTUNE)\n",
    "\n",
    "        self.model.train_dataset = new_train_dataset\n",
    "\n"
   ]
  },
  {
   "cell_type": "code",
   "execution_count": 19,
   "id": "ab5e8a53",
   "metadata": {},
   "outputs": [
    {
     "name": "stdout",
     "output_type": "stream",
     "text": [
      "Balanced species label distribution:\n",
      "Counter({np.int64(0): 124, np.int64(1): 124, np.int64(2): 124, np.int64(3): 124, np.int64(4): 124, np.int64(5): 124, np.int64(6): 124, np.int64(7): 124, np.int64(8): 124, np.int64(9): 124, np.int64(10): 124, np.int64(11): 124, np.int64(12): 124, np.int64(13): 124, np.int64(14): 124, np.int64(15): 124, np.int64(16): 124, np.int64(17): 124, np.int64(18): 124, np.int64(19): 124, np.int64(20): 124, np.int64(21): 124, np.int64(22): 124, np.int64(23): 124, np.int64(24): 124, np.int64(25): 124, np.int64(26): 124, np.int64(27): 124, np.int64(28): 124, np.int64(29): 124, np.int64(30): 124, np.int64(31): 124, np.int64(32): 124, np.int64(33): 124, np.int64(34): 124, np.int64(35): 124, np.int64(36): 124, np.int64(37): 124, np.int64(38): 124, np.int64(39): 124, np.int64(40): 124, np.int64(41): 124, np.int64(42): 124, np.int64(43): 124, np.int64(44): 124, np.int64(45): 124, np.int64(46): 124, np.int64(47): 124, np.int64(48): 124, np.int64(49): 124, np.int64(50): 124, np.int64(51): 124, np.int64(52): 124, np.int64(53): 124, np.int64(54): 124, np.int64(55): 124, np.int64(56): 124, np.int64(57): 124, np.int64(58): 124, np.int64(59): 124, np.int64(60): 124, np.int64(61): 124, np.int64(62): 124, np.int64(63): 124, np.int64(64): 124, np.int64(65): 124, np.int64(66): 124, np.int64(67): 124, np.int64(68): 124, np.int64(69): 124, np.int64(70): 124, np.int64(71): 124, np.int64(72): 124, np.int64(73): 124, np.int64(74): 124, np.int64(75): 124, np.int64(76): 124, np.int64(77): 124, np.int64(78): 124, np.int64(79): 124, np.int64(80): 124, np.int64(81): 124, np.int64(82): 124, np.int64(83): 124, np.int64(84): 124, np.int64(85): 124, np.int64(86): 124, np.int64(87): 124, np.int64(88): 124, np.int64(89): 124, np.int64(90): 124, np.int64(91): 124, np.int64(92): 124, np.int64(93): 124, np.int64(94): 124, np.int64(95): 124, np.int64(96): 124, np.int64(97): 124, np.int64(98): 124, np.int64(99): 124, np.int64(100): 124, np.int64(101): 124, np.int64(102): 124, np.int64(103): 124, np.int64(104): 124, np.int64(105): 124, np.int64(106): 124, np.int64(107): 124, np.int64(108): 124, np.int64(109): 124, np.int64(110): 124, np.int64(111): 124, np.int64(112): 124, np.int64(113): 124, np.int64(114): 124, np.int64(115): 124, np.int64(116): 124, np.int64(117): 124, np.int64(118): 124, np.int64(119): 124, np.int64(120): 124, np.int64(121): 124, np.int64(122): 124, np.int64(123): 124, np.int64(124): 124, np.int64(125): 124, np.int64(126): 124, np.int64(127): 124, np.int64(128): 124, np.int64(129): 124, np.int64(130): 124, np.int64(131): 124, np.int64(132): 124, np.int64(133): 124, np.int64(134): 124, np.int64(135): 124, np.int64(136): 124, np.int64(137): 124, np.int64(138): 124, np.int64(139): 124, np.int64(140): 124, np.int64(141): 124, np.int64(142): 124, np.int64(143): 124, np.int64(144): 124, np.int64(145): 124, np.int64(146): 124, np.int64(147): 124, np.int64(148): 124, np.int64(149): 124, np.int64(150): 124, np.int64(151): 124, np.int64(152): 124, np.int64(153): 124, np.int64(154): 124, np.int64(155): 124, np.int64(156): 124, np.int64(157): 124, np.int64(158): 124, np.int64(159): 124, np.int64(160): 124, np.int64(161): 124, np.int64(162): 124, np.int64(163): 124, np.int64(164): 124, np.int64(165): 124, np.int64(166): 124, np.int64(167): 124, np.int64(168): 124, np.int64(169): 124, np.int64(170): 124, np.int64(171): 124, np.int64(172): 124, np.int64(173): 124, np.int64(174): 124, np.int64(175): 124, np.int64(176): 124, np.int64(177): 124, np.int64(178): 124, np.int64(179): 124, np.int64(180): 124, np.int64(181): 124, np.int64(182): 124, np.int64(183): 124, np.int64(184): 124, np.int64(185): 124, np.int64(186): 124, np.int64(187): 124, np.int64(188): 124, np.int64(189): 124, np.int64(190): 124, np.int64(191): 124, np.int64(192): 124, np.int64(193): 124, np.int64(194): 124, np.int64(195): 124, np.int64(196): 124, np.int64(197): 124, np.int64(198): 124, np.int64(199): 124, np.int64(200): 124, np.int64(201): 124, np.int64(202): 124, np.int64(203): 124, np.int64(204): 124, np.int64(205): 124, np.int64(206): 124, np.int64(207): 124, np.int64(208): 124, np.int64(209): 124, np.int64(210): 124, np.int64(211): 124, np.int64(212): 124, np.int64(213): 124, np.int64(214): 124, np.int64(215): 124, np.int64(216): 124, np.int64(217): 124, np.int64(218): 124, np.int64(219): 124, np.int64(220): 124, np.int64(221): 124, np.int64(222): 124, np.int64(223): 124, np.int64(224): 124, np.int64(225): 124, np.int64(226): 124, np.int64(227): 124, np.int64(228): 124, np.int64(229): 124, np.int64(230): 124, np.int64(231): 124, np.int64(232): 124, np.int64(233): 124, np.int64(234): 124, np.int64(235): 124, np.int64(236): 124, np.int64(237): 124, np.int64(238): 124, np.int64(239): 124, np.int64(240): 124, np.int64(241): 124, np.int64(242): 124, np.int64(243): 124, np.int64(244): 124, np.int64(245): 124, np.int64(246): 124, np.int64(247): 124, np.int64(248): 124, np.int64(249): 124, np.int64(250): 124, np.int64(251): 124, np.int64(252): 124, np.int64(253): 124, np.int64(254): 124, np.int64(255): 124, np.int64(256): 124, np.int64(257): 124, np.int64(258): 124, np.int64(259): 124, np.int64(260): 124, np.int64(261): 124, np.int64(262): 124, np.int64(263): 124, np.int64(264): 124, np.int64(265): 124, np.int64(266): 124, np.int64(267): 124, np.int64(268): 124, np.int64(269): 124, np.int64(270): 124, np.int64(271): 124, np.int64(272): 124, np.int64(273): 124, np.int64(274): 124, np.int64(275): 124, np.int64(276): 124, np.int64(277): 124, np.int64(278): 124, np.int64(279): 124, np.int64(280): 124, np.int64(281): 124, np.int64(282): 124, np.int64(283): 124, np.int64(284): 124, np.int64(285): 124, np.int64(286): 124, np.int64(287): 124, np.int64(288): 124, np.int64(289): 124, np.int64(290): 124, np.int64(291): 124, np.int64(292): 124, np.int64(293): 124, np.int64(294): 124, np.int64(295): 124})\n",
      "Balanced validation species label distribution:\n",
      "Counter({np.int64(0): 16, np.int64(1): 16, np.int64(2): 16, np.int64(3): 16, np.int64(4): 16, np.int64(5): 16, np.int64(6): 16, np.int64(7): 16, np.int64(8): 16, np.int64(9): 16, np.int64(10): 16, np.int64(11): 16, np.int64(12): 16, np.int64(13): 16, np.int64(14): 16, np.int64(15): 16, np.int64(16): 16, np.int64(17): 16, np.int64(18): 16, np.int64(19): 16, np.int64(20): 16, np.int64(21): 16, np.int64(22): 16, np.int64(23): 16, np.int64(24): 16, np.int64(25): 16, np.int64(26): 16, np.int64(27): 16, np.int64(28): 16, np.int64(29): 16, np.int64(30): 16, np.int64(31): 16, np.int64(32): 16, np.int64(33): 16, np.int64(34): 16, np.int64(35): 16, np.int64(36): 16, np.int64(37): 16, np.int64(38): 16, np.int64(39): 16, np.int64(40): 16, np.int64(41): 16, np.int64(42): 16, np.int64(43): 16, np.int64(44): 16, np.int64(45): 16, np.int64(46): 16, np.int64(47): 16, np.int64(48): 16, np.int64(49): 16, np.int64(50): 16, np.int64(51): 16, np.int64(52): 16, np.int64(53): 16, np.int64(54): 16, np.int64(55): 16, np.int64(56): 16, np.int64(57): 16, np.int64(58): 16, np.int64(59): 16, np.int64(60): 16, np.int64(61): 16, np.int64(62): 16, np.int64(63): 16, np.int64(64): 16, np.int64(65): 16, np.int64(66): 16, np.int64(67): 16, np.int64(68): 16, np.int64(69): 16, np.int64(70): 16, np.int64(71): 16, np.int64(72): 16, np.int64(73): 16, np.int64(74): 16, np.int64(75): 16, np.int64(76): 16, np.int64(77): 16, np.int64(78): 16, np.int64(79): 16, np.int64(80): 16, np.int64(81): 16, np.int64(82): 16, np.int64(83): 16, np.int64(84): 16, np.int64(85): 16, np.int64(86): 16, np.int64(87): 16, np.int64(88): 16, np.int64(89): 16, np.int64(90): 16, np.int64(91): 16, np.int64(92): 16, np.int64(93): 16, np.int64(94): 16, np.int64(95): 16, np.int64(96): 16, np.int64(97): 16, np.int64(98): 16, np.int64(99): 16, np.int64(100): 16, np.int64(101): 16, np.int64(102): 16, np.int64(103): 16, np.int64(104): 16, np.int64(105): 16, np.int64(106): 16, np.int64(107): 16, np.int64(108): 16, np.int64(109): 16, np.int64(110): 16, np.int64(111): 16, np.int64(112): 16, np.int64(113): 16, np.int64(114): 16, np.int64(115): 16, np.int64(116): 16, np.int64(117): 16, np.int64(118): 16, np.int64(119): 16, np.int64(120): 16, np.int64(121): 16, np.int64(122): 16, np.int64(123): 16, np.int64(124): 16, np.int64(125): 16, np.int64(126): 16, np.int64(127): 16, np.int64(128): 16, np.int64(129): 16, np.int64(130): 16, np.int64(131): 16, np.int64(132): 16, np.int64(133): 16, np.int64(134): 16, np.int64(135): 16, np.int64(136): 16, np.int64(137): 16, np.int64(138): 16, np.int64(139): 16, np.int64(140): 16, np.int64(141): 16, np.int64(142): 16, np.int64(143): 16, np.int64(144): 16, np.int64(145): 16, np.int64(146): 16, np.int64(147): 16, np.int64(148): 16, np.int64(149): 16, np.int64(150): 16, np.int64(151): 16, np.int64(152): 16, np.int64(153): 16, np.int64(154): 16, np.int64(155): 16, np.int64(156): 16, np.int64(157): 16, np.int64(158): 16, np.int64(159): 16, np.int64(160): 16, np.int64(161): 16, np.int64(162): 16, np.int64(163): 16, np.int64(164): 16, np.int64(165): 16, np.int64(166): 16, np.int64(167): 16, np.int64(168): 16, np.int64(169): 16, np.int64(170): 16, np.int64(171): 16, np.int64(172): 16, np.int64(173): 16, np.int64(174): 16, np.int64(175): 16, np.int64(176): 16, np.int64(177): 16, np.int64(178): 16, np.int64(179): 16, np.int64(180): 16, np.int64(181): 16, np.int64(182): 16, np.int64(183): 16, np.int64(184): 16, np.int64(185): 16, np.int64(186): 16, np.int64(187): 16, np.int64(188): 16, np.int64(189): 16, np.int64(190): 16, np.int64(191): 16, np.int64(192): 16, np.int64(193): 16, np.int64(194): 16, np.int64(195): 16, np.int64(196): 16, np.int64(197): 16, np.int64(198): 16, np.int64(199): 16, np.int64(200): 16, np.int64(201): 16, np.int64(202): 16, np.int64(203): 16, np.int64(204): 16, np.int64(205): 16, np.int64(206): 16, np.int64(207): 16, np.int64(208): 16, np.int64(209): 16, np.int64(210): 16, np.int64(211): 16, np.int64(212): 16, np.int64(213): 16, np.int64(214): 16, np.int64(215): 16, np.int64(216): 16, np.int64(217): 16, np.int64(218): 16, np.int64(219): 16, np.int64(220): 16, np.int64(221): 16, np.int64(222): 16, np.int64(223): 16, np.int64(224): 16, np.int64(225): 16, np.int64(226): 16, np.int64(227): 16, np.int64(228): 16, np.int64(229): 16, np.int64(230): 16, np.int64(231): 16, np.int64(232): 16, np.int64(233): 16, np.int64(234): 16, np.int64(235): 16, np.int64(236): 16, np.int64(237): 16, np.int64(238): 16, np.int64(239): 16, np.int64(240): 16, np.int64(241): 16, np.int64(242): 16, np.int64(243): 16, np.int64(244): 16, np.int64(245): 16, np.int64(246): 16, np.int64(247): 16, np.int64(248): 16, np.int64(249): 16, np.int64(250): 16, np.int64(251): 16, np.int64(252): 16, np.int64(253): 16, np.int64(254): 16, np.int64(255): 16, np.int64(256): 16, np.int64(257): 16, np.int64(258): 16, np.int64(259): 16, np.int64(260): 16, np.int64(261): 16, np.int64(262): 16, np.int64(263): 16, np.int64(264): 16, np.int64(265): 16, np.int64(266): 16, np.int64(267): 16, np.int64(268): 16, np.int64(269): 16, np.int64(270): 16, np.int64(271): 16, np.int64(272): 16, np.int64(273): 16, np.int64(274): 16, np.int64(275): 16, np.int64(276): 16, np.int64(277): 16, np.int64(278): 16, np.int64(279): 16, np.int64(280): 16, np.int64(281): 16, np.int64(282): 16, np.int64(283): 16, np.int64(284): 16, np.int64(285): 16, np.int64(286): 16, np.int64(287): 16, np.int64(288): 16, np.int64(289): 16, np.int64(290): 16, np.int64(291): 16, np.int64(292): 16, np.int64(293): 16, np.int64(294): 16, np.int64(295): 16})\n"
     ]
    }
   ],
   "source": [
    "from sklearn.model_selection import train_test_split\n",
    "\n",
    "#train_image_paths = [os.path.join(BASE_PATH, 'src', 'Data', 'train_images_small', path) for path in relevant_info[\"image_path\"]]\n",
    "train_image_paths = [os.path.join(r\"D:\\Egyetem_adat\\train_images_small\\train_images_small\", path) for path in relevant_info[\"image_path\"]]\n",
    "\n",
    "#labels_species = relevant_info['encoded_id'].values\n",
    "#labels_venom   = relevant_info['MIVS'].values\n",
    "\n",
    "train_image_paths, temp_image_paths, train_species_labels, temp_species_labels, train_venom_labels, temp_venom_labels = train_test_split(\n",
    "    train_image_paths, labels_species, labels_venom, test_size=0.2, random_state=42, stratify=labels_species\n",
    ")\n",
    "\n",
    "val_image_paths, test_image_paths, val_species_labels, test_species_labels, val_venom_labels, test_venom_labels = train_test_split(\n",
    "    temp_image_paths, temp_species_labels, temp_venom_labels, test_size=0.5, random_state=42, stratify=temp_species_labels\n",
    ")\n",
    "\n",
    "\n",
    "\n",
    "train_image_paths_bal, train_species_labels_bal, train_venom_labels_bal = balance_species_dataset(\n",
    "    train_image_paths,\n",
    "    train_species_labels,\n",
    "    train_venom_labels\n",
    ")\n",
    "val_image_paths_bal, val_species_labels_bal, val_venom_labels_bal = balance_species_dataset(\n",
    "    val_image_paths,\n",
    "    val_species_labels,\n",
    "    val_venom_labels\n",
    ")\n",
    "\n",
    "\n",
    "\n",
    "# Train dataset\n",
    "train_dataset = tf.data.Dataset.from_tensor_slices(\n",
    "    (train_image_paths_bal, {'species': train_species_labels_bal, 'venom': train_venom_labels_bal})\n",
    ")\n",
    "train_dataset = train_dataset.map(\n",
    "    lambda x, y: (load_img(x), y),\n",
    "    num_parallel_calls=tf.data.AUTOTUNE\n",
    ")\n",
    "train_dataset = train_dataset.batch(32).prefetch(tf.data.AUTOTUNE)\n",
    "print(\"Balanced species label distribution:\")\n",
    "print(Counter(train_species_labels_bal))\n",
    "\n",
    "\n",
    "\n",
    "\n",
    "val_dataset = tf.data.Dataset.from_tensor_slices(\n",
    "    (val_image_paths_bal, {'species': val_species_labels_bal, 'venom': val_venom_labels_bal})\n",
    ")\n",
    "val_dataset = val_dataset.map(\n",
    "    lambda x, y: (load_img(x), y),\n",
    "    num_parallel_calls=tf.data.AUTOTUNE\n",
    ")\n",
    "val_dataset = val_dataset.batch(32).prefetch(tf.data.AUTOTUNE)\n",
    "\n",
    "print(\"Balanced validation species label distribution:\")\n",
    "print(Counter(val_species_labels_bal))\n"
   ]
  },
  {
   "cell_type": "code",
   "execution_count": 20,
   "id": "032c4ced",
   "metadata": {},
   "outputs": [
    {
     "data": {
      "text/html": [
       "<pre style=\"white-space:pre;overflow-x:auto;line-height:normal;font-family:Menlo,'DejaVu Sans Mono',consolas,'Courier New',monospace\"><span style=\"font-weight: bold\">Model: \"functional\"</span>\n",
       "</pre>\n"
      ],
      "text/plain": [
       "\u001b[1mModel: \"functional\"\u001b[0m\n"
      ]
     },
     "metadata": {},
     "output_type": "display_data"
    },
    {
     "data": {
      "text/html": [
       "<pre style=\"white-space:pre;overflow-x:auto;line-height:normal;font-family:Menlo,'DejaVu Sans Mono',consolas,'Courier New',monospace\">┏━━━━━━━━━━━━━━━━━━━━━┳━━━━━━━━━━━━━━━━━━━┳━━━━━━━━━━━━┳━━━━━━━━━━━━━━━━━━━┓\n",
       "┃<span style=\"font-weight: bold\"> Layer (type)        </span>┃<span style=\"font-weight: bold\"> Output Shape      </span>┃<span style=\"font-weight: bold\">    Param # </span>┃<span style=\"font-weight: bold\"> Connected to      </span>┃\n",
       "┡━━━━━━━━━━━━━━━━━━━━━╇━━━━━━━━━━━━━━━━━━━╇━━━━━━━━━━━━╇━━━━━━━━━━━━━━━━━━━┩\n",
       "│ input_layer         │ (<span style=\"color: #00d7ff; text-decoration-color: #00d7ff\">None</span>, <span style=\"color: #00af00; text-decoration-color: #00af00\">28</span>, <span style=\"color: #00af00; text-decoration-color: #00af00\">28</span>, <span style=\"color: #00af00; text-decoration-color: #00af00\">3</span>) │          <span style=\"color: #00af00; text-decoration-color: #00af00\">0</span> │ -                 │\n",
       "│ (<span style=\"color: #0087ff; text-decoration-color: #0087ff\">InputLayer</span>)        │                   │            │                   │\n",
       "├─────────────────────┼───────────────────┼────────────┼───────────────────┤\n",
       "│ conv2d (<span style=\"color: #0087ff; text-decoration-color: #0087ff\">Conv2D</span>)     │ (<span style=\"color: #00d7ff; text-decoration-color: #00d7ff\">None</span>, <span style=\"color: #00af00; text-decoration-color: #00af00\">28</span>, <span style=\"color: #00af00; text-decoration-color: #00af00\">28</span>,    │        <span style=\"color: #00af00; text-decoration-color: #00af00\">896</span> │ input_layer[<span style=\"color: #00af00; text-decoration-color: #00af00\">0</span>][<span style=\"color: #00af00; text-decoration-color: #00af00\">0</span>] │\n",
       "│                     │ <span style=\"color: #00af00; text-decoration-color: #00af00\">32</span>)               │            │                   │\n",
       "├─────────────────────┼───────────────────┼────────────┼───────────────────┤\n",
       "│ max_pooling2d       │ (<span style=\"color: #00d7ff; text-decoration-color: #00d7ff\">None</span>, <span style=\"color: #00af00; text-decoration-color: #00af00\">14</span>, <span style=\"color: #00af00; text-decoration-color: #00af00\">14</span>,    │          <span style=\"color: #00af00; text-decoration-color: #00af00\">0</span> │ conv2d[<span style=\"color: #00af00; text-decoration-color: #00af00\">0</span>][<span style=\"color: #00af00; text-decoration-color: #00af00\">0</span>]      │\n",
       "│ (<span style=\"color: #0087ff; text-decoration-color: #0087ff\">MaxPooling2D</span>)      │ <span style=\"color: #00af00; text-decoration-color: #00af00\">32</span>)               │            │                   │\n",
       "├─────────────────────┼───────────────────┼────────────┼───────────────────┤\n",
       "│ conv2d_1 (<span style=\"color: #0087ff; text-decoration-color: #0087ff\">Conv2D</span>)   │ (<span style=\"color: #00d7ff; text-decoration-color: #00d7ff\">None</span>, <span style=\"color: #00af00; text-decoration-color: #00af00\">14</span>, <span style=\"color: #00af00; text-decoration-color: #00af00\">14</span>,    │     <span style=\"color: #00af00; text-decoration-color: #00af00\">18,496</span> │ max_pooling2d[<span style=\"color: #00af00; text-decoration-color: #00af00\">0</span>]… │\n",
       "│                     │ <span style=\"color: #00af00; text-decoration-color: #00af00\">64</span>)               │            │                   │\n",
       "├─────────────────────┼───────────────────┼────────────┼───────────────────┤\n",
       "│ max_pooling2d_1     │ (<span style=\"color: #00d7ff; text-decoration-color: #00d7ff\">None</span>, <span style=\"color: #00af00; text-decoration-color: #00af00\">7</span>, <span style=\"color: #00af00; text-decoration-color: #00af00\">7</span>, <span style=\"color: #00af00; text-decoration-color: #00af00\">64</span>)  │          <span style=\"color: #00af00; text-decoration-color: #00af00\">0</span> │ conv2d_1[<span style=\"color: #00af00; text-decoration-color: #00af00\">0</span>][<span style=\"color: #00af00; text-decoration-color: #00af00\">0</span>]    │\n",
       "│ (<span style=\"color: #0087ff; text-decoration-color: #0087ff\">MaxPooling2D</span>)      │                   │            │                   │\n",
       "├─────────────────────┼───────────────────┼────────────┼───────────────────┤\n",
       "│ conv2d_2 (<span style=\"color: #0087ff; text-decoration-color: #0087ff\">Conv2D</span>)   │ (<span style=\"color: #00d7ff; text-decoration-color: #00d7ff\">None</span>, <span style=\"color: #00af00; text-decoration-color: #00af00\">7</span>, <span style=\"color: #00af00; text-decoration-color: #00af00\">7</span>, <span style=\"color: #00af00; text-decoration-color: #00af00\">128</span>) │     <span style=\"color: #00af00; text-decoration-color: #00af00\">73,856</span> │ max_pooling2d_1[<span style=\"color: #00af00; text-decoration-color: #00af00\">…</span> │\n",
       "├─────────────────────┼───────────────────┼────────────┼───────────────────┤\n",
       "│ max_pooling2d_2     │ (<span style=\"color: #00d7ff; text-decoration-color: #00d7ff\">None</span>, <span style=\"color: #00af00; text-decoration-color: #00af00\">3</span>, <span style=\"color: #00af00; text-decoration-color: #00af00\">3</span>, <span style=\"color: #00af00; text-decoration-color: #00af00\">128</span>) │          <span style=\"color: #00af00; text-decoration-color: #00af00\">0</span> │ conv2d_2[<span style=\"color: #00af00; text-decoration-color: #00af00\">0</span>][<span style=\"color: #00af00; text-decoration-color: #00af00\">0</span>]    │\n",
       "│ (<span style=\"color: #0087ff; text-decoration-color: #0087ff\">MaxPooling2D</span>)      │                   │            │                   │\n",
       "├─────────────────────┼───────────────────┼────────────┼───────────────────┤\n",
       "│ conv2d_3 (<span style=\"color: #0087ff; text-decoration-color: #0087ff\">Conv2D</span>)   │ (<span style=\"color: #00d7ff; text-decoration-color: #00d7ff\">None</span>, <span style=\"color: #00af00; text-decoration-color: #00af00\">3</span>, <span style=\"color: #00af00; text-decoration-color: #00af00\">3</span>, <span style=\"color: #00af00; text-decoration-color: #00af00\">32</span>)  │     <span style=\"color: #00af00; text-decoration-color: #00af00\">36,896</span> │ max_pooling2d_2[<span style=\"color: #00af00; text-decoration-color: #00af00\">…</span> │\n",
       "├─────────────────────┼───────────────────┼────────────┼───────────────────┤\n",
       "│ max_pooling2d_3     │ (<span style=\"color: #00d7ff; text-decoration-color: #00d7ff\">None</span>, <span style=\"color: #00af00; text-decoration-color: #00af00\">1</span>, <span style=\"color: #00af00; text-decoration-color: #00af00\">1</span>, <span style=\"color: #00af00; text-decoration-color: #00af00\">32</span>)  │          <span style=\"color: #00af00; text-decoration-color: #00af00\">0</span> │ conv2d_3[<span style=\"color: #00af00; text-decoration-color: #00af00\">0</span>][<span style=\"color: #00af00; text-decoration-color: #00af00\">0</span>]    │\n",
       "│ (<span style=\"color: #0087ff; text-decoration-color: #0087ff\">MaxPooling2D</span>)      │                   │            │                   │\n",
       "├─────────────────────┼───────────────────┼────────────┼───────────────────┤\n",
       "│ flatten (<span style=\"color: #0087ff; text-decoration-color: #0087ff\">Flatten</span>)   │ (<span style=\"color: #00d7ff; text-decoration-color: #00d7ff\">None</span>, <span style=\"color: #00af00; text-decoration-color: #00af00\">32</span>)        │          <span style=\"color: #00af00; text-decoration-color: #00af00\">0</span> │ max_pooling2d_3[<span style=\"color: #00af00; text-decoration-color: #00af00\">…</span> │\n",
       "├─────────────────────┼───────────────────┼────────────┼───────────────────┤\n",
       "│ dense (<span style=\"color: #0087ff; text-decoration-color: #0087ff\">Dense</span>)       │ (<span style=\"color: #00d7ff; text-decoration-color: #00d7ff\">None</span>, <span style=\"color: #00af00; text-decoration-color: #00af00\">128</span>)       │      <span style=\"color: #00af00; text-decoration-color: #00af00\">4,224</span> │ flatten[<span style=\"color: #00af00; text-decoration-color: #00af00\">0</span>][<span style=\"color: #00af00; text-decoration-color: #00af00\">0</span>]     │\n",
       "├─────────────────────┼───────────────────┼────────────┼───────────────────┤\n",
       "│ dropout (<span style=\"color: #0087ff; text-decoration-color: #0087ff\">Dropout</span>)   │ (<span style=\"color: #00d7ff; text-decoration-color: #00d7ff\">None</span>, <span style=\"color: #00af00; text-decoration-color: #00af00\">128</span>)       │          <span style=\"color: #00af00; text-decoration-color: #00af00\">0</span> │ dense[<span style=\"color: #00af00; text-decoration-color: #00af00\">0</span>][<span style=\"color: #00af00; text-decoration-color: #00af00\">0</span>]       │\n",
       "├─────────────────────┼───────────────────┼────────────┼───────────────────┤\n",
       "│ species (<span style=\"color: #0087ff; text-decoration-color: #0087ff\">Dense</span>)     │ (<span style=\"color: #00d7ff; text-decoration-color: #00d7ff\">None</span>, <span style=\"color: #00af00; text-decoration-color: #00af00\">296</span>)       │     <span style=\"color: #00af00; text-decoration-color: #00af00\">38,184</span> │ dropout[<span style=\"color: #00af00; text-decoration-color: #00af00\">0</span>][<span style=\"color: #00af00; text-decoration-color: #00af00\">0</span>]     │\n",
       "├─────────────────────┼───────────────────┼────────────┼───────────────────┤\n",
       "│ venom (<span style=\"color: #0087ff; text-decoration-color: #0087ff\">Dense</span>)       │ (<span style=\"color: #00d7ff; text-decoration-color: #00d7ff\">None</span>, <span style=\"color: #00af00; text-decoration-color: #00af00\">1</span>)         │        <span style=\"color: #00af00; text-decoration-color: #00af00\">129</span> │ dropout[<span style=\"color: #00af00; text-decoration-color: #00af00\">0</span>][<span style=\"color: #00af00; text-decoration-color: #00af00\">0</span>]     │\n",
       "└─────────────────────┴───────────────────┴────────────┴───────────────────┘\n",
       "</pre>\n"
      ],
      "text/plain": [
       "┏━━━━━━━━━━━━━━━━━━━━━┳━━━━━━━━━━━━━━━━━━━┳━━━━━━━━━━━━┳━━━━━━━━━━━━━━━━━━━┓\n",
       "┃\u001b[1m \u001b[0m\u001b[1mLayer (type)       \u001b[0m\u001b[1m \u001b[0m┃\u001b[1m \u001b[0m\u001b[1mOutput Shape     \u001b[0m\u001b[1m \u001b[0m┃\u001b[1m \u001b[0m\u001b[1m   Param #\u001b[0m\u001b[1m \u001b[0m┃\u001b[1m \u001b[0m\u001b[1mConnected to     \u001b[0m\u001b[1m \u001b[0m┃\n",
       "┡━━━━━━━━━━━━━━━━━━━━━╇━━━━━━━━━━━━━━━━━━━╇━━━━━━━━━━━━╇━━━━━━━━━━━━━━━━━━━┩\n",
       "│ input_layer         │ (\u001b[38;5;45mNone\u001b[0m, \u001b[38;5;34m28\u001b[0m, \u001b[38;5;34m28\u001b[0m, \u001b[38;5;34m3\u001b[0m) │          \u001b[38;5;34m0\u001b[0m │ -                 │\n",
       "│ (\u001b[38;5;33mInputLayer\u001b[0m)        │                   │            │                   │\n",
       "├─────────────────────┼───────────────────┼────────────┼───────────────────┤\n",
       "│ conv2d (\u001b[38;5;33mConv2D\u001b[0m)     │ (\u001b[38;5;45mNone\u001b[0m, \u001b[38;5;34m28\u001b[0m, \u001b[38;5;34m28\u001b[0m,    │        \u001b[38;5;34m896\u001b[0m │ input_layer[\u001b[38;5;34m0\u001b[0m][\u001b[38;5;34m0\u001b[0m] │\n",
       "│                     │ \u001b[38;5;34m32\u001b[0m)               │            │                   │\n",
       "├─────────────────────┼───────────────────┼────────────┼───────────────────┤\n",
       "│ max_pooling2d       │ (\u001b[38;5;45mNone\u001b[0m, \u001b[38;5;34m14\u001b[0m, \u001b[38;5;34m14\u001b[0m,    │          \u001b[38;5;34m0\u001b[0m │ conv2d[\u001b[38;5;34m0\u001b[0m][\u001b[38;5;34m0\u001b[0m]      │\n",
       "│ (\u001b[38;5;33mMaxPooling2D\u001b[0m)      │ \u001b[38;5;34m32\u001b[0m)               │            │                   │\n",
       "├─────────────────────┼───────────────────┼────────────┼───────────────────┤\n",
       "│ conv2d_1 (\u001b[38;5;33mConv2D\u001b[0m)   │ (\u001b[38;5;45mNone\u001b[0m, \u001b[38;5;34m14\u001b[0m, \u001b[38;5;34m14\u001b[0m,    │     \u001b[38;5;34m18,496\u001b[0m │ max_pooling2d[\u001b[38;5;34m0\u001b[0m]… │\n",
       "│                     │ \u001b[38;5;34m64\u001b[0m)               │            │                   │\n",
       "├─────────────────────┼───────────────────┼────────────┼───────────────────┤\n",
       "│ max_pooling2d_1     │ (\u001b[38;5;45mNone\u001b[0m, \u001b[38;5;34m7\u001b[0m, \u001b[38;5;34m7\u001b[0m, \u001b[38;5;34m64\u001b[0m)  │          \u001b[38;5;34m0\u001b[0m │ conv2d_1[\u001b[38;5;34m0\u001b[0m][\u001b[38;5;34m0\u001b[0m]    │\n",
       "│ (\u001b[38;5;33mMaxPooling2D\u001b[0m)      │                   │            │                   │\n",
       "├─────────────────────┼───────────────────┼────────────┼───────────────────┤\n",
       "│ conv2d_2 (\u001b[38;5;33mConv2D\u001b[0m)   │ (\u001b[38;5;45mNone\u001b[0m, \u001b[38;5;34m7\u001b[0m, \u001b[38;5;34m7\u001b[0m, \u001b[38;5;34m128\u001b[0m) │     \u001b[38;5;34m73,856\u001b[0m │ max_pooling2d_1[\u001b[38;5;34m…\u001b[0m │\n",
       "├─────────────────────┼───────────────────┼────────────┼───────────────────┤\n",
       "│ max_pooling2d_2     │ (\u001b[38;5;45mNone\u001b[0m, \u001b[38;5;34m3\u001b[0m, \u001b[38;5;34m3\u001b[0m, \u001b[38;5;34m128\u001b[0m) │          \u001b[38;5;34m0\u001b[0m │ conv2d_2[\u001b[38;5;34m0\u001b[0m][\u001b[38;5;34m0\u001b[0m]    │\n",
       "│ (\u001b[38;5;33mMaxPooling2D\u001b[0m)      │                   │            │                   │\n",
       "├─────────────────────┼───────────────────┼────────────┼───────────────────┤\n",
       "│ conv2d_3 (\u001b[38;5;33mConv2D\u001b[0m)   │ (\u001b[38;5;45mNone\u001b[0m, \u001b[38;5;34m3\u001b[0m, \u001b[38;5;34m3\u001b[0m, \u001b[38;5;34m32\u001b[0m)  │     \u001b[38;5;34m36,896\u001b[0m │ max_pooling2d_2[\u001b[38;5;34m…\u001b[0m │\n",
       "├─────────────────────┼───────────────────┼────────────┼───────────────────┤\n",
       "│ max_pooling2d_3     │ (\u001b[38;5;45mNone\u001b[0m, \u001b[38;5;34m1\u001b[0m, \u001b[38;5;34m1\u001b[0m, \u001b[38;5;34m32\u001b[0m)  │          \u001b[38;5;34m0\u001b[0m │ conv2d_3[\u001b[38;5;34m0\u001b[0m][\u001b[38;5;34m0\u001b[0m]    │\n",
       "│ (\u001b[38;5;33mMaxPooling2D\u001b[0m)      │                   │            │                   │\n",
       "├─────────────────────┼───────────────────┼────────────┼───────────────────┤\n",
       "│ flatten (\u001b[38;5;33mFlatten\u001b[0m)   │ (\u001b[38;5;45mNone\u001b[0m, \u001b[38;5;34m32\u001b[0m)        │          \u001b[38;5;34m0\u001b[0m │ max_pooling2d_3[\u001b[38;5;34m…\u001b[0m │\n",
       "├─────────────────────┼───────────────────┼────────────┼───────────────────┤\n",
       "│ dense (\u001b[38;5;33mDense\u001b[0m)       │ (\u001b[38;5;45mNone\u001b[0m, \u001b[38;5;34m128\u001b[0m)       │      \u001b[38;5;34m4,224\u001b[0m │ flatten[\u001b[38;5;34m0\u001b[0m][\u001b[38;5;34m0\u001b[0m]     │\n",
       "├─────────────────────┼───────────────────┼────────────┼───────────────────┤\n",
       "│ dropout (\u001b[38;5;33mDropout\u001b[0m)   │ (\u001b[38;5;45mNone\u001b[0m, \u001b[38;5;34m128\u001b[0m)       │          \u001b[38;5;34m0\u001b[0m │ dense[\u001b[38;5;34m0\u001b[0m][\u001b[38;5;34m0\u001b[0m]       │\n",
       "├─────────────────────┼───────────────────┼────────────┼───────────────────┤\n",
       "│ species (\u001b[38;5;33mDense\u001b[0m)     │ (\u001b[38;5;45mNone\u001b[0m, \u001b[38;5;34m296\u001b[0m)       │     \u001b[38;5;34m38,184\u001b[0m │ dropout[\u001b[38;5;34m0\u001b[0m][\u001b[38;5;34m0\u001b[0m]     │\n",
       "├─────────────────────┼───────────────────┼────────────┼───────────────────┤\n",
       "│ venom (\u001b[38;5;33mDense\u001b[0m)       │ (\u001b[38;5;45mNone\u001b[0m, \u001b[38;5;34m1\u001b[0m)         │        \u001b[38;5;34m129\u001b[0m │ dropout[\u001b[38;5;34m0\u001b[0m][\u001b[38;5;34m0\u001b[0m]     │\n",
       "└─────────────────────┴───────────────────┴────────────┴───────────────────┘\n"
      ]
     },
     "metadata": {},
     "output_type": "display_data"
    },
    {
     "data": {
      "text/html": [
       "<pre style=\"white-space:pre;overflow-x:auto;line-height:normal;font-family:Menlo,'DejaVu Sans Mono',consolas,'Courier New',monospace\"><span style=\"font-weight: bold\"> Total params: </span><span style=\"color: #00af00; text-decoration-color: #00af00\">172,681</span> (674.54 KB)\n",
       "</pre>\n"
      ],
      "text/plain": [
       "\u001b[1m Total params: \u001b[0m\u001b[38;5;34m172,681\u001b[0m (674.54 KB)\n"
      ]
     },
     "metadata": {},
     "output_type": "display_data"
    },
    {
     "data": {
      "text/html": [
       "<pre style=\"white-space:pre;overflow-x:auto;line-height:normal;font-family:Menlo,'DejaVu Sans Mono',consolas,'Courier New',monospace\"><span style=\"font-weight: bold\"> Trainable params: </span><span style=\"color: #00af00; text-decoration-color: #00af00\">172,681</span> (674.54 KB)\n",
       "</pre>\n"
      ],
      "text/plain": [
       "\u001b[1m Trainable params: \u001b[0m\u001b[38;5;34m172,681\u001b[0m (674.54 KB)\n"
      ]
     },
     "metadata": {},
     "output_type": "display_data"
    },
    {
     "data": {
      "text/html": [
       "<pre style=\"white-space:pre;overflow-x:auto;line-height:normal;font-family:Menlo,'DejaVu Sans Mono',consolas,'Courier New',monospace\"><span style=\"font-weight: bold\"> Non-trainable params: </span><span style=\"color: #00af00; text-decoration-color: #00af00\">0</span> (0.00 B)\n",
       "</pre>\n"
      ],
      "text/plain": [
       "\u001b[1m Non-trainable params: \u001b[0m\u001b[38;5;34m0\u001b[0m (0.00 B)\n"
      ]
     },
     "metadata": {},
     "output_type": "display_data"
    }
   ],
   "source": [
    "from tensorflow.keras.layers import Flatten, Conv2D, Dense, Input, MaxPooling2D, Dropout, Rescaling\n",
    "from tensorflow.keras import Model\n",
    "\n",
    "from re import X\n",
    "\n",
    "input = Input(shape=(IMAGE_RESOLUTION, IMAGE_RESOLUTION, 3))\n",
    "x = Rescaling(1./255)(input)\n",
    "\n",
    "x = Conv2D(32, (3,3), padding='same', activation=\"relu\")(input)\n",
    "x = MaxPooling2D((2,2), padding='valid')(x)\n",
    "\n",
    "x = Conv2D(64, (3,3), padding='same', activation=\"relu\")(x)\n",
    "x = MaxPooling2D((2,2), padding='valid')(x)\n",
    "\n",
    "x = Conv2D(128, (3,3), padding='same', activation=\"relu\")(x)\n",
    "x = MaxPooling2D((2,2), padding='valid')(x)\n",
    "\n",
    "x = Conv2D(32, (3,3), padding='same', activation=\"relu\")(x)\n",
    "x = MaxPooling2D((2,2), padding='valid')(x)\n",
    "\n",
    "x = Flatten()(x)\n",
    "\n",
    "x = Dense(128, activation='relu')(x)\n",
    "\n",
    "x = Dropout(0.3)(x)\n",
    "\n",
    "species_output = Dense(num_classes, activation='softmax', name='species')(x)\n",
    "venom_output = Dense(1, activation='sigmoid', name='venom')(x)\n",
    "\n",
    "model = Model(inputs=input, outputs=[species_output, venom_output])\n",
    "\n",
    "model.summary()"
   ]
  },
  {
   "cell_type": "code",
   "execution_count": null,
   "id": "f4ff5585",
   "metadata": {},
   "outputs": [],
   "source": [
    "def custom_species_loss(y_true, y_pred):\n",
    "    \"\"\"Species classification loss with custom weighting\"\"\"\n",
    "    return tf.keras.losses.sparse_categorical_crossentropy(y_true, y_pred)\n",
    "\n",
    "def custom_venom_loss(y_true, y_pred):\n",
    "    \"\"\"Venom classification loss with extra penalty for venomous snakes\"\"\"\n",
    "    base_loss = tf.keras.losses.binary_crossentropy(y_true, y_pred)\n",
    "    \n",
    "    penalty_mask = tf.where(y_true > 0.5, (1.0 + 3.7 * (1.0 - y_pred)), 1.0)\n",
    "\n",
    "    weighted_loss = base_loss * penalty_mask\n",
    "    return weighted_loss"
   ]
  },
  {
   "cell_type": "code",
   "execution_count": 22,
   "id": "76bc1628",
   "metadata": {},
   "outputs": [],
   "source": [
    "model.compile(\n",
    "    optimizer='adam',\n",
    "    #loss={'species': 'sparse_categorical_crossentropy', 'venom': 'binary_crossentropy'},\n",
    "    loss={\n",
    "        'species': 'sparse_categorical_crossentropy',\n",
    "        'venom': custom_venom_loss\n",
    "    },\n",
    "    metrics={\n",
    "        'species': 'accuracy',\n",
    "        'venom': 'accuracy'\n",
    "    }\n",
    "    )"
   ]
  },
  {
   "cell_type": "code",
   "execution_count": 23,
   "id": "fd77baa0",
   "metadata": {},
   "outputs": [
    {
     "name": "stdout",
     "output_type": "stream",
     "text": [
      "Epoch 1/10\n",
      "\u001b[1m1147/1147\u001b[0m \u001b[32m━━━━━━━━━━━━━━━━━━━━\u001b[0m\u001b[37m\u001b[0m \u001b[1m0s\u001b[0m 21ms/step - loss: 6.7611 - species_accuracy: 0.0021 - species_loss: 5.7546 - venom_accuracy: 0.6404 - venom_loss: 1.0066\n",
      "Epoch 1: val_loss improved from None to 6.68856, saving model to model.keras\n",
      "\u001b[1m1147/1147\u001b[0m \u001b[32m━━━━━━━━━━━━━━━━━━━━\u001b[0m\u001b[37m\u001b[0m \u001b[1m29s\u001b[0m 24ms/step - loss: 6.8642 - species_accuracy: 4.6316e-04 - species_loss: 5.8981 - venom_accuracy: 0.6522 - venom_loss: 0.9661 - val_loss: 6.6886 - val_species_accuracy: 0.0034 - val_species_loss: 5.7248 - val_venom_accuracy: 0.2230 - val_venom_loss: 0.9637\n",
      "Epoch 2/10\n",
      "\u001b[1m1142/1147\u001b[0m \u001b[32m━━━━━━━━━━━━━━━━━━━\u001b[0m\u001b[37m━\u001b[0m \u001b[1m0s\u001b[0m 12ms/step - loss: 6.5240 - species_accuracy: 0.0071 - species_loss: 5.5147 - venom_accuracy: 0.3027 - venom_loss: 1.0092\n",
      "Epoch 2: val_loss improved from 6.68856 to 6.68486, saving model to model.keras\n",
      "\u001b[1m1147/1147\u001b[0m \u001b[32m━━━━━━━━━━━━━━━━━━━━\u001b[0m\u001b[37m\u001b[0m \u001b[1m15s\u001b[0m 13ms/step - loss: 6.7170 - species_accuracy: 0.0011 - species_loss: 5.7503 - venom_accuracy: 0.2919 - venom_loss: 0.9667 - val_loss: 6.6849 - val_species_accuracy: 0.0034 - val_species_loss: 5.7211 - val_venom_accuracy: 0.2230 - val_venom_loss: 0.9637\n",
      "Epoch 3/10\n",
      "\u001b[1m1144/1147\u001b[0m \u001b[32m━━━━━━━━━━━━━━━━━━━\u001b[0m\u001b[37m━\u001b[0m \u001b[1m0s\u001b[0m 11ms/step - loss: 6.5319 - species_accuracy: 0.0222 - species_loss: 5.5237 - venom_accuracy: 0.2654 - venom_loss: 1.0082\n",
      "Epoch 3: val_loss improved from 6.68486 to 6.68076, saving model to model.keras\n",
      "\u001b[1m1147/1147\u001b[0m \u001b[32m━━━━━━━━━━━━━━━━━━━━\u001b[0m\u001b[37m\u001b[0m \u001b[1m14s\u001b[0m 12ms/step - loss: 6.7109 - species_accuracy: 0.0034 - species_loss: 5.7439 - venom_accuracy: 0.2568 - venom_loss: 0.9670 - val_loss: 6.6808 - val_species_accuracy: 0.0034 - val_species_loss: 5.7168 - val_venom_accuracy: 0.2230 - val_venom_loss: 0.9639\n",
      "Epoch 4/10\n",
      "\u001b[1m1143/1147\u001b[0m \u001b[32m━━━━━━━━━━━━━━━━━━━\u001b[0m\u001b[37m━\u001b[0m \u001b[1m0s\u001b[0m 12ms/step - loss: 6.5420 - species_accuracy: 0.0222 - species_loss: 5.5354 - venom_accuracy: 0.2638 - venom_loss: 1.0067\n",
      "Epoch 4: val_loss improved from 6.68076 to 6.67719, saving model to model.keras\n",
      "\u001b[1m1147/1147\u001b[0m \u001b[32m━━━━━━━━━━━━━━━━━━━━\u001b[0m\u001b[37m\u001b[0m \u001b[1m14s\u001b[0m 12ms/step - loss: 6.7067 - species_accuracy: 0.0034 - species_loss: 5.7400 - venom_accuracy: 0.2463 - venom_loss: 0.9667 - val_loss: 6.6772 - val_species_accuracy: 0.0034 - val_species_loss: 5.7131 - val_venom_accuracy: 0.2230 - val_venom_loss: 0.9641\n",
      "Epoch 5/10\n",
      "\u001b[1m1143/1147\u001b[0m \u001b[32m━━━━━━━━━━━━━━━━━━━\u001b[0m\u001b[37m━\u001b[0m \u001b[1m0s\u001b[0m 12ms/step - loss: 6.5525 - species_accuracy: 0.0222 - species_loss: 5.5466 - venom_accuracy: 0.2629 - venom_loss: 1.0058\n",
      "Epoch 5: val_loss improved from 6.67719 to 6.67407, saving model to model.keras\n",
      "\u001b[1m1147/1147\u001b[0m \u001b[32m━━━━━━━━━━━━━━━━━━━━\u001b[0m\u001b[37m\u001b[0m \u001b[1m15s\u001b[0m 13ms/step - loss: 6.7032 - species_accuracy: 0.0034 - species_loss: 5.7366 - venom_accuracy: 0.2376 - venom_loss: 0.9665 - val_loss: 6.6741 - val_species_accuracy: 0.0034 - val_species_loss: 5.7099 - val_venom_accuracy: 0.2230 - val_venom_loss: 0.9642\n",
      "Epoch 6/10\n",
      "\u001b[1m1146/1147\u001b[0m \u001b[32m━━━━━━━━━━━━━━━━━━━\u001b[0m\u001b[37m━\u001b[0m \u001b[1m0s\u001b[0m 13ms/step - loss: 6.5630 - species_accuracy: 0.0222 - species_loss: 5.5577 - venom_accuracy: 0.2623 - venom_loss: 1.0053\n",
      "Epoch 6: val_loss improved from 6.67407 to 6.67135, saving model to model.keras\n",
      "\u001b[1m1147/1147\u001b[0m \u001b[32m━━━━━━━━━━━━━━━━━━━━\u001b[0m\u001b[37m\u001b[0m \u001b[1m16s\u001b[0m 14ms/step - loss: 6.7002 - species_accuracy: 0.0034 - species_loss: 5.7337 - venom_accuracy: 0.2306 - venom_loss: 0.9664 - val_loss: 6.6714 - val_species_accuracy: 0.0034 - val_species_loss: 5.7071 - val_venom_accuracy: 0.2230 - val_venom_loss: 0.9643\n",
      "Epoch 7/10\n",
      "\u001b[1m1145/1147\u001b[0m \u001b[32m━━━━━━━━━━━━━━━━━━━\u001b[0m\u001b[37m━\u001b[0m \u001b[1m0s\u001b[0m 12ms/step - loss: 6.5727 - species_accuracy: 0.0222 - species_loss: 5.5676 - venom_accuracy: 0.2620 - venom_loss: 1.0051\n",
      "Epoch 7: val_loss improved from 6.67135 to 6.66899, saving model to model.keras\n",
      "\u001b[1m1147/1147\u001b[0m \u001b[32m━━━━━━━━━━━━━━━━━━━━\u001b[0m\u001b[37m\u001b[0m \u001b[1m16s\u001b[0m 14ms/step - loss: 6.6976 - species_accuracy: 0.0034 - species_loss: 5.7312 - venom_accuracy: 0.2271 - venom_loss: 0.9664 - val_loss: 6.6690 - val_species_accuracy: 0.0034 - val_species_loss: 5.7047 - val_venom_accuracy: 0.2230 - val_venom_loss: 0.9643\n",
      "Epoch 8/10\n",
      "\u001b[1m1142/1147\u001b[0m \u001b[32m━━━━━━━━━━━━━━━━━━━\u001b[0m\u001b[37m━\u001b[0m \u001b[1m0s\u001b[0m 13ms/step - loss: 6.5818 - species_accuracy: 0.0223 - species_loss: 5.5767 - venom_accuracy: 0.2620 - venom_loss: 1.0051\n",
      "Epoch 8: val_loss improved from 6.66899 to 6.66694, saving model to model.keras\n",
      "\u001b[1m1147/1147\u001b[0m \u001b[32m━━━━━━━━━━━━━━━━━━━━\u001b[0m\u001b[37m\u001b[0m \u001b[1m16s\u001b[0m 14ms/step - loss: 6.6954 - species_accuracy: 0.0034 - species_loss: 5.7290 - venom_accuracy: 0.2254 - venom_loss: 0.9664 - val_loss: 6.6669 - val_species_accuracy: 0.0034 - val_species_loss: 5.7026 - val_venom_accuracy: 0.2230 - val_venom_loss: 0.9643\n",
      "Epoch 9/10\n",
      "\u001b[1m1144/1147\u001b[0m \u001b[32m━━━━━━━━━━━━━━━━━━━\u001b[0m\u001b[37m━\u001b[0m \u001b[1m0s\u001b[0m 13ms/step - loss: 6.5908 - species_accuracy: 0.0222 - species_loss: 5.5859 - venom_accuracy: 0.2618 - venom_loss: 1.0049\n",
      "Epoch 9: val_loss improved from 6.66694 to 6.66518, saving model to model.keras\n",
      "\u001b[1m1147/1147\u001b[0m \u001b[32m━━━━━━━━━━━━━━━━━━━━\u001b[0m\u001b[37m\u001b[0m \u001b[1m16s\u001b[0m 14ms/step - loss: 6.6936 - species_accuracy: 0.0034 - species_loss: 5.7272 - venom_accuracy: 0.2245 - venom_loss: 0.9664 - val_loss: 6.6652 - val_species_accuracy: 0.0034 - val_species_loss: 5.7009 - val_venom_accuracy: 0.2230 - val_venom_loss: 0.9643\n",
      "Epoch 10/10\n",
      "\u001b[1m1143/1147\u001b[0m \u001b[32m━━━━━━━━━━━━━━━━━━━\u001b[0m\u001b[37m━\u001b[0m \u001b[1m0s\u001b[0m 12ms/step - loss: 6.5991 - species_accuracy: 0.0222 - species_loss: 5.5942 - venom_accuracy: 0.2619 - venom_loss: 1.0049\n",
      "Epoch 10: val_loss improved from 6.66518 to 6.66365, saving model to model.keras\n",
      "\u001b[1m1147/1147\u001b[0m \u001b[32m━━━━━━━━━━━━━━━━━━━━\u001b[0m\u001b[37m\u001b[0m \u001b[1m15s\u001b[0m 13ms/step - loss: 6.6920 - species_accuracy: 0.0034 - species_loss: 5.7256 - venom_accuracy: 0.2245 - venom_loss: 0.9664 - val_loss: 6.6637 - val_species_accuracy: 0.0034 - val_species_loss: 5.6993 - val_venom_accuracy: 0.2230 - val_venom_loss: 0.9643\n"
     ]
    }
   ],
   "source": [
    "n_epochs = 10  # number of epochs to train the neural network\n",
    "# checkpointing based on the validation loss\n",
    "model_checkpoint_callback = tf.keras.callbacks.ModelCheckpoint('model.keras', monitor='val_loss', save_best_only=True, save_weights_only=False, verbose=1)\n",
    "dynamic_balancer = DynamicBalancingCallback(\n",
    "    train_image_paths,\n",
    "    train_species_labels,\n",
    "    train_venom_labels,\n",
    "    batch_size=16\n",
    ")\n",
    "#for batch in train_dataset.take(1):\n",
    "#    print(batch)\n",
    "# model training\n",
    "model_history = model.fit(\n",
    "                            x= train_dataset,\n",
    "                            epochs= n_epochs,\n",
    "                            validation_data= val_dataset,\n",
    "                            callbacks=[model_checkpoint_callback, dynamic_balancer])\n",
    "\n",
    "\n",
    "\n",
    "model.load_weights('model.keras')  # load weights back"
   ]
  },
  {
   "cell_type": "code",
   "execution_count": 24,
   "id": "441d442d",
   "metadata": {},
   "outputs": [],
   "source": [
    "# Create TensorFlow datasets for test\n",
    "test_dataset = tf.data.Dataset.from_tensor_slices(\n",
    "    (test_image_paths, {'species': test_species_labels, 'venom': test_venom_labels})\n",
    ")\n",
    "# Apply preprocessing and map to TensorFlow dataset\n",
    "test_dataset = test_dataset.map(lambda x, y: (load_img(x), y), num_parallel_calls=tf.data.AUTOTUNE)\n",
    "\n",
    "# Batch and prefetch the datasets for efficiency\n",
    "test_dataset = test_dataset.batch(32).prefetch(tf.data.AUTOTUNE)\n"
   ]
  },
  {
   "cell_type": "code",
   "execution_count": 25,
   "id": "a4aaf3e3",
   "metadata": {},
   "outputs": [
    {
     "name": "stdout",
     "output_type": "stream",
     "text": [
      "\u001b[1m208/208\u001b[0m \u001b[32m━━━━━━━━━━━━━━━━━━━━\u001b[0m\u001b[37m\u001b[0m \u001b[1m4s\u001b[0m 19ms/step - loss: 6.6490 - species_accuracy: 0.0017 - species_loss: 5.6989 - venom_accuracy: 0.1992 - venom_loss: 0.9503\n",
      "Test Loss:  6.648990154266357\n",
      "Test Accuracy:  5.69885778427124\n"
     ]
    }
   ],
   "source": [
    "test_history = model.evaluate(test_dataset)\n",
    "print(\"Test Loss: \", test_history[0])\n",
    "print(\"Test Accuracy: \", test_history[1])"
   ]
  },
  {
   "cell_type": "code",
   "execution_count": 26,
   "id": "e788003a",
   "metadata": {},
   "outputs": [
    {
     "name": "stdout",
     "output_type": "stream",
     "text": [
      "\u001b[1m1/1\u001b[0m \u001b[32m━━━━━━━━━━━━━━━━━━━━\u001b[0m\u001b[37m\u001b[0m \u001b[1m0s\u001b[0m 78ms/step\n",
      "\u001b[1m1/1\u001b[0m \u001b[32m━━━━━━━━━━━━━━━━━━━━\u001b[0m\u001b[37m\u001b[0m \u001b[1m0s\u001b[0m 26ms/step\n",
      "\u001b[1m1/1\u001b[0m \u001b[32m━━━━━━━━━━━━━━━━━━━━\u001b[0m\u001b[37m\u001b[0m \u001b[1m0s\u001b[0m 24ms/step\n",
      "\u001b[1m1/1\u001b[0m \u001b[32m━━━━━━━━━━━━━━━━━━━━\u001b[0m\u001b[37m\u001b[0m \u001b[1m0s\u001b[0m 24ms/step\n",
      "\u001b[1m1/1\u001b[0m \u001b[32m━━━━━━━━━━━━━━━━━━━━\u001b[0m\u001b[37m\u001b[0m \u001b[1m0s\u001b[0m 24ms/step\n"
     ]
    },
    {
     "data": {
      "image/png": "[encoded data removed]",
      "text/plain": [
       "<Figure size 1500x500 with 5 Axes>"
      ]
     },
     "metadata": {},
     "output_type": "display_data"
    },
    {
     "name": "stdout",
     "output_type": "stream",
     "text": [
      "D:\\Egyetem_adat\\train_images_small\\train_images_small\\185218337.jpg\n",
      "D:\\Egyetem_adat\\train_images_small\\train_images_small\\232318383.jpeg\n",
      "D:\\Egyetem_adat\\train_images_small\\train_images_small\\126384920.jpeg\n",
      "D:\\Egyetem_adat\\train_images_small\\train_images_small\\233864043.jpeg\n",
      "D:\\Egyetem_adat\\train_images_small\\train_images_small\\72792232.jpeg\n"
     ]
    }
   ],
   "source": [
    "#show a few results\n",
    "\n",
    "def plot_example_results(model, image_paths, true_species_labels, true_venom_labels, num_examples=5):\n",
    "    indices = np.random.choice(len(image_paths), size=num_examples, replace=False)\n",
    "    \n",
    "    plt.figure(figsize=(15, 5))\n",
    "    \n",
    "    for i, index in enumerate(indices):\n",
    "        image_path = image_paths[index]\n",
    "        true_species = true_species_labels[index]\n",
    "        true_venom = true_venom_labels[index]\n",
    "    \n",
    "        image = load_img(image_path)\n",
    "        image = tf.expand_dims(image, axis=0)\n",
    "        \n",
    "        # Model returns [species_pred, venom_pred]\n",
    "        species_pred, venom_pred = model.predict(image)\n",
    "        \n",
    "        predicted_species = np.argmax(species_pred, axis=1)[0]\n",
    "        predicted_venom = (venom_pred > 0.5).astype(int)[0][0]\n",
    "        \n",
    "        plt.subplot(1, num_examples, i+1)\n",
    "        plt.imshow(image[0])\n",
    "        plt.axis('off')\n",
    "        plt.title(f\"True: {true_species}, {'Venom' if true_venom else 'Safe'}\\n\"\n",
    "                  f\"Pred: {predicted_species}, {'Venom' if predicted_venom else 'Safe'}\")\n",
    "    \n",
    "    plt.show()\n",
    "    \n",
    "    return [image_paths[i] for i in indices]\n",
    "\n",
    "\n",
    "ex = plot_example_results(model, test_image_paths, test_species_labels, test_venom_labels, num_examples=5)\n",
    "\n",
    "for i in range(len(ex)):\n",
    "    print(ex[i])\n"
   ]
  }
 ],
 "metadata": {
  "accelerator": "GPU",
  "colab": {
   "gpuType": "T4",
   "provenance": []
  },
  "kernelspec": {
   "display_name": "Python 3",
   "name": "python3"
  },
  "language_info": {
   "codemirror_mode": {
    "name": "ipython",
    "version": 3
   },
   "file_extension": ".py",
   "mimetype": "text/x-python",
   "name": "python",
   "nbconvert_exporter": "python",
   "pygments_lexer": "ipython3",
   "version": "3.13.3"
  }
 },
 "nbformat": 4,
 "nbformat_minor": 5
}
