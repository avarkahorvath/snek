{
 "cells": [
  {
   "cell_type": "markdown",
   "id": "b7d08d50",
   "metadata": {
    "id": "b7d08d50"
   },
   "source": [
    "Loading os and trying to use GPU "
   ]
  },
  {
   "cell_type": "code",
   "execution_count": 3,
   "id": "cb7d91df",
   "metadata": {
    "colab": {
     "base_uri": "https://localhost:8080/"
    },
    "executionInfo": {
     "elapsed": 7956,
     "status": "ok",
     "timestamp": 1760103668680,
     "user": {
      "displayName": "Avarka",
      "userId": "01376155912533068519"
     },
     "user_tz": -120
    },
    "id": "cb7d91df",
    "outputId": "632fa06d-510c-411c-bd31-1a43c8eb8343"
   },
   "outputs": [
    {
     "name": "stdout",
     "output_type": "stream",
     "text": [
      "2.20.0\n"
     ]
    }
   ],
   "source": [
    "import os\n",
    "os.environ['TF_CPP_MIN_LOG_LEVEL'] = '3'\n",
    "import tensorflow as tf\n",
    "import numpy as np\n",
    "import matplotlib.pyplot as plt\n",
    "import cv2\n",
    "import pandas as pd\n",
    "# check tf version\n",
    "print(tf.__version__)\n",
    "\n",
    "gpus = tf.config.list_physical_devices('GPU')\n",
    "for device in gpus:\n",
    "    tf.config.experimental.set_memory_growth(device, True)\n",
    "    print(f\"Found GPU {device.name}, and set memory growth to True.\")\n"
   ]
  },
  {
   "cell_type": "code",
   "execution_count": null,
   "id": "da306461",
   "metadata": {},
   "outputs": [],
   "source": [
    "#base path is the location of the repo on your computer\n",
    "BASE_PATH = r\"C:\\Users\\avark\\Documents\\snek\"\n",
    "#BASE_PATH = r\"D:\\Egyetem_adat\""
   ]
  },
  {
   "cell_type": "code",
   "execution_count": null,
   "id": "c3072f05",
   "metadata": {},
   "outputs": [
    {
     "name": "stdout",
     "output_type": "stream",
     "text": [
      "         binomial_name  class_id  MIVS      image_path\n",
      "0       Bitis caudalis       157     0      168482.JPG\n",
      "1   Amphiesma stolatum        66     0    59067968.jpg\n",
      "2        Lachesis muta       857     1    42704088.jpg\n",
      "3         Vipera berus      1736     1  111487306.jpeg\n",
      "4  Coronella austriaca       387     0  111486989.jpeg\n"
     ]
    },
    {
     "name": "stderr",
     "output_type": "stream",
     "text": [
      "<>:7: SyntaxWarning: invalid escape sequence '\\s'\n",
      "<>:7: SyntaxWarning: invalid escape sequence '\\s'\n",
      "C:\\Users\\janos\\AppData\\Local\\Temp\\ipykernel_27884\\3989734922.py:7: SyntaxWarning: invalid escape sequence '\\s'\n",
      "  species = pd.read_csv(BASE_PATH + r\"\\src\\Data\\train_images_metadata.csv\", index_col=0)\n"
     ]
    }
   ],
   "source": [
    "\n",
    "species = pd.read_csv(r\"D:\\Egyetem_adat\\train_images_metadata.csv\", index_col=0)\n",
    "venomous = pd.read_csv(r\"D:\\Egyetem_adat\\venomous_status_metadata.csv\", index_col=0)\n",
    "\n",
    "\"\"\"\n",
    "#read the train_images_metadata.csv file\n",
    "species = pd.read_csv(BASE_PATH + r\"\\src\\Data\\train_images_metadata.csv\", index_col=0)\n",
    "\n",
    "#read the venomous_status_metadata.csv file\n",
    "venomous = pd.read_csv(BASE_PATH + r\"\\src\\Data\\venomous_status_metadata.csv\", index_col=0)\n",
    "\"\"\"\n",
    "#merging the 2 files, now every row from species contains a column with venomous status\n",
    "combined = species.merge(venomous[[\"class_id\", \"MIVS\"]], on=\"class_id\", how=\"left\")\n",
    "\n",
    "#choosing the data you need for machine learning\n",
    "relevant_info = combined[[\"binomial_name\", \"class_id\", \"MIVS\", \"image_path\"]]\n",
    "\n",
    "print(relevant_info.head())"
   ]
  },
  {
   "cell_type": "markdown",
   "id": "d98e31d7",
   "metadata": {
    "id": "d98e31d7"
   },
   "source": [
    "Loading python images from folder"
   ]
  },
  {
   "cell_type": "code",
   "execution_count": null,
   "id": "5c99c384",
   "metadata": {},
   "outputs": [],
   "source": [
    "AUTOTUNE = tf.data.AUTOTUNE\n",
    "\n",
    "IMAGE_RESOLUTION=28\n",
    "\n",
    "\n",
    "# Create a TensorFlow dataset for image loading\n",
    "def load_img(path):\n",
    "    img = tf.io.read_file(path)\n",
    "\n",
    "    #3 channels because of rgb\n",
    "    #img = tf.image.decode_jpeg(img, 3)\n",
    "    #expand_animations = False needed, otherwise it\n",
    "    img = tf.image.decode_image(img, channels=3, expand_animations = False)  \n",
    "    img = tf.image.resize(img, [IMAGE_RESOLUTION, IMAGE_RESOLUTION])\n",
    "    img = img / 255.0  # Normalize to [0, 1]\n",
    "    return img\n",
    "\n",
    "# Find all of the image_paths \n",
    "#image_path = [os.path.join(BASE_PATH, 'src', 'Data', 'train_images_small', img_path) for img_path in relevant_info['image_path'].values]\n",
    "image_path = [os.path.join(r\"D:\\Egyetem_adat\\train_images_small\\train_images_small\", img_path) for img_path in relevant_info['image_path'].values]\n",
    "\n",
    "# Create the dataset and apply transformations\n",
    "ds = tf.data.Dataset.from_tensor_slices(image_path)\n",
    "ds = ds.map(load_img, num_parallel_calls=AUTOTUNE)  # Load images in parallel\n",
    "ds = ds.batch(32).prefetch(AUTOTUNE)  # Batch and prefetch for efficiency\n"
   ]
  },
  {
   "cell_type": "code",
   "execution_count": 11,
   "id": "2c816399",
   "metadata": {},
   "outputs": [],
   "source": [
    "\n",
    "# Labels are going to be either venomous, or non-venomous\n",
    "labels = relevant_info['MIVS'].values \n",
    "\n",
    "#return processed image and corresponding label\n",
    "def generator():\n",
    "    for img_path, label in zip(image_path, labels):\n",
    "        img = load_img(img_path)\n",
    "        yield img, label  \n",
    "\n",
    "\n",
    "# Create dataset\n",
    "dataset = tf.data.Dataset.from_generator(generator, output_signature=(\n",
    "    tf.TensorSpec(shape=(IMAGE_RESOLUTION, IMAGE_RESOLUTION, 3), dtype=tf.float32),\n",
    "    tf.TensorSpec(shape=(), dtype=tf.int32) \n",
    "))\n",
    "\n",
    "# Batch and prefetch for efficiency\n",
    "BATCH_SIZE = 32\n",
    "dataset = dataset.batch(BATCH_SIZE).prefetch(tf.data.AUTOTUNE)\n"
   ]
  },
  {
   "cell_type": "code",
   "execution_count": 13,
   "id": "ab5e8a53",
   "metadata": {},
   "outputs": [],
   "source": [
    "from sklearn.model_selection import train_test_split\n",
    "\n",
    "#train_image_paths = [os.path.join(BASE_PATH, 'src', 'Data', 'train_images_small', path) for path in relevant_info[\"image_path\"]]\n",
    "train_image_paths = [os.path.join(r\"D:\\Egyetem_adat\\train_images_small\\train_images_small\", path) for path in relevant_info[\"image_path\"]]\n",
    "\n",
    "train_labels = relevant_info[\"MIVS\"].values\n",
    "\n",
    "#1. split train: 80% train, 20% validation\n",
    "train_image_paths, temp_image_paths, train_labels, temp_labels = train_test_split(\n",
    "    train_image_paths, train_labels, test_size=0.2, random_state=42, stratify=train_labels\n",
    ")\n",
    "\n",
    "# 2: split validation: 10% validation, 10% test\n",
    "val_image_paths, test_image_paths, val_labels, test_labels = train_test_split(\n",
    "    temp_image_paths, temp_labels, test_size=0.5, random_state=42, stratify=temp_labels\n",
    ")\n",
    "\n",
    "\n",
    "train_dataset = tf.data.Dataset.from_tensor_slices((train_image_paths, train_labels))\n",
    "val_dataset = tf.data.Dataset.from_tensor_slices((val_image_paths, val_labels))\n",
    "\n",
    "\n",
    "train_dataset = train_dataset.map(lambda x, y: (load_img(x), y), num_parallel_calls=tf.data.AUTOTUNE)\n",
    "val_dataset = val_dataset.map(lambda x, y: (load_img(x), y), num_parallel_calls=tf.data.AUTOTUNE)\n",
    "\n",
    "\n",
    "train_dataset = train_dataset.batch(32).prefetch(tf.data.AUTOTUNE)\n",
    "val_dataset = val_dataset.batch(32).prefetch(tf.data.AUTOTUNE)"
   ]
  },
  {
   "cell_type": "code",
   "execution_count": 14,
   "id": "032c4ced",
   "metadata": {},
   "outputs": [
    {
     "data": {
      "text/html": [
       "<pre style=\"white-space:pre;overflow-x:auto;line-height:normal;font-family:Menlo,'DejaVu Sans Mono',consolas,'Courier New',monospace\"><span style=\"font-weight: bold\">Model: \"dvc_classification_model\"</span>\n",
       "</pre>\n"
      ],
      "text/plain": [
       "\u001b[1mModel: \"dvc_classification_model\"\u001b[0m\n"
      ]
     },
     "metadata": {},
     "output_type": "display_data"
    },
    {
     "data": {
      "text/html": [
       "<pre style=\"white-space:pre;overflow-x:auto;line-height:normal;font-family:Menlo,'DejaVu Sans Mono',consolas,'Courier New',monospace\">┏━━━━━━━━━━━━━━━━━━━━━━━━━━━━━━━━━┳━━━━━━━━━━━━━━━━━━━━━━━━┳━━━━━━━━━━━━━━━┓\n",
       "┃<span style=\"font-weight: bold\"> Layer (type)                    </span>┃<span style=\"font-weight: bold\"> Output Shape           </span>┃<span style=\"font-weight: bold\">       Param # </span>┃\n",
       "┡━━━━━━━━━━━━━━━━━━━━━━━━━━━━━━━━━╇━━━━━━━━━━━━━━━━━━━━━━━━╇━━━━━━━━━━━━━━━┩\n",
       "│ input_layer (<span style=\"color: #0087ff; text-decoration-color: #0087ff\">InputLayer</span>)        │ (<span style=\"color: #00d7ff; text-decoration-color: #00d7ff\">None</span>, <span style=\"color: #00af00; text-decoration-color: #00af00\">28</span>, <span style=\"color: #00af00; text-decoration-color: #00af00\">28</span>, <span style=\"color: #00af00; text-decoration-color: #00af00\">3</span>)      │             <span style=\"color: #00af00; text-decoration-color: #00af00\">0</span> │\n",
       "├─────────────────────────────────┼────────────────────────┼───────────────┤\n",
       "│ conv2d (<span style=\"color: #0087ff; text-decoration-color: #0087ff\">Conv2D</span>)                 │ (<span style=\"color: #00d7ff; text-decoration-color: #00d7ff\">None</span>, <span style=\"color: #00af00; text-decoration-color: #00af00\">28</span>, <span style=\"color: #00af00; text-decoration-color: #00af00\">28</span>, <span style=\"color: #00af00; text-decoration-color: #00af00\">32</span>)     │           <span style=\"color: #00af00; text-decoration-color: #00af00\">896</span> │\n",
       "├─────────────────────────────────┼────────────────────────┼───────────────┤\n",
       "│ max_pooling2d (<span style=\"color: #0087ff; text-decoration-color: #0087ff\">MaxPooling2D</span>)    │ (<span style=\"color: #00d7ff; text-decoration-color: #00d7ff\">None</span>, <span style=\"color: #00af00; text-decoration-color: #00af00\">14</span>, <span style=\"color: #00af00; text-decoration-color: #00af00\">14</span>, <span style=\"color: #00af00; text-decoration-color: #00af00\">32</span>)     │             <span style=\"color: #00af00; text-decoration-color: #00af00\">0</span> │\n",
       "├─────────────────────────────────┼────────────────────────┼───────────────┤\n",
       "│ conv2d_1 (<span style=\"color: #0087ff; text-decoration-color: #0087ff\">Conv2D</span>)               │ (<span style=\"color: #00d7ff; text-decoration-color: #00d7ff\">None</span>, <span style=\"color: #00af00; text-decoration-color: #00af00\">14</span>, <span style=\"color: #00af00; text-decoration-color: #00af00\">14</span>, <span style=\"color: #00af00; text-decoration-color: #00af00\">64</span>)     │        <span style=\"color: #00af00; text-decoration-color: #00af00\">18,496</span> │\n",
       "├─────────────────────────────────┼────────────────────────┼───────────────┤\n",
       "│ max_pooling2d_1 (<span style=\"color: #0087ff; text-decoration-color: #0087ff\">MaxPooling2D</span>)  │ (<span style=\"color: #00d7ff; text-decoration-color: #00d7ff\">None</span>, <span style=\"color: #00af00; text-decoration-color: #00af00\">7</span>, <span style=\"color: #00af00; text-decoration-color: #00af00\">7</span>, <span style=\"color: #00af00; text-decoration-color: #00af00\">64</span>)       │             <span style=\"color: #00af00; text-decoration-color: #00af00\">0</span> │\n",
       "├─────────────────────────────────┼────────────────────────┼───────────────┤\n",
       "│ conv2d_2 (<span style=\"color: #0087ff; text-decoration-color: #0087ff\">Conv2D</span>)               │ (<span style=\"color: #00d7ff; text-decoration-color: #00d7ff\">None</span>, <span style=\"color: #00af00; text-decoration-color: #00af00\">7</span>, <span style=\"color: #00af00; text-decoration-color: #00af00\">7</span>, <span style=\"color: #00af00; text-decoration-color: #00af00\">128</span>)      │        <span style=\"color: #00af00; text-decoration-color: #00af00\">73,856</span> │\n",
       "├─────────────────────────────────┼────────────────────────┼───────────────┤\n",
       "│ max_pooling2d_2 (<span style=\"color: #0087ff; text-decoration-color: #0087ff\">MaxPooling2D</span>)  │ (<span style=\"color: #00d7ff; text-decoration-color: #00d7ff\">None</span>, <span style=\"color: #00af00; text-decoration-color: #00af00\">3</span>, <span style=\"color: #00af00; text-decoration-color: #00af00\">3</span>, <span style=\"color: #00af00; text-decoration-color: #00af00\">128</span>)      │             <span style=\"color: #00af00; text-decoration-color: #00af00\">0</span> │\n",
       "├─────────────────────────────────┼────────────────────────┼───────────────┤\n",
       "│ conv2d_3 (<span style=\"color: #0087ff; text-decoration-color: #0087ff\">Conv2D</span>)               │ (<span style=\"color: #00d7ff; text-decoration-color: #00d7ff\">None</span>, <span style=\"color: #00af00; text-decoration-color: #00af00\">3</span>, <span style=\"color: #00af00; text-decoration-color: #00af00\">3</span>, <span style=\"color: #00af00; text-decoration-color: #00af00\">32</span>)       │        <span style=\"color: #00af00; text-decoration-color: #00af00\">36,896</span> │\n",
       "├─────────────────────────────────┼────────────────────────┼───────────────┤\n",
       "│ max_pooling2d_3 (<span style=\"color: #0087ff; text-decoration-color: #0087ff\">MaxPooling2D</span>)  │ (<span style=\"color: #00d7ff; text-decoration-color: #00d7ff\">None</span>, <span style=\"color: #00af00; text-decoration-color: #00af00\">1</span>, <span style=\"color: #00af00; text-decoration-color: #00af00\">1</span>, <span style=\"color: #00af00; text-decoration-color: #00af00\">32</span>)       │             <span style=\"color: #00af00; text-decoration-color: #00af00\">0</span> │\n",
       "├─────────────────────────────────┼────────────────────────┼───────────────┤\n",
       "│ flatten (<span style=\"color: #0087ff; text-decoration-color: #0087ff\">Flatten</span>)               │ (<span style=\"color: #00d7ff; text-decoration-color: #00d7ff\">None</span>, <span style=\"color: #00af00; text-decoration-color: #00af00\">32</span>)             │             <span style=\"color: #00af00; text-decoration-color: #00af00\">0</span> │\n",
       "├─────────────────────────────────┼────────────────────────┼───────────────┤\n",
       "│ dense (<span style=\"color: #0087ff; text-decoration-color: #0087ff\">Dense</span>)                   │ (<span style=\"color: #00d7ff; text-decoration-color: #00d7ff\">None</span>, <span style=\"color: #00af00; text-decoration-color: #00af00\">128</span>)            │         <span style=\"color: #00af00; text-decoration-color: #00af00\">4,224</span> │\n",
       "├─────────────────────────────────┼────────────────────────┼───────────────┤\n",
       "│ dense_1 (<span style=\"color: #0087ff; text-decoration-color: #0087ff\">Dense</span>)                 │ (<span style=\"color: #00d7ff; text-decoration-color: #00d7ff\">None</span>, <span style=\"color: #00af00; text-decoration-color: #00af00\">1</span>)              │           <span style=\"color: #00af00; text-decoration-color: #00af00\">129</span> │\n",
       "└─────────────────────────────────┴────────────────────────┴───────────────┘\n",
       "</pre>\n"
      ],
      "text/plain": [
       "┏━━━━━━━━━━━━━━━━━━━━━━━━━━━━━━━━━┳━━━━━━━━━━━━━━━━━━━━━━━━┳━━━━━━━━━━━━━━━┓\n",
       "┃\u001b[1m \u001b[0m\u001b[1mLayer (type)                   \u001b[0m\u001b[1m \u001b[0m┃\u001b[1m \u001b[0m\u001b[1mOutput Shape          \u001b[0m\u001b[1m \u001b[0m┃\u001b[1m \u001b[0m\u001b[1m      Param #\u001b[0m\u001b[1m \u001b[0m┃\n",
       "┡━━━━━━━━━━━━━━━━━━━━━━━━━━━━━━━━━╇━━━━━━━━━━━━━━━━━━━━━━━━╇━━━━━━━━━━━━━━━┩\n",
       "│ input_layer (\u001b[38;5;33mInputLayer\u001b[0m)        │ (\u001b[38;5;45mNone\u001b[0m, \u001b[38;5;34m28\u001b[0m, \u001b[38;5;34m28\u001b[0m, \u001b[38;5;34m3\u001b[0m)      │             \u001b[38;5;34m0\u001b[0m │\n",
       "├─────────────────────────────────┼────────────────────────┼───────────────┤\n",
       "│ conv2d (\u001b[38;5;33mConv2D\u001b[0m)                 │ (\u001b[38;5;45mNone\u001b[0m, \u001b[38;5;34m28\u001b[0m, \u001b[38;5;34m28\u001b[0m, \u001b[38;5;34m32\u001b[0m)     │           \u001b[38;5;34m896\u001b[0m │\n",
       "├─────────────────────────────────┼────────────────────────┼───────────────┤\n",
       "│ max_pooling2d (\u001b[38;5;33mMaxPooling2D\u001b[0m)    │ (\u001b[38;5;45mNone\u001b[0m, \u001b[38;5;34m14\u001b[0m, \u001b[38;5;34m14\u001b[0m, \u001b[38;5;34m32\u001b[0m)     │             \u001b[38;5;34m0\u001b[0m │\n",
       "├─────────────────────────────────┼────────────────────────┼───────────────┤\n",
       "│ conv2d_1 (\u001b[38;5;33mConv2D\u001b[0m)               │ (\u001b[38;5;45mNone\u001b[0m, \u001b[38;5;34m14\u001b[0m, \u001b[38;5;34m14\u001b[0m, \u001b[38;5;34m64\u001b[0m)     │        \u001b[38;5;34m18,496\u001b[0m │\n",
       "├─────────────────────────────────┼────────────────────────┼───────────────┤\n",
       "│ max_pooling2d_1 (\u001b[38;5;33mMaxPooling2D\u001b[0m)  │ (\u001b[38;5;45mNone\u001b[0m, \u001b[38;5;34m7\u001b[0m, \u001b[38;5;34m7\u001b[0m, \u001b[38;5;34m64\u001b[0m)       │             \u001b[38;5;34m0\u001b[0m │\n",
       "├─────────────────────────────────┼────────────────────────┼───────────────┤\n",
       "│ conv2d_2 (\u001b[38;5;33mConv2D\u001b[0m)               │ (\u001b[38;5;45mNone\u001b[0m, \u001b[38;5;34m7\u001b[0m, \u001b[38;5;34m7\u001b[0m, \u001b[38;5;34m128\u001b[0m)      │        \u001b[38;5;34m73,856\u001b[0m │\n",
       "├─────────────────────────────────┼────────────────────────┼───────────────┤\n",
       "│ max_pooling2d_2 (\u001b[38;5;33mMaxPooling2D\u001b[0m)  │ (\u001b[38;5;45mNone\u001b[0m, \u001b[38;5;34m3\u001b[0m, \u001b[38;5;34m3\u001b[0m, \u001b[38;5;34m128\u001b[0m)      │             \u001b[38;5;34m0\u001b[0m │\n",
       "├─────────────────────────────────┼────────────────────────┼───────────────┤\n",
       "│ conv2d_3 (\u001b[38;5;33mConv2D\u001b[0m)               │ (\u001b[38;5;45mNone\u001b[0m, \u001b[38;5;34m3\u001b[0m, \u001b[38;5;34m3\u001b[0m, \u001b[38;5;34m32\u001b[0m)       │        \u001b[38;5;34m36,896\u001b[0m │\n",
       "├─────────────────────────────────┼────────────────────────┼───────────────┤\n",
       "│ max_pooling2d_3 (\u001b[38;5;33mMaxPooling2D\u001b[0m)  │ (\u001b[38;5;45mNone\u001b[0m, \u001b[38;5;34m1\u001b[0m, \u001b[38;5;34m1\u001b[0m, \u001b[38;5;34m32\u001b[0m)       │             \u001b[38;5;34m0\u001b[0m │\n",
       "├─────────────────────────────────┼────────────────────────┼───────────────┤\n",
       "│ flatten (\u001b[38;5;33mFlatten\u001b[0m)               │ (\u001b[38;5;45mNone\u001b[0m, \u001b[38;5;34m32\u001b[0m)             │             \u001b[38;5;34m0\u001b[0m │\n",
       "├─────────────────────────────────┼────────────────────────┼───────────────┤\n",
       "│ dense (\u001b[38;5;33mDense\u001b[0m)                   │ (\u001b[38;5;45mNone\u001b[0m, \u001b[38;5;34m128\u001b[0m)            │         \u001b[38;5;34m4,224\u001b[0m │\n",
       "├─────────────────────────────────┼────────────────────────┼───────────────┤\n",
       "│ dense_1 (\u001b[38;5;33mDense\u001b[0m)                 │ (\u001b[38;5;45mNone\u001b[0m, \u001b[38;5;34m1\u001b[0m)              │           \u001b[38;5;34m129\u001b[0m │\n",
       "└─────────────────────────────────┴────────────────────────┴───────────────┘\n"
      ]
     },
     "metadata": {},
     "output_type": "display_data"
    },
    {
     "data": {
      "text/html": [
       "<pre style=\"white-space:pre;overflow-x:auto;line-height:normal;font-family:Menlo,'DejaVu Sans Mono',consolas,'Courier New',monospace\"><span style=\"font-weight: bold\"> Total params: </span><span style=\"color: #00af00; text-decoration-color: #00af00\">134,497</span> (525.38 KB)\n",
       "</pre>\n"
      ],
      "text/plain": [
       "\u001b[1m Total params: \u001b[0m\u001b[38;5;34m134,497\u001b[0m (525.38 KB)\n"
      ]
     },
     "metadata": {},
     "output_type": "display_data"
    },
    {
     "data": {
      "text/html": [
       "<pre style=\"white-space:pre;overflow-x:auto;line-height:normal;font-family:Menlo,'DejaVu Sans Mono',consolas,'Courier New',monospace\"><span style=\"font-weight: bold\"> Trainable params: </span><span style=\"color: #00af00; text-decoration-color: #00af00\">134,497</span> (525.38 KB)\n",
       "</pre>\n"
      ],
      "text/plain": [
       "\u001b[1m Trainable params: \u001b[0m\u001b[38;5;34m134,497\u001b[0m (525.38 KB)\n"
      ]
     },
     "metadata": {},
     "output_type": "display_data"
    },
    {
     "data": {
      "text/html": [
       "<pre style=\"white-space:pre;overflow-x:auto;line-height:normal;font-family:Menlo,'DejaVu Sans Mono',consolas,'Courier New',monospace\"><span style=\"font-weight: bold\"> Non-trainable params: </span><span style=\"color: #00af00; text-decoration-color: #00af00\">0</span> (0.00 B)\n",
       "</pre>\n"
      ],
      "text/plain": [
       "\u001b[1m Non-trainable params: \u001b[0m\u001b[38;5;34m0\u001b[0m (0.00 B)\n"
      ]
     },
     "metadata": {},
     "output_type": "display_data"
    }
   ],
   "source": [
    "from tensorflow.keras.layers import Flatten, Conv2D, Dense, Input, MaxPooling2D, Dropout, Rescaling\n",
    "from tensorflow.keras import Model\n",
    "\n",
    "from re import X\n",
    "\n",
    "input = Input(shape=(IMAGE_RESOLUTION, IMAGE_RESOLUTION, 3))\n",
    "x = Rescaling(1./255)(input)\n",
    "\n",
    "x = Conv2D(32, (3,3), padding='same', activation=\"relu\")(input)\n",
    "x = MaxPooling2D((2,2), padding='valid')(x)\n",
    "\n",
    "x = Conv2D(64, (3,3), padding='same', activation=\"relu\")(x)\n",
    "x = MaxPooling2D((2,2), padding='valid')(x)\n",
    "\n",
    "x = Conv2D(128, (3,3), padding='same', activation=\"relu\")(x)\n",
    "x = MaxPooling2D((2,2), padding='valid')(x)\n",
    "\n",
    "x = Conv2D(32, (3,3), padding='same', activation=\"relu\")(x)\n",
    "x = MaxPooling2D((2,2), padding='valid')(x)\n",
    "\n",
    "x = Flatten()(x)\n",
    "\n",
    "x = Dense(128, activation='relu')(x)\n",
    "\n",
    "output = Dense(1, activation='sigmoid')(x)\n",
    "\n",
    "\n",
    "model = Model(inputs=input, outputs=output, name='dvc_classification_model')\n",
    "model.summary()"
   ]
  },
  {
   "cell_type": "code",
   "execution_count": 15,
   "id": "76bc1628",
   "metadata": {},
   "outputs": [],
   "source": [
    "model.compile(optimizer='adam',\n",
    "              loss='binary_crossentropy',\n",
    "              metrics=['accuracy'])"
   ]
  },
  {
   "cell_type": "code",
   "execution_count": 16,
   "id": "fd77baa0",
   "metadata": {},
   "outputs": [
    {
     "name": "stdout",
     "output_type": "stream",
     "text": [
      "Epoch 1/10\n"
     ]
    },
    {
     "name": "stdout",
     "output_type": "stream",
     "text": [
      "\u001b[1m1657/1662\u001b[0m \u001b[32m━━━━━━━━━━━━━━━━━━━\u001b[0m\u001b[37m━\u001b[0m \u001b[1m0s\u001b[0m 24ms/step - accuracy: 0.8000 - loss: 0.5047\n",
      "Epoch 1: val_loss improved from None to 0.50222, saving model to model.keras\n",
      "\u001b[1m1662/1662\u001b[0m \u001b[32m━━━━━━━━━━━━━━━━━━━━\u001b[0m\u001b[37m\u001b[0m \u001b[1m45s\u001b[0m 27ms/step - accuracy: 0.8000 - loss: 0.5007 - val_accuracy: 0.8000 - val_loss: 0.5022\n",
      "Epoch 2/10\n",
      "\u001b[1m1657/1662\u001b[0m \u001b[32m━━━━━━━━━━━━━━━━━━━\u001b[0m\u001b[37m━\u001b[0m \u001b[1m0s\u001b[0m 25ms/step - accuracy: 0.8000 - loss: 0.4965\n",
      "Epoch 2: val_loss improved from 0.50222 to 0.49283, saving model to model.keras\n",
      "\u001b[1m1662/1662\u001b[0m \u001b[32m━━━━━━━━━━━━━━━━━━━━\u001b[0m\u001b[37m\u001b[0m \u001b[1m46s\u001b[0m 28ms/step - accuracy: 0.8000 - loss: 0.4954 - val_accuracy: 0.8000 - val_loss: 0.4928\n",
      "Epoch 3/10\n",
      "\u001b[1m1660/1662\u001b[0m \u001b[32m━━━━━━━━━━━━━━━━━━━\u001b[0m\u001b[37m━\u001b[0m \u001b[1m0s\u001b[0m 26ms/step - accuracy: 0.8000 - loss: 0.4930\n",
      "Epoch 3: val_loss improved from 0.49283 to 0.49072, saving model to model.keras\n",
      "\u001b[1m1662/1662\u001b[0m \u001b[32m━━━━━━━━━━━━━━━━━━━━\u001b[0m\u001b[37m\u001b[0m \u001b[1m48s\u001b[0m 29ms/step - accuracy: 0.8000 - loss: 0.4923 - val_accuracy: 0.8000 - val_loss: 0.4907\n",
      "Epoch 4/10\n",
      "\u001b[1m1657/1662\u001b[0m \u001b[32m━━━━━━━━━━━━━━━━━━━\u001b[0m\u001b[37m━\u001b[0m \u001b[1m0s\u001b[0m 23ms/step - accuracy: 0.8000 - loss: 0.4909\n",
      "Epoch 4: val_loss improved from 0.49072 to 0.48904, saving model to model.keras\n",
      "\u001b[1m1662/1662\u001b[0m \u001b[32m━━━━━━━━━━━━━━━━━━━━\u001b[0m\u001b[37m\u001b[0m \u001b[1m41s\u001b[0m 25ms/step - accuracy: 0.8000 - loss: 0.4900 - val_accuracy: 0.8000 - val_loss: 0.4890\n",
      "Epoch 5/10\n",
      "\u001b[1m1659/1662\u001b[0m \u001b[32m━━━━━━━━━━━━━━━━━━━\u001b[0m\u001b[37m━\u001b[0m \u001b[1m0s\u001b[0m 23ms/step - accuracy: 0.8000 - loss: 0.4887\n",
      "Epoch 5: val_loss improved from 0.48904 to 0.48822, saving model to model.keras\n",
      "\u001b[1m1662/1662\u001b[0m \u001b[32m━━━━━━━━━━━━━━━━━━━━\u001b[0m\u001b[37m\u001b[0m \u001b[1m43s\u001b[0m 26ms/step - accuracy: 0.8000 - loss: 0.4875 - val_accuracy: 0.8000 - val_loss: 0.4882\n",
      "Epoch 6/10\n",
      "\u001b[1m1657/1662\u001b[0m \u001b[32m━━━━━━━━━━━━━━━━━━━\u001b[0m\u001b[37m━\u001b[0m \u001b[1m0s\u001b[0m 24ms/step - accuracy: 0.8000 - loss: 0.4857\n",
      "Epoch 6: val_loss improved from 0.48822 to 0.48592, saving model to model.keras\n",
      "\u001b[1m1662/1662\u001b[0m \u001b[32m━━━━━━━━━━━━━━━━━━━━\u001b[0m\u001b[37m\u001b[0m \u001b[1m43s\u001b[0m 26ms/step - accuracy: 0.8000 - loss: 0.4841 - val_accuracy: 0.8000 - val_loss: 0.4859\n",
      "Epoch 7/10\n",
      "\u001b[1m1660/1662\u001b[0m \u001b[32m━━━━━━━━━━━━━━━━━━━\u001b[0m\u001b[37m━\u001b[0m \u001b[1m0s\u001b[0m 32ms/step - accuracy: 0.8000 - loss: 0.4840\n",
      "Epoch 7: val_loss did not improve from 0.48592\n",
      "\u001b[1m1662/1662\u001b[0m \u001b[32m━━━━━━━━━━━━━━━━━━━━\u001b[0m\u001b[37m\u001b[0m \u001b[1m64s\u001b[0m 38ms/step - accuracy: 0.8000 - loss: 0.4808 - val_accuracy: 0.8000 - val_loss: 0.4891\n",
      "Epoch 8/10\n",
      "\u001b[1m1661/1662\u001b[0m \u001b[32m━━━━━━━━━━━━━━━━━━━\u001b[0m\u001b[37m━\u001b[0m \u001b[1m0s\u001b[0m 27ms/step - accuracy: 0.8000 - loss: 0.4801\n",
      "Epoch 8: val_loss did not improve from 0.48592\n",
      "\u001b[1m1662/1662\u001b[0m \u001b[32m━━━━━━━━━━━━━━━━━━━━\u001b[0m\u001b[37m\u001b[0m \u001b[1m68s\u001b[0m 30ms/step - accuracy: 0.7999 - loss: 0.4760 - val_accuracy: 0.8000 - val_loss: 0.4891\n",
      "Epoch 9/10\n",
      "\u001b[1m1662/1662\u001b[0m \u001b[32m━━━━━━━━━━━━━━━━━━━━\u001b[0m\u001b[37m\u001b[0m \u001b[1m0s\u001b[0m 23ms/step - accuracy: 0.8002 - loss: 0.4736\n",
      "Epoch 9: val_loss did not improve from 0.48592\n",
      "\u001b[1m1662/1662\u001b[0m \u001b[32m━━━━━━━━━━━━━━━━━━━━\u001b[0m\u001b[37m\u001b[0m \u001b[1m42s\u001b[0m 25ms/step - accuracy: 0.8005 - loss: 0.4697 - val_accuracy: 0.8002 - val_loss: 0.4969\n",
      "Epoch 10/10\n",
      "\u001b[1m1657/1662\u001b[0m \u001b[32m━━━━━━━━━━━━━━━━━━━\u001b[0m\u001b[37m━\u001b[0m \u001b[1m0s\u001b[0m 23ms/step - accuracy: 0.8015 - loss: 0.4663\n",
      "Epoch 10: val_loss did not improve from 0.48592\n",
      "\u001b[1m1662/1662\u001b[0m \u001b[32m━━━━━━━━━━━━━━━━━━━━\u001b[0m\u001b[37m\u001b[0m \u001b[1m42s\u001b[0m 25ms/step - accuracy: 0.8023 - loss: 0.4609 - val_accuracy: 0.7989 - val_loss: 0.5125\n"
     ]
    }
   ],
   "source": [
    "n_epochs = 10  # number of epochs to train the neural network\n",
    "# checkpointing based on the validation loss\n",
    "model_checkpoint_callback = tf.keras.callbacks.ModelCheckpoint('model.keras', monitor='val_loss', save_best_only=True, save_weights_only=False, verbose=1)\n",
    "\n",
    "# model training\n",
    "model_history = model.fit(\n",
    "                            x= train_dataset,\n",
    "                            epochs= n_epochs,\n",
    "                            validation_data= val_dataset,\n",
    "                            callbacks=[model_checkpoint_callback])\n",
    "\n",
    "model.load_weights('model.keras')  # load weights back"
   ]
  },
  {
   "cell_type": "code",
   "execution_count": 17,
   "id": "441d442d",
   "metadata": {},
   "outputs": [],
   "source": [
    "# Create TensorFlow datasets for test\n",
    "test_dataset = tf.data.Dataset.from_tensor_slices((test_image_paths, test_labels))\n",
    "\n",
    "# Apply preprocessing and map to TensorFlow dataset\n",
    "test_dataset = test_dataset.map(lambda x, y: (load_img(x), y), num_parallel_calls=tf.data.AUTOTUNE)\n",
    "\n",
    "# Batch and prefetch the datasets for efficiency\n",
    "test_dataset = test_dataset.batch(32).prefetch(tf.data.AUTOTUNE)\n"
   ]
  },
  {
   "cell_type": "code",
   "execution_count": 18,
   "id": "a4aaf3e3",
   "metadata": {},
   "outputs": [
    {
     "name": "stdout",
     "output_type": "stream",
     "text": [
      "\u001b[1m208/208\u001b[0m \u001b[32m━━━━━━━━━━━━━━━━━━━━\u001b[0m\u001b[37m\u001b[0m \u001b[1m4s\u001b[0m 20ms/step - accuracy: 0.8000 - loss: 0.4875\n",
      "Test Loss:  0.48752614855766296\n",
      "Test Accuracy:  0.8000301122665405\n"
     ]
    }
   ],
   "source": [
    "test_history = model.evaluate(test_dataset)\n",
    "print(\"Test Loss: \", test_history[0])\n",
    "print(\"Test Accuracy: \", test_history[1])"
   ]
  },
  {
   "cell_type": "code",
   "execution_count": 19,
   "id": "e788003a",
   "metadata": {},
   "outputs": [
    {
     "name": "stdout",
     "output_type": "stream",
     "text": [
      "\u001b[1m1/1\u001b[0m \u001b[32m━━━━━━━━━━━━━━━━━━━━\u001b[0m\u001b[37m\u001b[0m \u001b[1m0s\u001b[0m 70ms/step\n",
      "\u001b[1m1/1\u001b[0m \u001b[32m━━━━━━━━━━━━━━━━━━━━\u001b[0m\u001b[37m\u001b[0m \u001b[1m0s\u001b[0m 26ms/step\n",
      "\u001b[1m1/1\u001b[0m \u001b[32m━━━━━━━━━━━━━━━━━━━━\u001b[0m\u001b[37m\u001b[0m \u001b[1m0s\u001b[0m 25ms/step\n",
      "\u001b[1m1/1\u001b[0m \u001b[32m━━━━━━━━━━━━━━━━━━━━\u001b[0m\u001b[37m\u001b[0m \u001b[1m0s\u001b[0m 24ms/step\n",
      "\u001b[1m1/1\u001b[0m \u001b[32m━━━━━━━━━━━━━━━━━━━━\u001b[0m\u001b[37m\u001b[0m \u001b[1m0s\u001b[0m 24ms/step\n"
     ]
    },
    {
     "data": {
      "image/png": "[encoded data removed]",
      "text/plain": [
       "<Figure size 1500x500 with 5 Axes>"
      ]
     },
     "metadata": {},
     "output_type": "display_data"
    },
    {
     "name": "stdout",
     "output_type": "stream",
     "text": [
      "D:\\Egyetem_adat\\train_images_small\\train_images_small\\98372408.jpeg\n",
      "D:\\Egyetem_adat\\train_images_small\\train_images_small\\98372408.jpeg\n",
      "D:\\Egyetem_adat\\train_images_small\\train_images_small\\98372408.jpeg\n",
      "D:\\Egyetem_adat\\train_images_small\\train_images_small\\98372408.jpeg\n",
      "D:\\Egyetem_adat\\train_images_small\\train_images_small\\98372408.jpeg\n"
     ]
    }
   ],
   "source": [
    "#show a few results\n",
    "\n",
    "def plot_example_results(model, image_paths, true_labels, num_examples=5):\n",
    "    example_paths = []\n",
    "    # Randomly select a few images\n",
    "    indices = np.random.choice(len(image_paths), size=num_examples, replace=False)\n",
    "    \n",
    "    plt.figure(figsize=(15, 5))\n",
    "    \n",
    "    for i, index in enumerate(indices):\n",
    "        image_path = image_paths[index]\n",
    "        true_label = true_labels[index]\n",
    "        \n",
    "        example_paths.append(image_path)\n",
    "    \n",
    "        image = load_img(image_path)\n",
    "        \n",
    "        # Add the batch dimension\n",
    "        image = tf.expand_dims(image, axis=0)\n",
    "        \n",
    "        # Make a prediction on the image\n",
    "        prediction = model.predict(image)\n",
    "        predicted_label = (prediction > 0.5).astype(int)\n",
    "        \n",
    "        plt.subplot(1, num_examples, i+1)\n",
    "        plt.imshow(image[0])\n",
    "        plt.axis('off')\n",
    "        plt.title(f\"True: {true_label}\\nPred: {predicted_label[0][0]}\")\n",
    "    \n",
    "    plt.show()\n",
    "    \n",
    "    #returns the paths of the examples\n",
    "    return example_paths\n",
    "\n",
    "ex = plot_example_results(model, test_image_paths, test_labels, num_examples=5)\n",
    "\n",
    "#printing the image_path attributes\n",
    "for i in range(len(ex)):\n",
    "    print(ex[1])\n"
   ]
  }
 ],
 "metadata": {
  "accelerator": "GPU",
  "colab": {
   "gpuType": "T4",
   "provenance": []
  },
  "kernelspec": {
   "display_name": "Python 3",
   "name": "python3"
  },
  "language_info": {
   "codemirror_mode": {
    "name": "ipython",
    "version": 3
   },
   "file_extension": ".py",
   "mimetype": "text/x-python",
   "name": "python",
   "nbconvert_exporter": "python",
   "pygments_lexer": "ipython3",
   "version": "3.13.3"
  }
 },
 "nbformat": 4,
 "nbformat_minor": 5
}
